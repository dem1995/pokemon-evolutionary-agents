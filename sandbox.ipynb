{
 "cells": [
  {
   "cell_type": "code",
   "execution_count": 242,
   "metadata": {
    "ExecuteTime": {
     "end_time": "2020-04-11T06:42:58.481925Z",
     "start_time": "2020-04-11T06:42:58.476818Z"
    },
    "scrolled": true
   },
   "outputs": [],
   "source": [
    "from src.core import *\n",
    "from src import DSL\n",
    "import inspect\n",
    "import typing\n",
    "\n",
    "import asyncio\n",
    "\n",
    "from poke_env.player.random_player import RandomPlayer\n",
    "from poke_env.player.utils import cross_evaluate\n",
    "from poke_env.player_configuration import PlayerConfiguration\n",
    "from poke_env.server_configuration import LocalhostServerConfiguration\n",
    "from poke_env.utils import to_id_str\n",
    "from tabulate import tabulate\n",
    "\n",
    "import trueskill\n",
    "import copy\n",
    "from trueskill import Rating, rate_1vs1, quality_1vs1\n",
    "from tqdm.notebook import tqdm\n",
    "import itertools\n",
    "import numpy as np\n",
    "import pandas as pd\n",
    "from pprint import pprint"
   ]
  },
  {
   "cell_type": "code",
   "execution_count": 246,
   "metadata": {
    "ExecuteTime": {
     "end_time": "2020-04-11T06:45:45.995938Z",
     "start_time": "2020-04-11T06:45:45.988130Z"
    }
   },
   "outputs": [],
   "source": [
    "class PlayerWrapper(Player):\n",
    "    def __init__(self, *args, script=None, **kwargs):\n",
    "        super().__init__(*args, **kwargs)\n",
    "        self.script = script\n",
    "        self.rating = Rating()\n",
    "        \n",
    "    def choose_move(self, battle):\n",
    "        try:\n",
    "            move = self.script.choose_move(battle)\n",
    "            return self.create_order(move)\n",
    "        except Exception as e:\n",
    "            print(e)\n",
    "            return self.choose_random_move(battle)\n",
    "            \n",
    "    @classmethod\n",
    "    def from_script(cls, script):\n",
    "        script_name = script.__class__.__name__.replace('_', '')\n",
    "#         script_name = get_node_id()\n",
    "        return cls(\n",
    "            script=script,\n",
    "            player_configuration=PlayerConfiguration(script_name, None),\n",
    "            battle_format=\"gen7randombattle\",\n",
    "            server_configuration=LocalhostServerConfiguration,\n",
    "            max_concurrent_battles=10000,\n",
    "        )"
   ]
  },
  {
   "cell_type": "code",
   "execution_count": 247,
   "metadata": {
    "ExecuteTime": {
     "end_time": "2020-04-11T06:45:46.846113Z",
     "start_time": "2020-04-11T06:45:46.836417Z"
    }
   },
   "outputs": [],
   "source": [
    "async def evaluate_population(population, num_games, verbose=True):\n",
    "    players = population[:]\n",
    "    players_lookup = {player.username: player for player in players}\n",
    "    \n",
    "    for _ in tqdm(range(num_games), disable=not verbose):\n",
    "        random.shuffle(players)\n",
    "        awaitables = []\n",
    "        for p1, p2 in zip(players[0::2], players[1::2]):\n",
    "            send = p1.send_challenges(\n",
    "                opponent=to_id_str(p2.username),\n",
    "                n_challenges=1,\n",
    "                to_wait=p2.logged_in,\n",
    "            )\n",
    "            accept = p2.accept_challenges(\n",
    "                opponent=to_id_str(p1.username),\n",
    "                n_challenges=n_challenges\n",
    "            )\n",
    "            awaitables.append(send)\n",
    "            awaitables.append(accept)\n",
    "        await asyncio.gather(*awaitables)\n",
    "        \n",
    "    battles = sum((list(player.battles.values()) for player in players), [])\n",
    "    \n",
    "    # use TrueSkill\n",
    "#     for battle in battles:\n",
    "#         p1_dict, p2_dict = battle.players\n",
    "#         p1 = players_lookup[p1_dict['username']]\n",
    "#         p2 = players_lookup[p2_dict['username']]\n",
    "        \n",
    "#         if battle.won:\n",
    "#             winner, loser = p1, p2\n",
    "#         else:\n",
    "#             winner, loser = p2, p1\n",
    "#         winner.rating, loser.rating = rate_1vs1(winner.rating, loser.rating)\n",
    "    "
   ]
  },
  {
   "cell_type": "code",
   "execution_count": 248,
   "metadata": {
    "ExecuteTime": {
     "end_time": "2020-04-11T06:45:47.466953Z",
     "start_time": "2020-04-11T06:45:47.464121Z"
    }
   },
   "outputs": [],
   "source": [
    "def get_elites(population, k):\n",
    "    return sorted(population, key=lambda s: s.rating, reverse=True)[:k]"
   ]
  },
  {
   "cell_type": "code",
   "execution_count": 249,
   "metadata": {
    "ExecuteTime": {
     "end_time": "2020-04-11T06:45:47.654428Z",
     "start_time": "2020-04-11T06:45:47.650537Z"
    }
   },
   "outputs": [],
   "source": [
    "def mutate(tree, filter_=None):\n",
    "    tree = copy.deepcopy(tree)\n",
    "    candidates = anytree.search.findall(tree, filter_=filter_)\n",
    "    if candidates:\n",
    "        target = random.choice(candidates)\n",
    "        target.children = []\n",
    "        generate_tree(target)\n",
    "    return tree"
   ]
  },
  {
   "cell_type": "code",
   "execution_count": 250,
   "metadata": {
    "ExecuteTime": {
     "end_time": "2020-04-11T06:45:48.818072Z",
     "start_time": "2020-04-11T06:45:48.815037Z"
    }
   },
   "outputs": [],
   "source": [
    "def get_random_population(k):\n",
    "    return [PlayerWrapper.from_script(exec_tree(get_random_tree()))\n",
    "            for _ in range(k)]"
   ]
  },
  {
   "cell_type": "code",
   "execution_count": 251,
   "metadata": {
    "ExecuteTime": {
     "end_time": "2020-04-11T06:45:49.148819Z",
     "start_time": "2020-04-11T06:45:49.145581Z"
    }
   },
   "outputs": [],
   "source": [
    "def get_population_stats(population):\n",
    "    ratings = pd.Series([player.rating.mu for player in population])\n",
    "    return ratings.describe()"
   ]
  },
  {
   "cell_type": "code",
   "execution_count": 252,
   "metadata": {
    "ExecuteTime": {
     "end_time": "2020-04-11T06:51:01.435740Z",
     "start_time": "2020-04-11T06:45:50.460295Z"
    }
   },
   "outputs": [
    {
     "data": {
      "application/vnd.jupyter.widget-view+json": {
       "model_id": "5526a93925cd476096011328d32fdedd",
       "version_major": 2,
       "version_minor": 0
      },
      "text/plain": [
       "HBox(children=(FloatProgress(value=0.0, max=30.0), HTML(value='')))"
      ]
     },
     "metadata": {},
     "output_type": "display_data"
    },
    {
     "name": "stdout",
     "output_type": "stream",
     "text": [
      "\n"
     ]
    }
   ],
   "source": [
    "num_elites = 3\n",
    "population_cap = 64\n",
    "epochs = 30\n",
    "num_games = 3\n",
    "\n",
    "population = get_random_population(k=population_cap)\n",
    "generation_stats = []\n",
    "for _ in tqdm(range(epochs)):\n",
    "    await evaluate_population(population, num_games=num_games, verbose=False)\n",
    "    generation_stats.append(get_population_stats(population))\n",
    "    next_population = []\n",
    "    next_population.extend(get_elites(population, num_elites))\n",
    "    while len(next_population) < population_cap:\n",
    "        parent = random.choice(population)\n",
    "        child_tree = mutate(parent.script.tree)\n",
    "        player = PlayerWrapper.from_script(exec_tree(child_tree))\n",
    "        next_population.append(player)\n",
    "    population = next_population\n",
    "    for player in population:\n",
    "        player.reset_battles()"
   ]
  },
  {
   "cell_type": "code",
   "execution_count": 260,
   "metadata": {
    "ExecuteTime": {
     "end_time": "2020-04-11T06:52:17.460488Z",
     "start_time": "2020-04-11T06:52:17.456277Z"
    }
   },
   "outputs": [
    {
     "name": "stdout",
     "output_type": "stream",
     "text": [
      "\n",
      "class Script_1673dbfd85594b64883845e3deec1824(Script):\n",
      "    def choose_move(self, battle: Battle):\n",
      "    \n",
      "        available_moves = battle.available_moves\n",
      "        if not available_moves:\n",
      "            return random.choice(battle.available_switches)\n",
      "            \n",
      "        dsl = DSL(battle)\n",
      "        move_scores = []\n",
      "        for move in battle.available_moves:\n",
      "            score = 0\n",
      "            if ((dsl.player_base_speed() >= 201)):\n",
      "                score += -1\n",
      "            if ((dsl.check_move_sunny(move) and (dsl.move_base_power(move) <= 100))):\n",
      "                score += 3\n",
      "            move_scores.append(score)\n",
      "            \n",
      "        best_move = available_moves[move_scores.index(max(move_scores))]\n",
      "        return best_move\n",
      "\n"
     ]
    }
   ],
   "source": [
    "print(sorted(population, key=lambda s: s.rating, reverse=True)[0].script.raw_script)"
   ]
  },
  {
   "cell_type": "code",
   "execution_count": 253,
   "metadata": {
    "ExecuteTime": {
     "end_time": "2020-04-11T06:51:07.243157Z",
     "start_time": "2020-04-11T06:51:07.234896Z"
    }
   },
   "outputs": [
    {
     "name": "stdout",
     "output_type": "stream",
     "text": [
      "Generation #0\n",
      "24.53175125285526\n",
      "\n",
      "\n",
      "Generation #1\n",
      "25.261722688486365\n",
      "\n",
      "\n",
      "Generation #2\n",
      "25.43930733808498\n",
      "\n",
      "\n",
      "Generation #3\n",
      "25.192599233364966\n",
      "\n",
      "\n",
      "Generation #4\n",
      "25.676552319956542\n",
      "\n",
      "\n",
      "Generation #5\n",
      "25.507149153603304\n",
      "\n",
      "\n",
      "Generation #6\n",
      "24.935915690480915\n",
      "\n",
      "\n",
      "Generation #7\n",
      "25.468579686021506\n",
      "\n",
      "\n",
      "Generation #8\n",
      "24.99644234485048\n",
      "\n",
      "\n",
      "Generation #9\n",
      "25.183236153844444\n",
      "\n",
      "\n",
      "Generation #10\n",
      "24.78367062579131\n",
      "\n",
      "\n",
      "Generation #11\n",
      "24.819767250713834\n",
      "\n",
      "\n",
      "Generation #12\n",
      "25.406090721908182\n",
      "\n",
      "\n",
      "Generation #13\n",
      "25.53504548564748\n",
      "\n",
      "\n",
      "Generation #14\n",
      "25.946255080263924\n",
      "\n",
      "\n",
      "Generation #15\n",
      "25.31194091999302\n",
      "\n",
      "\n",
      "Generation #16\n",
      "25.393260918553885\n",
      "\n",
      "\n",
      "Generation #17\n",
      "26.002730504801512\n",
      "\n",
      "\n",
      "Generation #18\n",
      "25.69446666956602\n",
      "\n",
      "\n",
      "Generation #19\n",
      "25.455299148586466\n",
      "\n",
      "\n",
      "Generation #20\n",
      "25.426940127292493\n",
      "\n",
      "\n",
      "Generation #21\n",
      "25.356914909965496\n",
      "\n",
      "\n",
      "Generation #22\n",
      "25.68322634919972\n",
      "\n",
      "\n",
      "Generation #23\n",
      "25.327248715394255\n",
      "\n",
      "\n",
      "Generation #24\n",
      "24.573262071249886\n",
      "\n",
      "\n",
      "Generation #25\n",
      "25.44144026299243\n",
      "\n",
      "\n",
      "Generation #26\n",
      "24.917163753506514\n",
      "\n",
      "\n",
      "Generation #27\n",
      "24.839076864680138\n",
      "\n",
      "\n",
      "Generation #28\n",
      "25.419920042940362\n",
      "\n",
      "\n",
      "Generation #29\n",
      "25.110221707197006\n",
      "\n",
      "\n"
     ]
    }
   ],
   "source": [
    "for i, stat in enumerate(generation_stats):\n",
    "    print(f\"Generation #{i}\")\n",
    "    print(stat['mean'])\n",
    "    print()\n",
    "    print()"
   ]
  },
  {
   "cell_type": "code",
   "execution_count": null,
   "metadata": {},
   "outputs": [],
   "source": []
  }
 ],
 "metadata": {
  "hide_input": false,
  "kernelspec": {
   "display_name": "cmput_659_final",
   "language": "python",
   "name": "cmput_659_final"
  },
  "language_info": {
   "codemirror_mode": {
    "name": "ipython",
    "version": 3
   },
   "file_extension": ".py",
   "mimetype": "text/x-python",
   "name": "python",
   "nbconvert_exporter": "python",
   "pygments_lexer": "ipython3",
   "version": "3.7.5"
  },
  "pycharm": {
   "stem_cell": {
    "cell_type": "raw",
    "metadata": {
     "collapsed": false
    },
    "source": []
   }
  },
  "toc": {
   "base_numbering": 1,
   "nav_menu": {},
   "number_sections": true,
   "sideBar": true,
   "skip_h1_title": false,
   "title_cell": "Table of Contents",
   "title_sidebar": "Contents",
   "toc_cell": false,
   "toc_position": {},
   "toc_section_display": true,
   "toc_window_display": false
  }
 },
 "nbformat": 4,
 "nbformat_minor": 2
}
