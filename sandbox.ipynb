{
 "cells": [
  {
   "cell_type": "code",
   "execution_count": 1,
   "metadata": {
    "ExecuteTime": {
     "end_time": "2020-04-14T22:17:14.073060Z",
     "start_time": "2020-04-14T22:17:13.555299Z"
    },
    "scrolled": true
   },
   "outputs": [
    {
     "name": "stdout",
     "output_type": "stream",
     "text": [
      "[None, ['dsl.check_move_boosts_stat', 'move', <RULE.BATTLE_STAT_CATEGORY: 21>], ['dsl.check_move_inflicts_status_condition', 'move', <RULE.OPTIONAL_STATUS: 23>], ['dsl.check_move_is_gyro_ball', 'move'], ['dsl.check_move_rainy', 'move'], ['dsl.check_move_sds_always', 'move'], ['dsl.check_move_sds_if_hits_opp', 'move'], ['dsl.check_move_sunny', 'move'], ['dsl.get_weather', <RULE.ENUM_COMPARATOR: 25>, <RULE.OPTIONAL_WEATHER: 27>], ['dsl.gets_stab', 'move'], ['dsl.move_accuracy', 'move', <RULE.NUM_COMPARATOR: 24>, <RULE.PERCENTAGE_VALUE_INT_NUM: 19>], ['dsl.move_base_power', 'move', <RULE.NUM_COMPARATOR: 24>, <RULE.MOVE_POWER_INT_NUM: 18>], ['dsl.move_is_physical', 'move'], ['dsl.move_is_special', 'move'], ['dsl.move_is_status', 'move'], ['dsl.move_type', 'move', <RULE.ENUM_COMPARATOR: 25>, <RULE.POKEMON_TYPE: 26>], ['dsl.opp_has_status_effect', <RULE.OPTIONAL_STATUS: 23>], ['dsl.opp_health_percent', <RULE.NUM_COMPARATOR: 24>, <RULE.PERCENTAGE_VALUE_INT_NUM: 19>], ['dsl.opponent_base_stat', <RULE.BASE_STAT_CATEGORY: 20>, <RULE.NUM_COMPARATOR: 24>, <RULE.STAT_VALUE_INT_NUM: 17>], ['dsl.opponent_battle_stat_modifier', <RULE.BATTLE_STAT_CATEGORY: 21>, <RULE.NUM_COMPARATOR: 24>, <RULE.BATTLE_STAT_MODIFIER: 22>], ['dsl.player_base_stat', <RULE.BASE_STAT_CATEGORY: 20>, <RULE.NUM_COMPARATOR: 24>, <RULE.STAT_VALUE_INT_NUM: 17>], ['dsl.player_battle_stat_modifier', <RULE.BATTLE_STAT_CATEGORY: 21>, <RULE.NUM_COMPARATOR: 24>, <RULE.BATTLE_STAT_MODIFIER: 22>], ['dsl.player_has_status_effect', <RULE.OPTIONAL_STATUS: 23>], ['dsl.player_health_percent', <RULE.NUM_COMPARATOR: 24>, <RULE.PERCENTAGE_VALUE_INT_NUM: 19>], ['dsl.type_multiplier', 'move', <RULE.NUM_COMPARATOR: 24>, <RULE.TYPE_MULTIPLIER_FLOAT_NUM: 16>]]\n"
     ]
    }
   ],
   "source": [
    "from src.core import *\n",
    "from src import DSL\n",
    "import inspect\n",
    "import typing\n",
    "\n",
    "import asyncio\n",
    "\n",
    "from poke_env.player.random_player import RandomPlayer\n",
    "from poke_env.player.utils import cross_evaluate\n",
    "from poke_env.player_configuration import PlayerConfiguration\n",
    "from poke_env.server_configuration import LocalhostServerConfiguration\n",
    "from poke_env.utils import to_id_str\n",
    "from tabulate import tabulate\n",
    "\n",
    "import trueskill\n",
    "import copy\n",
    "from trueskill import Rating, rate_1vs1, quality_1vs1\n",
    "from tqdm.notebook import tqdm\n",
    "import itertools\n",
    "import numpy as np\n",
    "import pandas as pd\n",
    "from pprint import pprint\n",
    "\n",
    "\n",
    "import logging\n",
    "# from aiologger.handlers.files import AsyncFileHandler\n",
    "# from aiologger.handlers.files import AsyncFileHandler\n",
    "from tempfile import NamedTemporaryFile\n",
    "\n",
    "from pathlib import Path\n",
    "import pickle\n",
    "import dill\n",
    "import gc\n",
    "import math\n",
    "import datetime"
   ]
  },
  {
   "cell_type": "code",
   "execution_count": 2,
   "metadata": {
    "ExecuteTime": {
     "end_time": "2020-04-14T22:17:14.079992Z",
     "start_time": "2020-04-14T22:17:14.074980Z"
    }
   },
   "outputs": [],
   "source": [
    "class PlayerWrapper(Player):\n",
    "    def __init__(self, *args, **kwargs):\n",
    "        super().__init__(\n",
    "            player_configuration=PlayerConfiguration(get_node_id(), None),\n",
    "            battle_format=\"gen7randombattle\",\n",
    "            server_configuration=LocalhostServerConfiguration,\n",
    "            max_concurrent_battles=100000000,\n",
    "        )\n",
    "        self.script = None\n",
    "        \n",
    "#         self.log_file = NamedTemporaryFile()\n",
    "#         self.patch_logger()\n",
    "    \n",
    "#     def patch_logger(self):\n",
    "#         self.logger.removeHandler(self.logger.handlers[0])\n",
    "#         self.logger.addHandler(logging.FileHandler(self.log_file.name))\n",
    "#         self.logger.\n",
    "        \n",
    "    def choose_move(self, battle):\n",
    "        try:\n",
    "            move = self.script.choose_move(battle)\n",
    "            return self.create_order(move)\n",
    "        except Exception as e:\n",
    "            print(e)\n",
    "            return self.choose_random_move(battle)"
   ]
  },
  {
   "cell_type": "code",
   "execution_count": 3,
   "metadata": {
    "ExecuteTime": {
     "end_time": "2020-04-14T22:17:14.421864Z",
     "start_time": "2020-04-14T22:17:14.174171Z"
    }
   },
   "outputs": [],
   "source": [
    "chunk_size = 3000\n",
    "shared_players = [PlayerWrapper() for _ in range(chunk_size)]\n",
    "player_lookup = {player.username: player for player in shared_players}"
   ]
  },
  {
   "cell_type": "code",
   "execution_count": 4,
   "metadata": {
    "ExecuteTime": {
     "end_time": "2020-04-14T22:17:15.222096Z",
     "start_time": "2020-04-14T22:17:15.204909Z"
    }
   },
   "outputs": [],
   "source": [
    "async def evaluate_population(population, num_games, verbose=True):\n",
    "    for script in population:\n",
    "        script.rating = Rating()\n",
    "    \n",
    "    num_players = min(chunk_size, len(population))\n",
    "    players = shared_players[:num_players]\n",
    "    num_chunks = int(math.ceil(len(population) / chunk_size))\n",
    "    chunks = [population[i * chunk_size : (i + 1) * chunk_size] for i in range(num_chunks)]\n",
    "    \n",
    "    for chunk_idx, population in enumerate(chunks):\n",
    "        if num_chunks > 1:\n",
    "            print(f\"chunk {chunk_idx + 1} / {num_chunks}\")\n",
    "        \n",
    "        for i, script in enumerate(population):\n",
    "            players[i].script = script\n",
    "        \n",
    "        for _ in tqdm(range(num_games), disable=not verbose):\n",
    "            random.shuffle(players)\n",
    "            awaitables = []\n",
    "            for p1, p2 in zip(players[0::2], players[1::2]):\n",
    "                send = p1.send_challenges(\n",
    "                    opponent=to_id_str(p2.username),\n",
    "                    n_challenges=1,\n",
    "                    to_wait=p2.logged_in,\n",
    "                )\n",
    "                accept = p2.accept_challenges(\n",
    "                    opponent=to_id_str(p1.username),\n",
    "                    n_challenges=1,\n",
    "                )\n",
    "                awaitables.append(send)\n",
    "                awaitables.append(accept)\n",
    "            await asyncio.gather(*awaitables)\n",
    "\n",
    "        battles = sum((list(player.battles.values()) for player in players), [])\n",
    "        \n",
    "        for battle in battles:\n",
    "            player = player_lookup[battle.player_username]\n",
    "            oppo = player_lookup[battle._opponent_username]\n",
    "\n",
    "            if battle.won:\n",
    "                winner, loser = player, oppo\n",
    "            else:\n",
    "                winner, loser = oppo, player\n",
    "            winner.script.rating, loser.script.rating = rate_1vs1(winner.script.rating, loser.script.rating)\n",
    "        \n",
    "        for player in players:\n",
    "            player.reset_battles()\n",
    "\n",
    "    del players\n",
    "    gc.collect()"
   ]
  },
  {
   "cell_type": "code",
   "execution_count": 5,
   "metadata": {
    "ExecuteTime": {
     "end_time": "2020-04-14T22:17:16.014232Z",
     "start_time": "2020-04-14T22:17:16.010866Z"
    }
   },
   "outputs": [],
   "source": [
    "def sort_population(population):\n",
    "    return sorted(population, key=lambda p: p.rating.mu, reverse=True)"
   ]
  },
  {
   "cell_type": "code",
   "execution_count": 6,
   "metadata": {
    "ExecuteTime": {
     "end_time": "2020-04-14T22:17:16.215484Z",
     "start_time": "2020-04-14T22:17:16.212816Z"
    }
   },
   "outputs": [],
   "source": [
    "def get_elites(population, num_elites):\n",
    "    return sort_population(population)[:num_elites]"
   ]
  },
  {
   "cell_type": "code",
   "execution_count": 7,
   "metadata": {
    "ExecuteTime": {
     "end_time": "2020-04-14T22:17:16.424038Z",
     "start_time": "2020-04-14T22:17:16.421049Z"
    }
   },
   "outputs": [],
   "source": [
    "def get_tournament_elites(population, tournament_size, num_elites):\n",
    "    tournament = random.sample(population, tournament_size)\n",
    "    return get_elites(tournament, num_elites)"
   ]
  },
  {
   "cell_type": "code",
   "execution_count": 8,
   "metadata": {
    "ExecuteTime": {
     "end_time": "2020-04-14T22:17:16.628926Z",
     "start_time": "2020-04-14T22:17:16.624276Z"
    }
   },
   "outputs": [],
   "source": [
    "def mutate(tree, filter_=None):\n",
    "    if not filter_:\n",
    "        filter_ = lambda x: type(x) is not str\n",
    "    tree = copy.deepcopy(tree)\n",
    "    candidates = anytree.search.findall(tree, filter_=filter_)\n",
    "    if candidates:\n",
    "        target = random.choice(candidates)\n",
    "        target.children = []\n",
    "        generate_tree(target)\n",
    "    return tree"
   ]
  },
  {
   "cell_type": "code",
   "execution_count": 9,
   "metadata": {
    "ExecuteTime": {
     "end_time": "2020-04-14T22:17:16.914484Z",
     "start_time": "2020-04-14T22:17:16.906818Z"
    }
   },
   "outputs": [],
   "source": [
    "def crossover(left, right):\n",
    "    def _is_valid_subtree_head(node):\n",
    "#         return node.name in [RULE.IF_BLOCK]\n",
    "        return True\n",
    "\n",
    "    def _find_head_types(root):\n",
    "        return [node.name for node in anytree.search.findall(root, filter_=_is_valid_subtree_head)]\n",
    "\n",
    "    def _select_type_node(root, type_):\n",
    "        candidates = anytree.search.findall(root, filter_=lambda node: node.name == type_)\n",
    "        return random.choice(candidates)\n",
    "    \n",
    "    def _swap_children(left, right):\n",
    "        left.children, right.children = right.children, left.children\n",
    "        \n",
    "    left = copy.deepcopy(left)\n",
    "    right = copy.deepcopy(right)\n",
    "\n",
    "    left_head_types = _find_head_types(left)\n",
    "    right_head_types = _find_head_types(right)\n",
    "\n",
    "    type_intersection = list(set(left_head_types) & set(right_head_types))\n",
    "    if type_intersection:\n",
    "        type_to_swap = random.choice(type_intersection)\n",
    "        left_head = _select_type_node(left, type_to_swap)\n",
    "        right_head = _select_type_node(right, type_to_swap)\n",
    "        _swap_children(left_head, right_head)\n",
    "    return left, right"
   ]
  },
  {
   "cell_type": "code",
   "execution_count": 10,
   "metadata": {
    "ExecuteTime": {
     "end_time": "2020-04-14T22:17:17.197430Z",
     "start_time": "2020-04-14T22:17:17.194542Z"
    }
   },
   "outputs": [],
   "source": [
    "def get_random_population(population_size):\n",
    "    return [exec_tree(get_random_tree()) for _ in range(population_size)]"
   ]
  },
  {
   "cell_type": "code",
   "execution_count": 11,
   "metadata": {
    "ExecuteTime": {
     "end_time": "2020-04-14T22:17:17.551889Z",
     "start_time": "2020-04-14T22:17:17.549639Z"
    }
   },
   "outputs": [],
   "source": [
    "# def get_population_stats(population):\n",
    "#     ratings = pd.Series([player.rating.mu for player in population])\n",
    "#     return ratings.describe()"
   ]
  },
  {
   "cell_type": "code",
   "execution_count": 12,
   "metadata": {
    "ExecuteTime": {
     "end_time": "2020-04-14T22:17:17.812671Z",
     "start_time": "2020-04-14T22:17:17.807383Z"
    }
   },
   "outputs": [],
   "source": [
    "def save_population(population, fname):\n",
    "    path = Path('temp_scripts').joinpath(fname)\n",
    "    with open(path, 'wb') as f:\n",
    "        dill.dump([player.tree for player in population], f)\n",
    "            \n",
    "def load_population(fname):\n",
    "    path = Path('temp_scripts').joinpath(fname)\n",
    "    with open(path, 'rb') as f:\n",
    "        return [exec_tree(tree) for tree in dill.load(f)]"
   ]
  },
  {
   "cell_type": "code",
   "execution_count": 13,
   "metadata": {
    "ExecuteTime": {
     "end_time": "2020-04-14T22:17:18.064798Z",
     "start_time": "2020-04-14T22:17:18.060128Z"
    }
   },
   "outputs": [],
   "source": [
    "def save_stats(stats, fname):\n",
    "    path = Path('temp_stats').joinpath(fname)\n",
    "    with open(path, 'wb') as f:\n",
    "        dill.dump(stats, f)\n",
    "            \n",
    "def load_stats(fname):\n",
    "    path = Path('temp_stats').joinpath(fname)\n",
    "    with open(path, 'rb') as f:\n",
    "        return dill.load(f)"
   ]
  },
  {
   "cell_type": "markdown",
   "metadata": {},
   "source": [
    "# Evolve"
   ]
  },
  {
   "cell_type": "code",
   "execution_count": 14,
   "metadata": {
    "ExecuteTime": {
     "end_time": "2020-04-14T21:41:16.574068Z",
     "start_time": "2020-04-14T21:41:16.571262Z"
    }
   },
   "outputs": [],
   "source": [
    "def get_fname(\n",
    "    num_elites,\n",
    "    tournament_size,\n",
    "    population_cap,\n",
    "    epochs,\n",
    "    num_games,\n",
    "    index\n",
    "):\n",
    "    return f\"e_{num_elites}_t_{tournament_size}_k_{population_cap}_g_{epochs}_n_{num_games}_{index}.dill\""
   ]
  },
  {
   "cell_type": "code",
   "execution_count": 15,
   "metadata": {
    "ExecuteTime": {
     "end_time": "2020-04-14T21:41:17.247461Z",
     "start_time": "2020-04-14T21:41:17.239817Z"
    }
   },
   "outputs": [],
   "source": [
    "async def run(\n",
    "    num_elites,\n",
    "    tournament_size,\n",
    "    population_cap,\n",
    "    epochs,\n",
    "    num_games\n",
    "):\n",
    "    population = get_random_population(population_size=population_cap)\n",
    "    generations = []\n",
    "    for i in tqdm(range(epochs)):\n",
    "        fname = get_fname(num_elites, tournament_size, population_cap, epochs, num_games, i)\n",
    "        save_population(population, fname)\n",
    "        await evaluate_population(population, num_games=num_games, verbose=False)\n",
    "        generations.append([copy.deepcopy(script) for script in population])\n",
    "        next_population = []\n",
    "        next_population.extend(get_elites(population, num_elites))\n",
    "        while len(next_population) < population_cap:\n",
    "            left, right = get_tournament_elites(population, tournament_size, 2)\n",
    "            children = crossover(left.tree, right.tree)\n",
    "            for child_tree in children:\n",
    "                child_tree = mutate(child_tree)\n",
    "                next_population.append(exec_tree(child_tree))\n",
    "        population = next_population[:population_cap]\n",
    "        gc.collect()"
   ]
  },
  {
   "cell_type": "code",
   "execution_count": 16,
   "metadata": {
    "ExecuteTime": {
     "end_time": "2020-04-14T21:41:22.285138Z",
     "start_time": "2020-04-14T21:41:22.281466Z"
    }
   },
   "outputs": [],
   "source": [
    "epochs = 30\n",
    "tournament_size = 5\n",
    "\n",
    "parameter_sets = [\n",
    "#     (4, 32, 5),\n",
    "    \n",
    "#     (2, 32, 5),\n",
    "#     (4, 32, 5),\n",
    "    \n",
    "#     (4, 24, 5),\n",
    "    \n",
    "    (2, 36, 10),\n",
    "#     (4, 60, 2),\n",
    "#     (4, 80, 2),\n",
    "    \n",
    "#     (4, 32, 8),\n",
    "#     (4, 32, 12),\n",
    "]"
   ]
  },
  {
   "cell_type": "code",
   "execution_count": 17,
   "metadata": {
    "ExecuteTime": {
     "end_time": "2020-04-14T21:41:24.127082Z",
     "start_time": "2020-04-14T21:41:23.925251Z"
    },
    "scrolled": true
   },
   "outputs": [
    {
     "ename": "ValueError",
     "evalue": "",
     "output_type": "error",
     "traceback": [
      "\u001b[1;31m---------------------------------------------------------------------------\u001b[0m",
      "\u001b[1;31mValueError\u001b[0m                                Traceback (most recent call last)",
      "\u001b[1;32m<ipython-input-17-aafaa7cd101e>\u001b[0m in \u001b[0;36masync-def-wrapper\u001b[1;34m()\u001b[0m\n\u001b[0;32m      8\u001b[0m     )\n",
      "\u001b[1;32m<ipython-input-15-d6395da042b3>\u001b[0m in \u001b[0;36mrun\u001b[1;34m(num_elites, tournament_size, population_cap, epochs, num_games)\u001b[0m\n\u001b[0;32m      6\u001b[0m     \u001b[0mnum_games\u001b[0m\u001b[1;33m\u001b[0m\u001b[1;33m\u001b[0m\u001b[0m\n\u001b[0;32m      7\u001b[0m ):\n\u001b[1;32m----> 8\u001b[1;33m     \u001b[0mpopulation\u001b[0m \u001b[1;33m=\u001b[0m \u001b[0mget_random_population\u001b[0m\u001b[1;33m(\u001b[0m\u001b[0mpopulation_size\u001b[0m\u001b[1;33m=\u001b[0m\u001b[0mpopulation_cap\u001b[0m\u001b[1;33m)\u001b[0m\u001b[1;33m\u001b[0m\u001b[1;33m\u001b[0m\u001b[0m\n\u001b[0m\u001b[0;32m      9\u001b[0m     \u001b[0mgenerations\u001b[0m \u001b[1;33m=\u001b[0m \u001b[1;33m[\u001b[0m\u001b[1;33m]\u001b[0m\u001b[1;33m\u001b[0m\u001b[1;33m\u001b[0m\u001b[0m\n\u001b[0;32m     10\u001b[0m     \u001b[1;32mfor\u001b[0m \u001b[0mi\u001b[0m \u001b[1;32min\u001b[0m \u001b[0mtqdm\u001b[0m\u001b[1;33m(\u001b[0m\u001b[0mrange\u001b[0m\u001b[1;33m(\u001b[0m\u001b[0mepochs\u001b[0m\u001b[1;33m)\u001b[0m\u001b[1;33m)\u001b[0m\u001b[1;33m:\u001b[0m\u001b[1;33m\u001b[0m\u001b[1;33m\u001b[0m\u001b[0m\n",
      "\u001b[1;32m<ipython-input-10-2dc6d4d8097b>\u001b[0m in \u001b[0;36mget_random_population\u001b[1;34m(population_size)\u001b[0m\n\u001b[0;32m      1\u001b[0m \u001b[1;32mdef\u001b[0m \u001b[0mget_random_population\u001b[0m\u001b[1;33m(\u001b[0m\u001b[0mpopulation_size\u001b[0m\u001b[1;33m)\u001b[0m\u001b[1;33m:\u001b[0m\u001b[1;33m\u001b[0m\u001b[1;33m\u001b[0m\u001b[0m\n\u001b[1;32m----> 2\u001b[1;33m     \u001b[1;32mreturn\u001b[0m \u001b[1;33m[\u001b[0m\u001b[0mexec_tree\u001b[0m\u001b[1;33m(\u001b[0m\u001b[0mget_random_tree\u001b[0m\u001b[1;33m(\u001b[0m\u001b[1;33m)\u001b[0m\u001b[1;33m)\u001b[0m \u001b[1;32mfor\u001b[0m \u001b[0m_\u001b[0m \u001b[1;32min\u001b[0m \u001b[0mrange\u001b[0m\u001b[1;33m(\u001b[0m\u001b[0mpopulation_size\u001b[0m\u001b[1;33m)\u001b[0m\u001b[1;33m]\u001b[0m\u001b[1;33m\u001b[0m\u001b[1;33m\u001b[0m\u001b[0m\n\u001b[0m",
      "\u001b[1;32m<ipython-input-10-2dc6d4d8097b>\u001b[0m in \u001b[0;36m<listcomp>\u001b[1;34m(.0)\u001b[0m\n\u001b[0;32m      1\u001b[0m \u001b[1;32mdef\u001b[0m \u001b[0mget_random_population\u001b[0m\u001b[1;33m(\u001b[0m\u001b[0mpopulation_size\u001b[0m\u001b[1;33m)\u001b[0m\u001b[1;33m:\u001b[0m\u001b[1;33m\u001b[0m\u001b[1;33m\u001b[0m\u001b[0m\n\u001b[1;32m----> 2\u001b[1;33m     \u001b[1;32mreturn\u001b[0m \u001b[1;33m[\u001b[0m\u001b[0mexec_tree\u001b[0m\u001b[1;33m(\u001b[0m\u001b[0mget_random_tree\u001b[0m\u001b[1;33m(\u001b[0m\u001b[1;33m)\u001b[0m\u001b[1;33m)\u001b[0m \u001b[1;32mfor\u001b[0m \u001b[0m_\u001b[0m \u001b[1;32min\u001b[0m \u001b[0mrange\u001b[0m\u001b[1;33m(\u001b[0m\u001b[0mpopulation_size\u001b[0m\u001b[1;33m)\u001b[0m\u001b[1;33m]\u001b[0m\u001b[1;33m\u001b[0m\u001b[1;33m\u001b[0m\u001b[0m\n\u001b[0m",
      "\u001b[1;32m~/GoogleDrive/uofa/courses/cmput_659/final/src/core.py\u001b[0m in \u001b[0;36mget_random_tree\u001b[1;34m(seed)\u001b[0m\n\u001b[0;32m    276\u001b[0m         \u001b[0mrandom\u001b[0m\u001b[1;33m.\u001b[0m\u001b[0mseed\u001b[0m\u001b[1;33m(\u001b[0m\u001b[0mseed\u001b[0m\u001b[1;33m)\u001b[0m\u001b[1;33m\u001b[0m\u001b[1;33m\u001b[0m\u001b[0m\n\u001b[0;32m    277\u001b[0m     \u001b[0mroot\u001b[0m \u001b[1;33m=\u001b[0m \u001b[0mNode\u001b[0m\u001b[1;33m(\u001b[0m\u001b[0mRULE\u001b[0m\u001b[1;33m.\u001b[0m\u001b[0mSTART\u001b[0m\u001b[1;33m)\u001b[0m\u001b[1;33m\u001b[0m\u001b[1;33m\u001b[0m\u001b[0m\n\u001b[1;32m--> 278\u001b[1;33m     \u001b[0mtree\u001b[0m \u001b[1;33m=\u001b[0m \u001b[0mgenerate_tree\u001b[0m\u001b[1;33m(\u001b[0m\u001b[0mroot\u001b[0m\u001b[1;33m)\u001b[0m\u001b[1;33m\u001b[0m\u001b[1;33m\u001b[0m\u001b[0m\n\u001b[0m\u001b[0;32m    279\u001b[0m \u001b[1;33m\u001b[0m\u001b[0m\n\u001b[0;32m    280\u001b[0m     \u001b[1;32mreturn\u001b[0m \u001b[0mtree\u001b[0m\u001b[1;33m\u001b[0m\u001b[1;33m\u001b[0m\u001b[0m\n",
      "\u001b[1;32m~/GoogleDrive/uofa/courses/cmput_659/final/src/core.py\u001b[0m in \u001b[0;36mgenerate_tree\u001b[1;34m(root)\u001b[0m\n\u001b[0;32m    268\u001b[0m     \u001b[1;32mfor\u001b[0m \u001b[0mcandidate\u001b[0m \u001b[1;32min\u001b[0m \u001b[0mcandidates\u001b[0m\u001b[1;33m:\u001b[0m\u001b[1;33m\u001b[0m\u001b[1;33m\u001b[0m\u001b[0m\n\u001b[0;32m    269\u001b[0m         \u001b[0mchild\u001b[0m \u001b[1;33m=\u001b[0m \u001b[0mNode\u001b[0m\u001b[1;33m(\u001b[0m\u001b[0mcandidate\u001b[0m\u001b[1;33m,\u001b[0m \u001b[0mparent\u001b[0m\u001b[1;33m=\u001b[0m\u001b[0mroot\u001b[0m\u001b[1;33m)\u001b[0m\u001b[1;33m\u001b[0m\u001b[1;33m\u001b[0m\u001b[0m\n\u001b[1;32m--> 270\u001b[1;33m         \u001b[0mgenerate_tree\u001b[0m\u001b[1;33m(\u001b[0m\u001b[0mchild\u001b[0m\u001b[1;33m)\u001b[0m\u001b[1;33m\u001b[0m\u001b[1;33m\u001b[0m\u001b[0m\n\u001b[0m\u001b[0;32m    271\u001b[0m     \u001b[1;32mreturn\u001b[0m \u001b[0mroot\u001b[0m\u001b[1;33m\u001b[0m\u001b[1;33m\u001b[0m\u001b[0m\n\u001b[0;32m    272\u001b[0m \u001b[1;33m\u001b[0m\u001b[0m\n",
      "\u001b[1;32m~/GoogleDrive/uofa/courses/cmput_659/final/src/core.py\u001b[0m in \u001b[0;36mgenerate_tree\u001b[1;34m(root)\u001b[0m\n\u001b[0;32m    268\u001b[0m     \u001b[1;32mfor\u001b[0m \u001b[0mcandidate\u001b[0m \u001b[1;32min\u001b[0m \u001b[0mcandidates\u001b[0m\u001b[1;33m:\u001b[0m\u001b[1;33m\u001b[0m\u001b[1;33m\u001b[0m\u001b[0m\n\u001b[0;32m    269\u001b[0m         \u001b[0mchild\u001b[0m \u001b[1;33m=\u001b[0m \u001b[0mNode\u001b[0m\u001b[1;33m(\u001b[0m\u001b[0mcandidate\u001b[0m\u001b[1;33m,\u001b[0m \u001b[0mparent\u001b[0m\u001b[1;33m=\u001b[0m\u001b[0mroot\u001b[0m\u001b[1;33m)\u001b[0m\u001b[1;33m\u001b[0m\u001b[1;33m\u001b[0m\u001b[0m\n\u001b[1;32m--> 270\u001b[1;33m         \u001b[0mgenerate_tree\u001b[0m\u001b[1;33m(\u001b[0m\u001b[0mchild\u001b[0m\u001b[1;33m)\u001b[0m\u001b[1;33m\u001b[0m\u001b[1;33m\u001b[0m\u001b[0m\n\u001b[0m\u001b[0;32m    271\u001b[0m     \u001b[1;32mreturn\u001b[0m \u001b[0mroot\u001b[0m\u001b[1;33m\u001b[0m\u001b[1;33m\u001b[0m\u001b[0m\n\u001b[0;32m    272\u001b[0m \u001b[1;33m\u001b[0m\u001b[0m\n",
      "\u001b[1;32m~/GoogleDrive/uofa/courses/cmput_659/final/src/core.py\u001b[0m in \u001b[0;36mgenerate_tree\u001b[1;34m(root)\u001b[0m\n\u001b[0;32m    268\u001b[0m     \u001b[1;32mfor\u001b[0m \u001b[0mcandidate\u001b[0m \u001b[1;32min\u001b[0m \u001b[0mcandidates\u001b[0m\u001b[1;33m:\u001b[0m\u001b[1;33m\u001b[0m\u001b[1;33m\u001b[0m\u001b[0m\n\u001b[0;32m    269\u001b[0m         \u001b[0mchild\u001b[0m \u001b[1;33m=\u001b[0m \u001b[0mNode\u001b[0m\u001b[1;33m(\u001b[0m\u001b[0mcandidate\u001b[0m\u001b[1;33m,\u001b[0m \u001b[0mparent\u001b[0m\u001b[1;33m=\u001b[0m\u001b[0mroot\u001b[0m\u001b[1;33m)\u001b[0m\u001b[1;33m\u001b[0m\u001b[1;33m\u001b[0m\u001b[0m\n\u001b[1;32m--> 270\u001b[1;33m         \u001b[0mgenerate_tree\u001b[0m\u001b[1;33m(\u001b[0m\u001b[0mchild\u001b[0m\u001b[1;33m)\u001b[0m\u001b[1;33m\u001b[0m\u001b[1;33m\u001b[0m\u001b[0m\n\u001b[0m\u001b[0;32m    271\u001b[0m     \u001b[1;32mreturn\u001b[0m \u001b[0mroot\u001b[0m\u001b[1;33m\u001b[0m\u001b[1;33m\u001b[0m\u001b[0m\n\u001b[0;32m    272\u001b[0m \u001b[1;33m\u001b[0m\u001b[0m\n",
      "\u001b[1;32m~/GoogleDrive/uofa/courses/cmput_659/final/src/core.py\u001b[0m in \u001b[0;36mgenerate_tree\u001b[1;34m(root)\u001b[0m\n\u001b[0;32m    268\u001b[0m     \u001b[1;32mfor\u001b[0m \u001b[0mcandidate\u001b[0m \u001b[1;32min\u001b[0m \u001b[0mcandidates\u001b[0m\u001b[1;33m:\u001b[0m\u001b[1;33m\u001b[0m\u001b[1;33m\u001b[0m\u001b[0m\n\u001b[0;32m    269\u001b[0m         \u001b[0mchild\u001b[0m \u001b[1;33m=\u001b[0m \u001b[0mNode\u001b[0m\u001b[1;33m(\u001b[0m\u001b[0mcandidate\u001b[0m\u001b[1;33m,\u001b[0m \u001b[0mparent\u001b[0m\u001b[1;33m=\u001b[0m\u001b[0mroot\u001b[0m\u001b[1;33m)\u001b[0m\u001b[1;33m\u001b[0m\u001b[1;33m\u001b[0m\u001b[0m\n\u001b[1;32m--> 270\u001b[1;33m         \u001b[0mgenerate_tree\u001b[0m\u001b[1;33m(\u001b[0m\u001b[0mchild\u001b[0m\u001b[1;33m)\u001b[0m\u001b[1;33m\u001b[0m\u001b[1;33m\u001b[0m\u001b[0m\n\u001b[0m\u001b[0;32m    271\u001b[0m     \u001b[1;32mreturn\u001b[0m \u001b[0mroot\u001b[0m\u001b[1;33m\u001b[0m\u001b[1;33m\u001b[0m\u001b[0m\n\u001b[0;32m    272\u001b[0m \u001b[1;33m\u001b[0m\u001b[0m\n",
      "\u001b[1;32m~/GoogleDrive/uofa/courses/cmput_659/final/src/core.py\u001b[0m in \u001b[0;36mgenerate_tree\u001b[1;34m(root)\u001b[0m\n\u001b[0;32m    268\u001b[0m     \u001b[1;32mfor\u001b[0m \u001b[0mcandidate\u001b[0m \u001b[1;32min\u001b[0m \u001b[0mcandidates\u001b[0m\u001b[1;33m:\u001b[0m\u001b[1;33m\u001b[0m\u001b[1;33m\u001b[0m\u001b[0m\n\u001b[0;32m    269\u001b[0m         \u001b[0mchild\u001b[0m \u001b[1;33m=\u001b[0m \u001b[0mNode\u001b[0m\u001b[1;33m(\u001b[0m\u001b[0mcandidate\u001b[0m\u001b[1;33m,\u001b[0m \u001b[0mparent\u001b[0m\u001b[1;33m=\u001b[0m\u001b[0mroot\u001b[0m\u001b[1;33m)\u001b[0m\u001b[1;33m\u001b[0m\u001b[1;33m\u001b[0m\u001b[0m\n\u001b[1;32m--> 270\u001b[1;33m         \u001b[0mgenerate_tree\u001b[0m\u001b[1;33m(\u001b[0m\u001b[0mchild\u001b[0m\u001b[1;33m)\u001b[0m\u001b[1;33m\u001b[0m\u001b[1;33m\u001b[0m\u001b[0m\n\u001b[0m\u001b[0;32m    271\u001b[0m     \u001b[1;32mreturn\u001b[0m \u001b[0mroot\u001b[0m\u001b[1;33m\u001b[0m\u001b[1;33m\u001b[0m\u001b[0m\n\u001b[0;32m    272\u001b[0m \u001b[1;33m\u001b[0m\u001b[0m\n",
      "\u001b[1;32m~/GoogleDrive/uofa/courses/cmput_659/final/src/core.py\u001b[0m in \u001b[0;36mgenerate_tree\u001b[1;34m(root)\u001b[0m\n\u001b[0;32m    268\u001b[0m     \u001b[1;32mfor\u001b[0m \u001b[0mcandidate\u001b[0m \u001b[1;32min\u001b[0m \u001b[0mcandidates\u001b[0m\u001b[1;33m:\u001b[0m\u001b[1;33m\u001b[0m\u001b[1;33m\u001b[0m\u001b[0m\n\u001b[0;32m    269\u001b[0m         \u001b[0mchild\u001b[0m \u001b[1;33m=\u001b[0m \u001b[0mNode\u001b[0m\u001b[1;33m(\u001b[0m\u001b[0mcandidate\u001b[0m\u001b[1;33m,\u001b[0m \u001b[0mparent\u001b[0m\u001b[1;33m=\u001b[0m\u001b[0mroot\u001b[0m\u001b[1;33m)\u001b[0m\u001b[1;33m\u001b[0m\u001b[1;33m\u001b[0m\u001b[0m\n\u001b[1;32m--> 270\u001b[1;33m         \u001b[0mgenerate_tree\u001b[0m\u001b[1;33m(\u001b[0m\u001b[0mchild\u001b[0m\u001b[1;33m)\u001b[0m\u001b[1;33m\u001b[0m\u001b[1;33m\u001b[0m\u001b[0m\n\u001b[0m\u001b[0;32m    271\u001b[0m     \u001b[1;32mreturn\u001b[0m \u001b[0mroot\u001b[0m\u001b[1;33m\u001b[0m\u001b[1;33m\u001b[0m\u001b[0m\n\u001b[0;32m    272\u001b[0m \u001b[1;33m\u001b[0m\u001b[0m\n",
      "\u001b[1;32m~/GoogleDrive/uofa/courses/cmput_659/final/src/core.py\u001b[0m in \u001b[0;36mgenerate_tree\u001b[1;34m(root)\u001b[0m\n\u001b[0;32m    268\u001b[0m     \u001b[1;32mfor\u001b[0m \u001b[0mcandidate\u001b[0m \u001b[1;32min\u001b[0m \u001b[0mcandidates\u001b[0m\u001b[1;33m:\u001b[0m\u001b[1;33m\u001b[0m\u001b[1;33m\u001b[0m\u001b[0m\n\u001b[0;32m    269\u001b[0m         \u001b[0mchild\u001b[0m \u001b[1;33m=\u001b[0m \u001b[0mNode\u001b[0m\u001b[1;33m(\u001b[0m\u001b[0mcandidate\u001b[0m\u001b[1;33m,\u001b[0m \u001b[0mparent\u001b[0m\u001b[1;33m=\u001b[0m\u001b[0mroot\u001b[0m\u001b[1;33m)\u001b[0m\u001b[1;33m\u001b[0m\u001b[1;33m\u001b[0m\u001b[0m\n\u001b[1;32m--> 270\u001b[1;33m         \u001b[0mgenerate_tree\u001b[0m\u001b[1;33m(\u001b[0m\u001b[0mchild\u001b[0m\u001b[1;33m)\u001b[0m\u001b[1;33m\u001b[0m\u001b[1;33m\u001b[0m\u001b[0m\n\u001b[0m\u001b[0;32m    271\u001b[0m     \u001b[1;32mreturn\u001b[0m \u001b[0mroot\u001b[0m\u001b[1;33m\u001b[0m\u001b[1;33m\u001b[0m\u001b[0m\n\u001b[0;32m    272\u001b[0m \u001b[1;33m\u001b[0m\u001b[0m\n",
      "\u001b[1;32m~/GoogleDrive/uofa/courses/cmput_659/final/src/core.py\u001b[0m in \u001b[0;36mgenerate_tree\u001b[1;34m(root)\u001b[0m\n\u001b[0;32m    250\u001b[0m     \u001b[0mnext_\u001b[0m \u001b[1;33m=\u001b[0m \u001b[0mGRAMMAR\u001b[0m\u001b[1;33m.\u001b[0m\u001b[0mget\u001b[0m\u001b[1;33m(\u001b[0m\u001b[0mroot\u001b[0m\u001b[1;33m.\u001b[0m\u001b[0mname\u001b[0m\u001b[1;33m,\u001b[0m \u001b[1;32mNone\u001b[0m\u001b[1;33m)\u001b[0m\u001b[1;33m\u001b[0m\u001b[1;33m\u001b[0m\u001b[0m\n\u001b[0;32m    251\u001b[0m     \u001b[1;32mif\u001b[0m \u001b[1;32mnot\u001b[0m \u001b[0mnext_\u001b[0m\u001b[1;33m:\u001b[0m\u001b[1;33m\u001b[0m\u001b[1;33m\u001b[0m\u001b[0m\n\u001b[1;32m--> 252\u001b[1;33m         \u001b[1;32mraise\u001b[0m \u001b[0mValueError\u001b[0m\u001b[1;33m\u001b[0m\u001b[1;33m\u001b[0m\u001b[0m\n\u001b[0m\u001b[0;32m    253\u001b[0m \u001b[1;33m\u001b[0m\u001b[0m\n\u001b[0;32m    254\u001b[0m     \u001b[0mbranch\u001b[0m \u001b[1;33m=\u001b[0m \u001b[0mrandom\u001b[0m\u001b[1;33m.\u001b[0m\u001b[0mchoice\u001b[0m\u001b[1;33m(\u001b[0m\u001b[0mnext_\u001b[0m\u001b[1;33m)\u001b[0m\u001b[1;33m\u001b[0m\u001b[1;33m\u001b[0m\u001b[0m\n",
      "\u001b[1;31mValueError\u001b[0m: "
     ]
    }
   ],
   "source": [
    "for num_elites, population_cap, num_games in parameter_sets:\n",
    "    await run(\n",
    "        num_elites,\n",
    "        tournament_size,\n",
    "        population_cap,\n",
    "        epochs,\n",
    "        num_games\n",
    "    )"
   ]
  },
  {
   "cell_type": "markdown",
   "metadata": {},
   "source": [
    "# Evaluate"
   ]
  },
  {
   "cell_type": "code",
   "execution_count": 28,
   "metadata": {
    "ExecuteTime": {
     "end_time": "2020-04-14T21:37:32.188811Z",
     "start_time": "2020-04-14T21:35:44.105618Z"
    }
   },
   "outputs": [
    {
     "name": "stdout",
     "output_type": "stream",
     "text": [
      "720\n",
      "chunk 1 / 2\n"
     ]
    },
    {
     "data": {
      "application/vnd.jupyter.widget-view+json": {
       "model_id": "a18a797db2f84c268a127c133c2b72a1",
       "version_major": 2,
       "version_minor": 0
      },
      "text/plain": [
       "HBox(children=(FloatProgress(value=0.0, max=3.0), HTML(value='')))"
      ]
     },
     "metadata": {},
     "output_type": "display_data"
    },
    {
     "name": "stdout",
     "output_type": "stream",
     "text": [
      "\n",
      "chunk 2 / 2\n"
     ]
    },
    {
     "data": {
      "application/vnd.jupyter.widget-view+json": {
       "model_id": "78ce3900e211498ba2c7910a1bcf6e8d",
       "version_major": 2,
       "version_minor": 0
      },
      "text/plain": [
       "HBox(children=(FloatProgress(value=0.0, max=3.0), HTML(value='')))"
      ]
     },
     "metadata": {},
     "output_type": "display_data"
    },
    {
     "name": "stdout",
     "output_type": "stream",
     "text": [
      "\n"
     ]
    }
   ],
   "source": [
    "for num_elites, population_cap, num_games in parameter_sets:\n",
    "    generations = []\n",
    "    for i in range(epochs):\n",
    "        fname = get_fname(num_elites, tournament_size, population_cap, epochs, num_games, i)\n",
    "        generations.append(load_population(fname))\n",
    "    all_scripts = sum(generations, [])\n",
    "    print(len(all_scripts))\n",
    "    \n",
    "    await evaluate_population(all_scripts, num_games=3, verbose=True)\n",
    "\n",
    "    script_to_gen = {}\n",
    "    for i, gen in enumerate(generations):\n",
    "        for script in gen:\n",
    "            script_to_gen[script] = i\n",
    "\n",
    "    gen_ratings = [[] for _ in range(len(generations))]\n",
    "    for script in all_scripts:\n",
    "        gen_idx = script_to_gen[script]\n",
    "        gen_ratings[gen_idx].append(script.rating.mu)\n",
    "    gen_ratings = np.asarray(gen_ratings)\n",
    "    \n",
    "    best_scripts = sort_population(all_scripts)[:10]\n",
    "\n",
    "    xs = np.arange(len(gen_ratings))\n",
    "    ys_high = np.percentile(gen_ratings, 75, axis=-1)\n",
    "    ys_median = np.median(gen_ratings, axis=-1)\n",
    "    ys_low = np.percentile(gen_ratings, 25, axis=-1)\n",
    "    stats = (xs, ys_high, ys_median, ys_low)\n",
    "    \n",
    "    fname = get_fname(num_elites, tournament_size, population_cap, epochs, num_games, 'stats')\n",
    "    \n",
    "    save_stats(stats, fname)\n",
    "    save_population(best_scripts, fname)"
   ]
  },
  {
   "cell_type": "code",
   "execution_count": 29,
   "metadata": {
    "ExecuteTime": {
     "end_time": "2020-04-14T21:38:22.591414Z",
     "start_time": "2020-04-14T21:38:22.523301Z"
    },
    "scrolled": false
   },
   "outputs": [
    {
     "data": {
      "text/html": [
       "\n",
       "    <div class=\"bk-root\">\n",
       "        <a href=\"https://bokeh.org\" target=\"_blank\" class=\"bk-logo bk-logo-small bk-logo-notebook\"></a>\n",
       "        <span id=\"1139\">Loading BokehJS ...</span>\n",
       "    </div>"
      ]
     },
     "metadata": {},
     "output_type": "display_data"
    },
    {
     "data": {
      "application/javascript": [
       "\n",
       "(function(root) {\n",
       "  function now() {\n",
       "    return new Date();\n",
       "  }\n",
       "\n",
       "  var force = true;\n",
       "\n",
       "  if (typeof root._bokeh_onload_callbacks === \"undefined\" || force === true) {\n",
       "    root._bokeh_onload_callbacks = [];\n",
       "    root._bokeh_is_loading = undefined;\n",
       "  }\n",
       "\n",
       "  var JS_MIME_TYPE = 'application/javascript';\n",
       "  var HTML_MIME_TYPE = 'text/html';\n",
       "  var EXEC_MIME_TYPE = 'application/vnd.bokehjs_exec.v0+json';\n",
       "  var CLASS_NAME = 'output_bokeh rendered_html';\n",
       "\n",
       "  /**\n",
       "   * Render data to the DOM node\n",
       "   */\n",
       "  function render(props, node) {\n",
       "    var script = document.createElement(\"script\");\n",
       "    node.appendChild(script);\n",
       "  }\n",
       "\n",
       "  /**\n",
       "   * Handle when an output is cleared or removed\n",
       "   */\n",
       "  function handleClearOutput(event, handle) {\n",
       "    var cell = handle.cell;\n",
       "\n",
       "    var id = cell.output_area._bokeh_element_id;\n",
       "    var server_id = cell.output_area._bokeh_server_id;\n",
       "    // Clean up Bokeh references\n",
       "    if (id != null && id in Bokeh.index) {\n",
       "      Bokeh.index[id].model.document.clear();\n",
       "      delete Bokeh.index[id];\n",
       "    }\n",
       "\n",
       "    if (server_id !== undefined) {\n",
       "      // Clean up Bokeh references\n",
       "      var cmd = \"from bokeh.io.state import curstate; print(curstate().uuid_to_server['\" + server_id + \"'].get_sessions()[0].document.roots[0]._id)\";\n",
       "      cell.notebook.kernel.execute(cmd, {\n",
       "        iopub: {\n",
       "          output: function(msg) {\n",
       "            var id = msg.content.text.trim();\n",
       "            if (id in Bokeh.index) {\n",
       "              Bokeh.index[id].model.document.clear();\n",
       "              delete Bokeh.index[id];\n",
       "            }\n",
       "          }\n",
       "        }\n",
       "      });\n",
       "      // Destroy server and session\n",
       "      var cmd = \"import bokeh.io.notebook as ion; ion.destroy_server('\" + server_id + \"')\";\n",
       "      cell.notebook.kernel.execute(cmd);\n",
       "    }\n",
       "  }\n",
       "\n",
       "  /**\n",
       "   * Handle when a new output is added\n",
       "   */\n",
       "  function handleAddOutput(event, handle) {\n",
       "    var output_area = handle.output_area;\n",
       "    var output = handle.output;\n",
       "\n",
       "    // limit handleAddOutput to display_data with EXEC_MIME_TYPE content only\n",
       "    if ((output.output_type != \"display_data\") || (!output.data.hasOwnProperty(EXEC_MIME_TYPE))) {\n",
       "      return\n",
       "    }\n",
       "\n",
       "    var toinsert = output_area.element.find(\".\" + CLASS_NAME.split(' ')[0]);\n",
       "\n",
       "    if (output.metadata[EXEC_MIME_TYPE][\"id\"] !== undefined) {\n",
       "      toinsert[toinsert.length - 1].firstChild.textContent = output.data[JS_MIME_TYPE];\n",
       "      // store reference to embed id on output_area\n",
       "      output_area._bokeh_element_id = output.metadata[EXEC_MIME_TYPE][\"id\"];\n",
       "    }\n",
       "    if (output.metadata[EXEC_MIME_TYPE][\"server_id\"] !== undefined) {\n",
       "      var bk_div = document.createElement(\"div\");\n",
       "      bk_div.innerHTML = output.data[HTML_MIME_TYPE];\n",
       "      var script_attrs = bk_div.children[0].attributes;\n",
       "      for (var i = 0; i < script_attrs.length; i++) {\n",
       "        toinsert[toinsert.length - 1].firstChild.setAttribute(script_attrs[i].name, script_attrs[i].value);\n",
       "        toinsert[toinsert.length - 1].firstChild.textContent = bk_div.children[0].textContent\n",
       "      }\n",
       "      // store reference to server id on output_area\n",
       "      output_area._bokeh_server_id = output.metadata[EXEC_MIME_TYPE][\"server_id\"];\n",
       "    }\n",
       "  }\n",
       "\n",
       "  function register_renderer(events, OutputArea) {\n",
       "\n",
       "    function append_mime(data, metadata, element) {\n",
       "      // create a DOM node to render to\n",
       "      var toinsert = this.create_output_subarea(\n",
       "        metadata,\n",
       "        CLASS_NAME,\n",
       "        EXEC_MIME_TYPE\n",
       "      );\n",
       "      this.keyboard_manager.register_events(toinsert);\n",
       "      // Render to node\n",
       "      var props = {data: data, metadata: metadata[EXEC_MIME_TYPE]};\n",
       "      render(props, toinsert[toinsert.length - 1]);\n",
       "      element.append(toinsert);\n",
       "      return toinsert\n",
       "    }\n",
       "\n",
       "    /* Handle when an output is cleared or removed */\n",
       "    events.on('clear_output.CodeCell', handleClearOutput);\n",
       "    events.on('delete.Cell', handleClearOutput);\n",
       "\n",
       "    /* Handle when a new output is added */\n",
       "    events.on('output_added.OutputArea', handleAddOutput);\n",
       "\n",
       "    /**\n",
       "     * Register the mime type and append_mime function with output_area\n",
       "     */\n",
       "    OutputArea.prototype.register_mime_type(EXEC_MIME_TYPE, append_mime, {\n",
       "      /* Is output safe? */\n",
       "      safe: true,\n",
       "      /* Index of renderer in `output_area.display_order` */\n",
       "      index: 0\n",
       "    });\n",
       "  }\n",
       "\n",
       "  // register the mime type if in Jupyter Notebook environment and previously unregistered\n",
       "  if (root.Jupyter !== undefined) {\n",
       "    var events = require('base/js/events');\n",
       "    var OutputArea = require('notebook/js/outputarea').OutputArea;\n",
       "\n",
       "    if (OutputArea.prototype.mime_types().indexOf(EXEC_MIME_TYPE) == -1) {\n",
       "      register_renderer(events, OutputArea);\n",
       "    }\n",
       "  }\n",
       "\n",
       "  \n",
       "  if (typeof (root._bokeh_timeout) === \"undefined\" || force === true) {\n",
       "    root._bokeh_timeout = Date.now() + 5000;\n",
       "    root._bokeh_failed_load = false;\n",
       "  }\n",
       "\n",
       "  var NB_LOAD_WARNING = {'data': {'text/html':\n",
       "     \"<div style='background-color: #fdd'>\\n\"+\n",
       "     \"<p>\\n\"+\n",
       "     \"BokehJS does not appear to have successfully loaded. If loading BokehJS from CDN, this \\n\"+\n",
       "     \"may be due to a slow or bad network connection. Possible fixes:\\n\"+\n",
       "     \"</p>\\n\"+\n",
       "     \"<ul>\\n\"+\n",
       "     \"<li>re-rerun `output_notebook()` to attempt to load from CDN again, or</li>\\n\"+\n",
       "     \"<li>use INLINE resources instead, as so:</li>\\n\"+\n",
       "     \"</ul>\\n\"+\n",
       "     \"<code>\\n\"+\n",
       "     \"from bokeh.resources import INLINE\\n\"+\n",
       "     \"output_notebook(resources=INLINE)\\n\"+\n",
       "     \"</code>\\n\"+\n",
       "     \"</div>\"}};\n",
       "\n",
       "  function display_loaded() {\n",
       "    var el = document.getElementById(\"1139\");\n",
       "    if (el != null) {\n",
       "      el.textContent = \"BokehJS is loading...\";\n",
       "    }\n",
       "    if (root.Bokeh !== undefined) {\n",
       "      if (el != null) {\n",
       "        el.textContent = \"BokehJS \" + root.Bokeh.version + \" successfully loaded.\";\n",
       "      }\n",
       "    } else if (Date.now() < root._bokeh_timeout) {\n",
       "      setTimeout(display_loaded, 100)\n",
       "    }\n",
       "  }\n",
       "\n",
       "\n",
       "  function run_callbacks() {\n",
       "    try {\n",
       "      root._bokeh_onload_callbacks.forEach(function(callback) {\n",
       "        if (callback != null)\n",
       "          callback();\n",
       "      });\n",
       "    } finally {\n",
       "      delete root._bokeh_onload_callbacks\n",
       "    }\n",
       "    console.debug(\"Bokeh: all callbacks have finished\");\n",
       "  }\n",
       "\n",
       "  function load_libs(css_urls, js_urls, callback) {\n",
       "    if (css_urls == null) css_urls = [];\n",
       "    if (js_urls == null) js_urls = [];\n",
       "\n",
       "    root._bokeh_onload_callbacks.push(callback);\n",
       "    if (root._bokeh_is_loading > 0) {\n",
       "      console.debug(\"Bokeh: BokehJS is being loaded, scheduling callback at\", now());\n",
       "      return null;\n",
       "    }\n",
       "    if (js_urls == null || js_urls.length === 0) {\n",
       "      run_callbacks();\n",
       "      return null;\n",
       "    }\n",
       "    console.debug(\"Bokeh: BokehJS not loaded, scheduling load and callback at\", now());\n",
       "    root._bokeh_is_loading = css_urls.length + js_urls.length;\n",
       "\n",
       "    function on_load() {\n",
       "      root._bokeh_is_loading--;\n",
       "      if (root._bokeh_is_loading === 0) {\n",
       "        console.debug(\"Bokeh: all BokehJS libraries/stylesheets loaded\");\n",
       "        run_callbacks()\n",
       "      }\n",
       "    }\n",
       "\n",
       "    function on_error() {\n",
       "      console.error(\"failed to load \" + url);\n",
       "    }\n",
       "\n",
       "    for (var i = 0; i < css_urls.length; i++) {\n",
       "      var url = css_urls[i];\n",
       "      const element = document.createElement(\"link\");\n",
       "      element.onload = on_load;\n",
       "      element.onerror = on_error;\n",
       "      element.rel = \"stylesheet\";\n",
       "      element.type = \"text/css\";\n",
       "      element.href = url;\n",
       "      console.debug(\"Bokeh: injecting link tag for BokehJS stylesheet: \", url);\n",
       "      document.body.appendChild(element);\n",
       "    }\n",
       "\n",
       "    const hashes = {\"https://cdn.bokeh.org/bokeh/release/bokeh-2.0.1.min.js\": \"JpP8FXbgAZLkfur7LiK3j9AGBhHNIvF742meBJrjO2ShJDhCG2I1uVvW+0DUtrmc\", \"https://cdn.bokeh.org/bokeh/release/bokeh-widgets-2.0.1.min.js\": \"xZlADit0Q04ISQEdKg2k3L4W9AwQBAuDs9nJL9fM/WwzL1tEU9VPNezOFX0nLEAz\", \"https://cdn.bokeh.org/bokeh/release/bokeh-tables-2.0.1.min.js\": \"4BuPRZkdMKSnj3zoxiNrQ86XgNw0rYmBOxe7nshquXwwcauupgBF2DHLVG1WuZlV\", \"https://cdn.bokeh.org/bokeh/release/bokeh-gl-2.0.1.min.js\": \"Dv1SQ87hmDqK6S5OhBf0bCuwAEvL5QYL0PuR/F1SPVhCS/r/abjkbpKDYL2zeM19\"};\n",
       "\n",
       "    for (var i = 0; i < js_urls.length; i++) {\n",
       "      var url = js_urls[i];\n",
       "      var element = document.createElement('script');\n",
       "      element.onload = on_load;\n",
       "      element.onerror = on_error;\n",
       "      element.async = false;\n",
       "      element.src = url;\n",
       "      if (url in hashes) {\n",
       "        element.crossOrigin = \"anonymous\";\n",
       "        element.integrity = \"sha384-\" + hashes[url];\n",
       "      }\n",
       "      console.debug(\"Bokeh: injecting script tag for BokehJS library: \", url);\n",
       "      document.head.appendChild(element);\n",
       "    }\n",
       "  };var element = document.getElementById(\"1139\");\n",
       "  if (element == null) {\n",
       "    console.error(\"Bokeh: ERROR: autoload.js configured with elementid '1139' but no matching script tag was found. \")\n",
       "    return false;\n",
       "  }\n",
       "\n",
       "  function inject_raw_css(css) {\n",
       "    const element = document.createElement(\"style\");\n",
       "    element.appendChild(document.createTextNode(css));\n",
       "    document.body.appendChild(element);\n",
       "  }\n",
       "\n",
       "  \n",
       "  var js_urls = [\"https://cdn.bokeh.org/bokeh/release/bokeh-2.0.1.min.js\", \"https://cdn.bokeh.org/bokeh/release/bokeh-widgets-2.0.1.min.js\", \"https://cdn.bokeh.org/bokeh/release/bokeh-tables-2.0.1.min.js\", \"https://cdn.bokeh.org/bokeh/release/bokeh-gl-2.0.1.min.js\"];\n",
       "  var css_urls = [];\n",
       "  \n",
       "\n",
       "  var inline_js = [\n",
       "    function(Bokeh) {\n",
       "      Bokeh.set_log_level(\"info\");\n",
       "    },\n",
       "    function(Bokeh) {\n",
       "    \n",
       "    \n",
       "    }\n",
       "  ];\n",
       "\n",
       "  function run_inline_js() {\n",
       "    \n",
       "    if (root.Bokeh !== undefined || force === true) {\n",
       "      \n",
       "    for (var i = 0; i < inline_js.length; i++) {\n",
       "      inline_js[i].call(root, root.Bokeh);\n",
       "    }\n",
       "    if (force === true) {\n",
       "        display_loaded();\n",
       "      }} else if (Date.now() < root._bokeh_timeout) {\n",
       "      setTimeout(run_inline_js, 100);\n",
       "    } else if (!root._bokeh_failed_load) {\n",
       "      console.log(\"Bokeh: BokehJS failed to load within specified timeout.\");\n",
       "      root._bokeh_failed_load = true;\n",
       "    } else if (force !== true) {\n",
       "      var cell = $(document.getElementById(\"1139\")).parents('.cell').data().cell;\n",
       "      cell.output_area.append_execute_result(NB_LOAD_WARNING)\n",
       "    }\n",
       "\n",
       "  }\n",
       "\n",
       "  if (root._bokeh_is_loading === 0) {\n",
       "    console.debug(\"Bokeh: BokehJS loaded, going straight to plotting\");\n",
       "    run_inline_js();\n",
       "  } else {\n",
       "    load_libs(css_urls, js_urls, function() {\n",
       "      console.debug(\"Bokeh: BokehJS plotting callback run at\", now());\n",
       "      run_inline_js();\n",
       "    });\n",
       "  }\n",
       "}(window));"
      ],
      "application/vnd.bokehjs_load.v0+json": "\n(function(root) {\n  function now() {\n    return new Date();\n  }\n\n  var force = true;\n\n  if (typeof root._bokeh_onload_callbacks === \"undefined\" || force === true) {\n    root._bokeh_onload_callbacks = [];\n    root._bokeh_is_loading = undefined;\n  }\n\n  \n\n  \n  if (typeof (root._bokeh_timeout) === \"undefined\" || force === true) {\n    root._bokeh_timeout = Date.now() + 5000;\n    root._bokeh_failed_load = false;\n  }\n\n  var NB_LOAD_WARNING = {'data': {'text/html':\n     \"<div style='background-color: #fdd'>\\n\"+\n     \"<p>\\n\"+\n     \"BokehJS does not appear to have successfully loaded. If loading BokehJS from CDN, this \\n\"+\n     \"may be due to a slow or bad network connection. Possible fixes:\\n\"+\n     \"</p>\\n\"+\n     \"<ul>\\n\"+\n     \"<li>re-rerun `output_notebook()` to attempt to load from CDN again, or</li>\\n\"+\n     \"<li>use INLINE resources instead, as so:</li>\\n\"+\n     \"</ul>\\n\"+\n     \"<code>\\n\"+\n     \"from bokeh.resources import INLINE\\n\"+\n     \"output_notebook(resources=INLINE)\\n\"+\n     \"</code>\\n\"+\n     \"</div>\"}};\n\n  function display_loaded() {\n    var el = document.getElementById(\"1139\");\n    if (el != null) {\n      el.textContent = \"BokehJS is loading...\";\n    }\n    if (root.Bokeh !== undefined) {\n      if (el != null) {\n        el.textContent = \"BokehJS \" + root.Bokeh.version + \" successfully loaded.\";\n      }\n    } else if (Date.now() < root._bokeh_timeout) {\n      setTimeout(display_loaded, 100)\n    }\n  }\n\n\n  function run_callbacks() {\n    try {\n      root._bokeh_onload_callbacks.forEach(function(callback) {\n        if (callback != null)\n          callback();\n      });\n    } finally {\n      delete root._bokeh_onload_callbacks\n    }\n    console.debug(\"Bokeh: all callbacks have finished\");\n  }\n\n  function load_libs(css_urls, js_urls, callback) {\n    if (css_urls == null) css_urls = [];\n    if (js_urls == null) js_urls = [];\n\n    root._bokeh_onload_callbacks.push(callback);\n    if (root._bokeh_is_loading > 0) {\n      console.debug(\"Bokeh: BokehJS is being loaded, scheduling callback at\", now());\n      return null;\n    }\n    if (js_urls == null || js_urls.length === 0) {\n      run_callbacks();\n      return null;\n    }\n    console.debug(\"Bokeh: BokehJS not loaded, scheduling load and callback at\", now());\n    root._bokeh_is_loading = css_urls.length + js_urls.length;\n\n    function on_load() {\n      root._bokeh_is_loading--;\n      if (root._bokeh_is_loading === 0) {\n        console.debug(\"Bokeh: all BokehJS libraries/stylesheets loaded\");\n        run_callbacks()\n      }\n    }\n\n    function on_error() {\n      console.error(\"failed to load \" + url);\n    }\n\n    for (var i = 0; i < css_urls.length; i++) {\n      var url = css_urls[i];\n      const element = document.createElement(\"link\");\n      element.onload = on_load;\n      element.onerror = on_error;\n      element.rel = \"stylesheet\";\n      element.type = \"text/css\";\n      element.href = url;\n      console.debug(\"Bokeh: injecting link tag for BokehJS stylesheet: \", url);\n      document.body.appendChild(element);\n    }\n\n    const hashes = {\"https://cdn.bokeh.org/bokeh/release/bokeh-2.0.1.min.js\": \"JpP8FXbgAZLkfur7LiK3j9AGBhHNIvF742meBJrjO2ShJDhCG2I1uVvW+0DUtrmc\", \"https://cdn.bokeh.org/bokeh/release/bokeh-widgets-2.0.1.min.js\": \"xZlADit0Q04ISQEdKg2k3L4W9AwQBAuDs9nJL9fM/WwzL1tEU9VPNezOFX0nLEAz\", \"https://cdn.bokeh.org/bokeh/release/bokeh-tables-2.0.1.min.js\": \"4BuPRZkdMKSnj3zoxiNrQ86XgNw0rYmBOxe7nshquXwwcauupgBF2DHLVG1WuZlV\", \"https://cdn.bokeh.org/bokeh/release/bokeh-gl-2.0.1.min.js\": \"Dv1SQ87hmDqK6S5OhBf0bCuwAEvL5QYL0PuR/F1SPVhCS/r/abjkbpKDYL2zeM19\"};\n\n    for (var i = 0; i < js_urls.length; i++) {\n      var url = js_urls[i];\n      var element = document.createElement('script');\n      element.onload = on_load;\n      element.onerror = on_error;\n      element.async = false;\n      element.src = url;\n      if (url in hashes) {\n        element.crossOrigin = \"anonymous\";\n        element.integrity = \"sha384-\" + hashes[url];\n      }\n      console.debug(\"Bokeh: injecting script tag for BokehJS library: \", url);\n      document.head.appendChild(element);\n    }\n  };var element = document.getElementById(\"1139\");\n  if (element == null) {\n    console.error(\"Bokeh: ERROR: autoload.js configured with elementid '1139' but no matching script tag was found. \")\n    return false;\n  }\n\n  function inject_raw_css(css) {\n    const element = document.createElement(\"style\");\n    element.appendChild(document.createTextNode(css));\n    document.body.appendChild(element);\n  }\n\n  \n  var js_urls = [\"https://cdn.bokeh.org/bokeh/release/bokeh-2.0.1.min.js\", \"https://cdn.bokeh.org/bokeh/release/bokeh-widgets-2.0.1.min.js\", \"https://cdn.bokeh.org/bokeh/release/bokeh-tables-2.0.1.min.js\", \"https://cdn.bokeh.org/bokeh/release/bokeh-gl-2.0.1.min.js\"];\n  var css_urls = [];\n  \n\n  var inline_js = [\n    function(Bokeh) {\n      Bokeh.set_log_level(\"info\");\n    },\n    function(Bokeh) {\n    \n    \n    }\n  ];\n\n  function run_inline_js() {\n    \n    if (root.Bokeh !== undefined || force === true) {\n      \n    for (var i = 0; i < inline_js.length; i++) {\n      inline_js[i].call(root, root.Bokeh);\n    }\n    if (force === true) {\n        display_loaded();\n      }} else if (Date.now() < root._bokeh_timeout) {\n      setTimeout(run_inline_js, 100);\n    } else if (!root._bokeh_failed_load) {\n      console.log(\"Bokeh: BokehJS failed to load within specified timeout.\");\n      root._bokeh_failed_load = true;\n    } else if (force !== true) {\n      var cell = $(document.getElementById(\"1139\")).parents('.cell').data().cell;\n      cell.output_area.append_execute_result(NB_LOAD_WARNING)\n    }\n\n  }\n\n  if (root._bokeh_is_loading === 0) {\n    console.debug(\"Bokeh: BokehJS loaded, going straight to plotting\");\n    run_inline_js();\n  } else {\n    load_libs(css_urls, js_urls, function() {\n      console.debug(\"Bokeh: BokehJS plotting callback run at\", now());\n      run_inline_js();\n    });\n  }\n}(window));"
     },
     "metadata": {},
     "output_type": "display_data"
    },
    {
     "name": "stdout",
     "output_type": "stream",
     "text": [
      "e_2_t_5_k_24_g_30_n_10_stats.dill\n"
     ]
    },
    {
     "data": {
      "text/html": [
       "\n",
       "\n",
       "\n",
       "\n",
       "\n",
       "\n",
       "  <div class=\"bk-root\" id=\"4fcc3949-6d7c-44e1-ae1d-5e1a9a4446bc\" data-root-id=\"1140\"></div>\n"
      ]
     },
     "metadata": {},
     "output_type": "display_data"
    },
    {
     "data": {
      "application/javascript": [
       "(function(root) {\n",
       "  function embed_document(root) {\n",
       "    \n",
       "  var docs_json = {\"11fc229d-770e-446c-aa7e-5d1ce09e52f6\":{\"roots\":{\"references\":[{\"attributes\":{\"below\":[{\"id\":\"1149\"}],\"center\":[{\"id\":\"1152\"},{\"id\":\"1156\"}],\"left\":[{\"id\":\"1153\"}],\"plot_height\":400,\"plot_width\":800,\"renderers\":[{\"id\":\"1174\"},{\"id\":\"1179\"},{\"id\":\"1184\"}],\"title\":{\"id\":\"1187\"},\"toolbar\":{\"id\":\"1164\"},\"x_range\":{\"id\":\"1141\"},\"x_scale\":{\"id\":\"1145\"},\"y_range\":{\"id\":\"1143\"},\"y_scale\":{\"id\":\"1147\"}},\"id\":\"1140\",\"subtype\":\"Figure\",\"type\":\"Plot\"},{\"attributes\":{\"active_drag\":\"auto\",\"active_inspect\":\"auto\",\"active_multi\":null,\"active_scroll\":\"auto\",\"active_tap\":\"auto\",\"tools\":[{\"id\":\"1157\"},{\"id\":\"1158\"},{\"id\":\"1159\"},{\"id\":\"1160\"},{\"id\":\"1161\"},{\"id\":\"1162\"}]},\"id\":\"1164\",\"type\":\"Toolbar\"},{\"attributes\":{},\"id\":\"1145\",\"type\":\"LinearScale\"},{\"attributes\":{\"axis\":{\"id\":\"1153\"},\"dimension\":1,\"ticker\":null},\"id\":\"1156\",\"type\":\"Grid\"},{\"attributes\":{\"data_source\":{\"id\":\"1171\"},\"glyph\":{\"id\":\"1172\"},\"hover_glyph\":null,\"muted_glyph\":null,\"nonselection_glyph\":{\"id\":\"1173\"},\"selection_glyph\":null,\"view\":{\"id\":\"1175\"}},\"id\":\"1174\",\"type\":\"GlyphRenderer\"},{\"attributes\":{},\"id\":\"1141\",\"type\":\"DataRange1d\"},{\"attributes\":{},\"id\":\"1150\",\"type\":\"BasicTicker\"},{\"attributes\":{},\"id\":\"1162\",\"type\":\"HelpTool\"},{\"attributes\":{\"line_alpha\":0.1,\"line_color\":\"#1f77b4\",\"line_width\":2,\"x\":{\"field\":\"x\"},\"y\":{\"field\":\"y\"}},\"id\":\"1183\",\"type\":\"Line\"},{\"attributes\":{},\"id\":\"1196\",\"type\":\"Selection\"},{\"attributes\":{\"line_color\":\"#1f77b4\",\"line_width\":2,\"x\":{\"field\":\"x\"},\"y\":{\"field\":\"y\"}},\"id\":\"1177\",\"type\":\"Line\"},{\"attributes\":{\"source\":{\"id\":\"1176\"}},\"id\":\"1180\",\"type\":\"CDSView\"},{\"attributes\":{},\"id\":\"1161\",\"type\":\"ResetTool\"},{\"attributes\":{},\"id\":\"1154\",\"type\":\"BasicTicker\"},{\"attributes\":{},\"id\":\"1158\",\"type\":\"WheelZoomTool\"},{\"attributes\":{\"line_alpha\":0.3,\"line_color\":\"#1f77b4\",\"line_width\":2,\"x\":{\"field\":\"x\"},\"y\":{\"field\":\"y\"}},\"id\":\"1172\",\"type\":\"Line\"},{\"attributes\":{\"line_alpha\":0.3,\"line_color\":\"#1f77b4\",\"line_width\":2,\"x\":{\"field\":\"x\"},\"y\":{\"field\":\"y\"}},\"id\":\"1182\",\"type\":\"Line\"},{\"attributes\":{},\"id\":\"1198\",\"type\":\"Selection\"},{\"attributes\":{\"overlay\":{\"id\":\"1163\"}},\"id\":\"1159\",\"type\":\"BoxZoomTool\"},{\"attributes\":{\"line_alpha\":0.1,\"line_color\":\"#1f77b4\",\"line_width\":2,\"x\":{\"field\":\"x\"},\"y\":{\"field\":\"y\"}},\"id\":\"1178\",\"type\":\"Line\"},{\"attributes\":{\"data\":{\"x\":[0,1,2,3,4,5,6,7,8,9,10,11,12,13,14,15,16,17,18,19,20,21,22,23,24,25,26,27,28,29],\"y\":{\"__ndarray__\":\"HwKnqE4tL0DzotdhnRovQDqjaOGrki1AWXXq0aH9M0AUztNADBk2QBZs14lTjDNASreXLSn/MUCYGPOY0lszQH2JULXFGjVA1rxyd1+4NEBwrtJbW5k2QNz34GcWFDRAqoWmdK2uNUDOx4MVOQc2QHO/31bY/zVA9+0SOuzvNEAHBGPrERQ3QJTO0LBdgzNApynOX51ENkBCTeGRXvA1QLIiLM7wqDRANz5pJO1wOUDjvj1YpdU1QKFFuHl/sTdA3mLGH85xOUCsRHpWLPs3QDgXPnL6VDZAqnbR4gFOOUBrWkjNRDE3QBA6hvUiLDdA\",\"dtype\":\"float64\",\"shape\":[30]}},\"selected\":{\"id\":\"1198\"},\"selection_policy\":{\"id\":\"1197\"}},\"id\":\"1181\",\"type\":\"ColumnDataSource\"},{\"attributes\":{},\"id\":\"1195\",\"type\":\"UnionRenderers\"},{\"attributes\":{},\"id\":\"1147\",\"type\":\"LinearScale\"},{\"attributes\":{\"formatter\":{\"id\":\"1191\"},\"ticker\":{\"id\":\"1150\"}},\"id\":\"1149\",\"type\":\"LinearAxis\"},{\"attributes\":{\"data\":{\"x\":[0,1,2,3,4,5,6,7,8,9,10,11,12,13,14,15,16,17,18,19,20,21,22,23,24,25,26,27,28,29],\"y\":{\"__ndarray__\":\"j+BZRGJtOkAHgchvrqA6QOoFq55hEzxAXOg10rYDPEDoLoUX2Pc6QPRlAOXxSDhAf1F+O/aeO0BzPMb2HO46QHmVZwMcUj5ALkPcR247P0AknmZQ0XY+QEzNS7JZOz1AjNutQcwBPEBbKc71qWo8QKkk11CsNz1A/Al7s6LVO0BMrrfYlkE8QHwxyhC/FUBAPeHqn2psPkAqCefXfNw/QKyfk3OMpD1AJFB2Bn8qQUBOTaAM/Ac8QCkEwQIYYUFAkS1Ee02BQEAihywsFOQ/QJbFQfepmz1AF4dHdVYBP0AAcZSY4ZZBQAULLz6a2z1A\",\"dtype\":\"float64\",\"shape\":[30]}},\"selected\":{\"id\":\"1194\"},\"selection_policy\":{\"id\":\"1193\"}},\"id\":\"1171\",\"type\":\"ColumnDataSource\"},{\"attributes\":{},\"id\":\"1160\",\"type\":\"SaveTool\"},{\"attributes\":{\"source\":{\"id\":\"1181\"}},\"id\":\"1185\",\"type\":\"CDSView\"},{\"attributes\":{},\"id\":\"1197\",\"type\":\"UnionRenderers\"},{\"attributes\":{\"formatter\":{\"id\":\"1189\"},\"ticker\":{\"id\":\"1154\"}},\"id\":\"1153\",\"type\":\"LinearAxis\"},{\"attributes\":{},\"id\":\"1194\",\"type\":\"Selection\"},{\"attributes\":{\"source\":{\"id\":\"1171\"}},\"id\":\"1175\",\"type\":\"CDSView\"},{\"attributes\":{\"data_source\":{\"id\":\"1176\"},\"glyph\":{\"id\":\"1177\"},\"hover_glyph\":null,\"muted_glyph\":null,\"nonselection_glyph\":{\"id\":\"1178\"},\"selection_glyph\":null,\"view\":{\"id\":\"1180\"}},\"id\":\"1179\",\"type\":\"GlyphRenderer\"},{\"attributes\":{},\"id\":\"1193\",\"type\":\"UnionRenderers\"},{\"attributes\":{\"text\":\"\"},\"id\":\"1187\",\"type\":\"Title\"},{\"attributes\":{},\"id\":\"1191\",\"type\":\"BasicTickFormatter\"},{\"attributes\":{\"end\":40,\"start\":15},\"id\":\"1143\",\"type\":\"Range1d\"},{\"attributes\":{\"line_alpha\":0.1,\"line_color\":\"#1f77b4\",\"line_width\":2,\"x\":{\"field\":\"x\"},\"y\":{\"field\":\"y\"}},\"id\":\"1173\",\"type\":\"Line\"},{\"attributes\":{\"bottom_units\":\"screen\",\"fill_alpha\":0.5,\"fill_color\":\"lightgrey\",\"left_units\":\"screen\",\"level\":\"overlay\",\"line_alpha\":1.0,\"line_color\":\"black\",\"line_dash\":[4,4],\"line_width\":2,\"render_mode\":\"css\",\"right_units\":\"screen\",\"top_units\":\"screen\"},\"id\":\"1163\",\"type\":\"BoxAnnotation\"},{\"attributes\":{\"data\":{\"x\":[0,1,2,3,4,5,6,7,8,9,10,11,12,13,14,15,16,17,18,19,20,21,22,23,24,25,26,27,28,29],\"y\":{\"__ndarray__\":\"KGJzWNXLNEB6tV6E9Fc0QJHtu2VbSzdAlpwfzeohOECK7ubJesY3QL4K0Shy0jVAVpUaCA/nNUAuZZChp883QCjQDGC5PTlA8OXVTpANOUDu+4xPOVI7QA1fm71yRzlAVlE85uxLOUDRwHrCJ6E4QJBZlYvC4DlAbMmOvcPqN0Dp/FU0CEg7QA5Y0bzfajhA4hHneaZjO0As0CUpViw8QB60WVFICjpAnrfw0+IzP0D1Ywk2Ohw5QA1rfuodWjxAhK9ySgOOPUAaih5mXTw8QFLwg5XxYjpAilPtpge3O0AleoE85bk/QPpIc/P3lDlA\",\"dtype\":\"float64\",\"shape\":[30]}},\"selected\":{\"id\":\"1196\"},\"selection_policy\":{\"id\":\"1195\"}},\"id\":\"1176\",\"type\":\"ColumnDataSource\"},{\"attributes\":{\"axis\":{\"id\":\"1149\"},\"ticker\":null},\"id\":\"1152\",\"type\":\"Grid\"},{\"attributes\":{\"data_source\":{\"id\":\"1181\"},\"glyph\":{\"id\":\"1182\"},\"hover_glyph\":null,\"muted_glyph\":null,\"nonselection_glyph\":{\"id\":\"1183\"},\"selection_glyph\":null,\"view\":{\"id\":\"1185\"}},\"id\":\"1184\",\"type\":\"GlyphRenderer\"},{\"attributes\":{},\"id\":\"1157\",\"type\":\"PanTool\"},{\"attributes\":{},\"id\":\"1189\",\"type\":\"BasicTickFormatter\"}],\"root_ids\":[\"1140\"]},\"title\":\"Bokeh Application\",\"version\":\"2.0.1\"}};\n",
       "  var render_items = [{\"docid\":\"11fc229d-770e-446c-aa7e-5d1ce09e52f6\",\"root_ids\":[\"1140\"],\"roots\":{\"1140\":\"4fcc3949-6d7c-44e1-ae1d-5e1a9a4446bc\"}}];\n",
       "  root.Bokeh.embed.embed_items_notebook(docs_json, render_items);\n",
       "\n",
       "  }\n",
       "  if (root.Bokeh !== undefined) {\n",
       "    embed_document(root);\n",
       "  } else {\n",
       "    var attempts = 0;\n",
       "    var timer = setInterval(function(root) {\n",
       "      if (root.Bokeh !== undefined) {\n",
       "        clearInterval(timer);\n",
       "        embed_document(root);\n",
       "      } else {\n",
       "        attempts++;\n",
       "        if (attempts > 100) {\n",
       "          clearInterval(timer);\n",
       "          console.log(\"Bokeh: ERROR: Unable to run BokehJS code because BokehJS library is missing\");\n",
       "        }\n",
       "      }\n",
       "    }, 10, root)\n",
       "  }\n",
       "})(window);"
      ],
      "application/vnd.bokehjs_exec.v0+json": ""
     },
     "metadata": {
      "application/vnd.bokehjs_exec.v0+json": {
       "id": "1140"
      }
     },
     "output_type": "display_data"
    },
    {
     "name": "stdout",
     "output_type": "stream",
     "text": [
      "\n",
      "class Script_e0c70f7109794a50b6f8c06de9c15685(Script):\n",
      "    def choose_move(self, battle: Battle):\n",
      "    \n",
      "        available_moves = battle.available_moves\n",
      "        if not available_moves:\n",
      "            return random.choice(battle.available_switches)\n",
      "            \n",
      "        dsl = DSL(battle)\n",
      "        move_scores = []\n",
      "        for move in battle.available_moves:\n",
      "            score = 0\n",
      "            if (dsl.is_super_effective(move)):\n",
      "                score += 6\n",
      "            if (dsl.is_raining_and_move_is_not_fire(move)):\n",
      "                if (dsl.is_raining_and_move_is_not_fire(move)):\n",
      "                    score += 3\n",
      "            if ((dsl.is_hyper_effective(move) and dsl.is_sunny_and_move_is_not_water(move))):\n",
      "                if (dsl.is_hyper_effective(move)):\n",
      "                    score += 6\n",
      "                if ((dsl.is_opponent_primarily_attack_and_is_not_burnt_and_move_is_burning_and_opp_not_afflicted(move) and dsl.is_not_ineffective(move))):\n",
      "                    score += 4\n",
      "            if (not (dsl.is_raining_and_move_is_water(move))):\n",
      "                if (not (dsl.is_physical_attacker_and_move_physical(move))):\n",
      "                    score += -3\n",
      "                if (dsl.is_physical_attacker_and_move_physical(move)):\n",
      "                    score += 2\n",
      "                if (not (dsl.is_raining_and_move_is_not_fire(move))):\n",
      "                    score += -5\n",
      "            if (not (dsl.is_raining_and_move_is_water(move))):\n",
      "                if ((dsl.is_special_attacker_and_move_special(move) and dsl.is_super_effective(move))):\n",
      "                    score += 8\n",
      "            if (not (dsl.is_not_ineffective(move))):\n",
      "                score += -7\n",
      "            if (not (dsl.is_raining_and_move_is_water(move))):\n",
      "                if ((dsl.is_raining_and_move_is_water(move) and dsl.is_special_attacker_and_move_special(move))):\n",
      "                    score += -5\n",
      "                if (not (dsl.is_raining_and_move_is_not_fire(move))):\n",
      "                    score += 6\n",
      "            move_scores.append(score)\n",
      "            \n",
      "        best_move = available_moves[move_scores.index(max(move_scores))]\n",
      "        return best_move\n",
      "\n",
      "\n",
      "class Script_5ce947f772aa44c980362edb7653d238(Script):\n",
      "    def choose_move(self, battle: Battle):\n",
      "    \n",
      "        available_moves = battle.available_moves\n",
      "        if not available_moves:\n",
      "            return random.choice(battle.available_switches)\n",
      "            \n",
      "        dsl = DSL(battle)\n",
      "        move_scores = []\n",
      "        for move in battle.available_moves:\n",
      "            score = 0\n",
      "            if (dsl.is_physical_attacker_and_move_physical(move)):\n",
      "                score += 6\n",
      "            if (dsl.is_raining_and_move_is_not_fire(move)):\n",
      "                if (dsl.is_not_ineffective(move)):\n",
      "                    score += 3\n",
      "            if ((dsl.is_hyper_effective(move) and dsl.is_raining_and_move_is_not_fire(move))):\n",
      "                if (dsl.is_raining_and_move_is_not_fire(move)):\n",
      "                    score += 6\n",
      "                if ((dsl.is_opponent_primarily_attack_and_is_not_burnt_and_move_is_burning_and_opp_not_afflicted(move) and dsl.is_not_ineffective(move))):\n",
      "                    score += 6\n",
      "            if (not (dsl.is_special_attacker_and_move_special(move))):\n",
      "                if (not (dsl.is_hyper_effective(move))):\n",
      "                    score += -3\n",
      "                if (dsl.is_physical_attacker_and_move_physical(move)):\n",
      "                    score += 4\n",
      "                if ((dsl.is_raining_and_move_is_not_fire(move) and dsl.is_not_ineffective(move))):\n",
      "                    score += -6\n",
      "            if (not (dsl.is_super_effective(move))):\n",
      "                if ((dsl.is_special_attacker_and_move_special(move) and dsl.is_super_effective(move))):\n",
      "                    score += 8\n",
      "            if (not (dsl.is_raining_and_move_is_water(move))):\n",
      "                score += -7\n",
      "            if (not (dsl.is_hyper_effective(move))):\n",
      "                if ((dsl.is_physical_attacker_and_move_physical(move) and dsl.is_special_attacker_and_move_special(move))):\n",
      "                    score += 3\n",
      "                if (not (dsl.is_raining_and_move_is_not_fire(move))):\n",
      "                    score += 6\n",
      "            move_scores.append(score)\n",
      "            \n",
      "        best_move = available_moves[move_scores.index(max(move_scores))]\n",
      "        return best_move\n",
      "\n",
      "\n",
      "class Script_3d43551777424b81b63161055ca1d388(Script):\n",
      "    def choose_move(self, battle: Battle):\n",
      "    \n",
      "        available_moves = battle.available_moves\n",
      "        if not available_moves:\n",
      "            return random.choice(battle.available_switches)\n",
      "            \n",
      "        dsl = DSL(battle)\n",
      "        move_scores = []\n",
      "        for move in battle.available_moves:\n",
      "            score = 0\n",
      "            if (dsl.is_raining_and_move_is_not_fire(move)):\n",
      "                score += 6\n",
      "            if (dsl.is_raining_and_move_is_not_fire(move)):\n",
      "                if (dsl.is_not_ineffective(move)):\n",
      "                    score += 6\n",
      "            if ((dsl.is_hyper_effective(move) and dsl.is_physical_attacker_and_move_physical(move))):\n",
      "                if (dsl.is_raining_and_move_is_not_fire(move)):\n",
      "                    score += 6\n",
      "                if (not (dsl.is_hyper_effective(move))):\n",
      "                    score += 6\n",
      "            if (not (dsl.is_special_attacker_and_move_special(move))):\n",
      "                if (not (dsl.is_hyper_effective(move))):\n",
      "                    score += -3\n",
      "                if (dsl.is_physical_attacker_and_move_physical(move)):\n",
      "                    score += 4\n",
      "                if ((dsl.is_opponent_primarily_attack_and_is_not_burnt_and_move_is_burning_and_opp_not_afflicted(move) and dsl.is_physical_attacker_and_move_physical(move))):\n",
      "                    score += 2\n",
      "            if (not (dsl.is_super_effective(move))):\n",
      "                score += -2\n",
      "            if (dsl.is_opponent_primarily_attack_and_is_not_burnt_and_move_is_burning_and_opp_not_afflicted(move)):\n",
      "                score += 8\n",
      "            if (not (dsl.is_physical_attacker_and_move_physical(move))):\n",
      "                if ((dsl.is_physical_attacker_and_move_physical(move) and dsl.is_special_attacker_and_move_special(move))):\n",
      "                    score += 3\n",
      "                if (dsl.is_opponent_primarily_attack_and_is_not_burnt_and_move_is_burning_and_opp_not_afflicted(move)):\n",
      "                    score += -1\n",
      "            move_scores.append(score)\n",
      "            \n",
      "        best_move = available_moves[move_scores.index(max(move_scores))]\n",
      "        return best_move\n",
      "\n"
     ]
    }
   ],
   "source": [
    "from bokeh.plotting import figure, output_file, show, reset_output, output_notebook\n",
    "\n",
    "reset_output()\n",
    "output_notebook()\n",
    "\n",
    "for num_elites, population_cap, num_games in parameter_sets:\n",
    "    fname = get_fname(num_elites, tournament_size, population_cap, epochs, num_games, 'stats')\n",
    "    print(fname)\n",
    "    \n",
    "    xs, ys_high, ys_median, ys_low = load_stats(fname)\n",
    "    p = figure(plot_width=800, plot_height=400, y_range=(15, 40))\n",
    "    p.line(xs, ys_high, line_width=2, alpha=0.3)\n",
    "    p.line(xs, ys_median, line_width=2)\n",
    "    p.line(xs, ys_low, line_width=2, alpha=0.3)\n",
    "\n",
    "    show(p)\n",
    "    \n",
    "    best_scripts = load_population(fname)\n",
    "    for script in best_scripts[:3]:\n",
    "        print(script.raw_script)"
   ]
  },
  {
   "cell_type": "code",
   "execution_count": null,
   "metadata": {},
   "outputs": [],
   "source": []
  }
 ],
 "metadata": {
  "hide_input": false,
  "kernelspec": {
   "display_name": "cmput_659_final",
   "language": "python",
   "name": "cmput_659_final"
  },
  "language_info": {
   "codemirror_mode": {
    "name": "ipython",
    "version": 3
   },
   "file_extension": ".py",
   "mimetype": "text/x-python",
   "name": "python",
   "nbconvert_exporter": "python",
   "pygments_lexer": "ipython3",
   "version": "3.7.5"
  },
  "pycharm": {
   "stem_cell": {
    "cell_type": "raw",
    "metadata": {
     "collapsed": false
    },
    "source": []
   }
  },
  "toc": {
   "base_numbering": 1,
   "nav_menu": {},
   "number_sections": true,
   "sideBar": true,
   "skip_h1_title": false,
   "title_cell": "Table of Contents",
   "title_sidebar": "Contents",
   "toc_cell": false,
   "toc_position": {},
   "toc_section_display": true,
   "toc_window_display": false
  }
 },
 "nbformat": 4,
 "nbformat_minor": 2
}
