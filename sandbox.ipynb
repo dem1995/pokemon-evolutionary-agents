{
 "cells": [
  {
   "cell_type": "code",
   "execution_count": 1,
   "metadata": {
    "ExecuteTime": {
     "end_time": "2020-04-14T23:40:47.547262Z",
     "start_time": "2020-04-14T23:40:46.836488Z"
    },
    "scrolled": true
   },
   "outputs": [],
   "source": [
    "from src.core import *\n",
    "from src import DSL\n",
    "import inspect\n",
    "import typing\n",
    "\n",
    "import asyncio\n",
    "\n",
    "from poke_env.player.random_player import RandomPlayer\n",
    "from poke_env.player.utils import cross_evaluate\n",
    "from poke_env.player_configuration import PlayerConfiguration\n",
    "from poke_env.server_configuration import LocalhostServerConfiguration\n",
    "from poke_env.utils import to_id_str\n",
    "from tabulate import tabulate\n",
    "\n",
    "import trueskill\n",
    "import copy\n",
    "from trueskill import Rating, rate_1vs1, quality_1vs1\n",
    "from tqdm.notebook import tqdm\n",
    "import itertools\n",
    "import numpy as np\n",
    "import pandas as pd\n",
    "from pprint import pprint\n",
    "\n",
    "\n",
    "import logging\n",
    "# from aiologger.handlers.files import AsyncFileHandler\n",
    "# from aiologger.handlers.files import AsyncFileHandler\n",
    "from tempfile import NamedTemporaryFile\n",
    "\n",
    "from pathlib import Path\n",
    "import pickle\n",
    "import dill\n",
    "import gc\n",
    "import math\n",
    "import datetime\n",
    "import sys, traceback"
   ]
  },
  {
   "cell_type": "code",
   "execution_count": 2,
   "metadata": {
    "ExecuteTime": {
     "end_time": "2020-04-14T23:40:48.422871Z",
     "start_time": "2020-04-14T23:40:48.416663Z"
    }
   },
   "outputs": [],
   "source": [
    "class PlayerWrapper(Player):\n",
    "    def __init__(self, *args, **kwargs):\n",
    "        super().__init__(\n",
    "            player_configuration=PlayerConfiguration(get_node_id(), None),\n",
    "            battle_format=\"gen7randombattle\",\n",
    "            server_configuration=LocalhostServerConfiguration,\n",
    "            max_concurrent_battles=100000000,\n",
    "        )\n",
    "        self.script = None\n",
    "        \n",
    "#         self.log_file = NamedTemporaryFile()\n",
    "#         self.patch_logger()\n",
    "    \n",
    "#     def patch_logger(self):\n",
    "#         self.logger.removeHandler(self.logger.handlers[0])\n",
    "#         self.logger.addHandler(logging.FileHandler(self.log_file.name))\n",
    "#         self.logger.\n",
    "        \n",
    "    def choose_move(self, battle):\n",
    "        try:\n",
    "            move = self.script.choose_move(battle)\n",
    "            return self.create_order(move)\n",
    "        except Exception as e:\n",
    "            print(e)\n",
    "            traceback.print_exc(file=sys.stdout)\n",
    "            print(self.script.raw_script)\n",
    "            return self.choose_random_move(battle)"
   ]
  },
  {
   "cell_type": "code",
   "execution_count": 3,
   "metadata": {
    "ExecuteTime": {
     "end_time": "2020-04-14T23:40:48.843248Z",
     "start_time": "2020-04-14T23:40:48.773598Z"
    }
   },
   "outputs": [],
   "source": [
    "chunk_size = 1024\n",
    "shared_players = [PlayerWrapper() for _ in range(chunk_size)]\n",
    "player_lookup = {player.username: player for player in shared_players}"
   ]
  },
  {
   "cell_type": "code",
   "execution_count": 4,
   "metadata": {
    "ExecuteTime": {
     "end_time": "2020-04-14T23:40:49.150131Z",
     "start_time": "2020-04-14T23:40:49.138338Z"
    }
   },
   "outputs": [],
   "source": [
    "async def evaluate_population(population, num_games, verbose=True):\n",
    "    for script in population:\n",
    "        script.rating = Rating()\n",
    "    \n",
    "    num_players = min(chunk_size, len(population))\n",
    "    players = shared_players[:num_players]\n",
    "    num_chunks = int(math.ceil(len(population) / chunk_size))\n",
    "    chunks = [population[i * chunk_size : (i + 1) * chunk_size] for i in range(num_chunks)]\n",
    "    \n",
    "    for chunk_idx, population in enumerate(chunks):\n",
    "        if num_chunks > 1:\n",
    "            print(f\"chunk {chunk_idx + 1} / {num_chunks}\")\n",
    "        \n",
    "        for i, script in enumerate(population):\n",
    "            players[i].script = script\n",
    "        \n",
    "        for _ in tqdm(range(num_games), disable=not verbose):\n",
    "            random.shuffle(players)\n",
    "            awaitables = []\n",
    "            for p1, p2 in zip(players[0::2], players[1::2]):\n",
    "                send = p1.send_challenges(\n",
    "                    opponent=to_id_str(p2.username),\n",
    "                    n_challenges=1,\n",
    "                    to_wait=p2.logged_in,\n",
    "                )\n",
    "                accept = p2.accept_challenges(\n",
    "                    opponent=to_id_str(p1.username),\n",
    "                    n_challenges=1,\n",
    "                )\n",
    "                awaitables.append(send)\n",
    "                awaitables.append(accept)\n",
    "            await asyncio.gather(*awaitables)\n",
    "\n",
    "        battles = sum((list(player.battles.values()) for player in players), [])\n",
    "        \n",
    "        for battle in battles:\n",
    "            player = player_lookup[battle.player_username]\n",
    "            oppo = player_lookup[battle._opponent_username]\n",
    "\n",
    "            if battle.won:\n",
    "                winner, loser = player, oppo\n",
    "            else:\n",
    "                winner, loser = oppo, player\n",
    "            winner.script.rating, loser.script.rating = rate_1vs1(winner.script.rating, loser.script.rating)\n",
    "        \n",
    "        for player in players:\n",
    "            player.reset_battles()\n",
    "\n",
    "    del players\n",
    "    gc.collect()"
   ]
  },
  {
   "cell_type": "code",
   "execution_count": 5,
   "metadata": {
    "ExecuteTime": {
     "end_time": "2020-04-14T23:40:49.264408Z",
     "start_time": "2020-04-14T23:40:49.261623Z"
    }
   },
   "outputs": [],
   "source": [
    "def sort_population(population):\n",
    "    return sorted(population, key=lambda p: p.rating.mu, reverse=True)"
   ]
  },
  {
   "cell_type": "code",
   "execution_count": 6,
   "metadata": {
    "ExecuteTime": {
     "end_time": "2020-04-14T23:40:49.430717Z",
     "start_time": "2020-04-14T23:40:49.428043Z"
    }
   },
   "outputs": [],
   "source": [
    "def get_elites(population, num_elites):\n",
    "    return sort_population(population)[:num_elites]"
   ]
  },
  {
   "cell_type": "code",
   "execution_count": 7,
   "metadata": {
    "ExecuteTime": {
     "end_time": "2020-04-14T23:40:49.584702Z",
     "start_time": "2020-04-14T23:40:49.581395Z"
    }
   },
   "outputs": [],
   "source": [
    "def get_tournament_elites(population, tournament_size, num_elites):\n",
    "    tournament = random.sample(population, tournament_size)\n",
    "    return get_elites(tournament, num_elites)"
   ]
  },
  {
   "cell_type": "code",
   "execution_count": 8,
   "metadata": {
    "ExecuteTime": {
     "end_time": "2020-04-14T23:40:49.750698Z",
     "start_time": "2020-04-14T23:40:49.745813Z"
    }
   },
   "outputs": [],
   "source": [
    "def mutate(tree, filter_=None):\n",
    "    if not filter_:\n",
    "        filter_ = lambda x: type(x) is not str\n",
    "    tree = copy.deepcopy(tree)\n",
    "    candidates = anytree.search.findall(tree, filter_=filter_)\n",
    "    if candidates:\n",
    "        target = random.choice(candidates)\n",
    "        target.children = []\n",
    "        generate_tree(target)\n",
    "    return tree"
   ]
  },
  {
   "cell_type": "code",
   "execution_count": 9,
   "metadata": {
    "ExecuteTime": {
     "end_time": "2020-04-14T23:40:49.992816Z",
     "start_time": "2020-04-14T23:40:49.984524Z"
    }
   },
   "outputs": [],
   "source": [
    "def crossover(left, right):\n",
    "    def _is_valid_subtree_head(node):\n",
    "#         return node.name in [RULE.IF_BLOCK]\n",
    "        return True\n",
    "\n",
    "    def _find_head_types(root):\n",
    "        return [node.name for node in anytree.search.findall(root, filter_=_is_valid_subtree_head)]\n",
    "\n",
    "    def _select_type_node(root, type_):\n",
    "        candidates = anytree.search.findall(root, filter_=lambda node: node.name == type_)\n",
    "        return random.choice(candidates)\n",
    "    \n",
    "    def _swap_children(left, right):\n",
    "        left.children, right.children = right.children, left.children\n",
    "        \n",
    "    left = copy.deepcopy(left)\n",
    "    right = copy.deepcopy(right)\n",
    "\n",
    "    left_head_types = _find_head_types(left)\n",
    "    right_head_types = _find_head_types(right)\n",
    "\n",
    "    type_intersection = list(set(left_head_types) & set(right_head_types))\n",
    "    if type_intersection:\n",
    "        type_to_swap = random.choice(type_intersection)\n",
    "        left_head = _select_type_node(left, type_to_swap)\n",
    "        right_head = _select_type_node(right, type_to_swap)\n",
    "        _swap_children(left_head, right_head)\n",
    "    return left, right"
   ]
  },
  {
   "cell_type": "code",
   "execution_count": 10,
   "metadata": {
    "ExecuteTime": {
     "end_time": "2020-04-14T23:40:50.072704Z",
     "start_time": "2020-04-14T23:40:50.069977Z"
    }
   },
   "outputs": [],
   "source": [
    "def get_random_population(population_size):\n",
    "    return [exec_tree(get_random_tree()) for _ in range(population_size)]"
   ]
  },
  {
   "cell_type": "code",
   "execution_count": 11,
   "metadata": {
    "ExecuteTime": {
     "end_time": "2020-04-14T23:40:50.227570Z",
     "start_time": "2020-04-14T23:40:50.225799Z"
    }
   },
   "outputs": [],
   "source": [
    "# def get_population_stats(population):\n",
    "#     ratings = pd.Series([player.rating.mu for player in population])\n",
    "#     return ratings.describe()"
   ]
  },
  {
   "cell_type": "code",
   "execution_count": 12,
   "metadata": {
    "ExecuteTime": {
     "end_time": "2020-04-14T23:40:50.535344Z",
     "start_time": "2020-04-14T23:40:50.529974Z"
    }
   },
   "outputs": [],
   "source": [
    "def save_population(population, fname):\n",
    "    path = Path('temp_scripts').joinpath(fname)\n",
    "    with open(path, 'wb') as f:\n",
    "        dill.dump([player.tree for player in population], f)\n",
    "            \n",
    "def load_population(fname):\n",
    "    path = Path('temp_scripts').joinpath(fname)\n",
    "    with open(path, 'rb') as f:\n",
    "        return [exec_tree(tree) for tree in dill.load(f)]"
   ]
  },
  {
   "cell_type": "code",
   "execution_count": 13,
   "metadata": {
    "ExecuteTime": {
     "end_time": "2020-04-14T23:40:50.708930Z",
     "start_time": "2020-04-14T23:40:50.704564Z"
    }
   },
   "outputs": [],
   "source": [
    "def save_stats(stats, fname):\n",
    "    path = Path('temp_stats').joinpath(fname)\n",
    "    with open(path, 'wb') as f:\n",
    "        dill.dump(stats, f)\n",
    "            \n",
    "def load_stats(fname):\n",
    "    path = Path('temp_stats').joinpath(fname)\n",
    "    with open(path, 'rb') as f:\n",
    "        return dill.load(f)"
   ]
  },
  {
   "cell_type": "markdown",
   "metadata": {},
   "source": [
    "# Evolve"
   ]
  },
  {
   "cell_type": "code",
   "execution_count": 14,
   "metadata": {
    "ExecuteTime": {
     "end_time": "2020-04-14T23:40:51.177482Z",
     "start_time": "2020-04-14T23:40:51.174145Z"
    }
   },
   "outputs": [],
   "source": [
    "def get_fname(\n",
    "    num_elites,\n",
    "    tournament_size,\n",
    "    population_cap,\n",
    "    epochs,\n",
    "    num_games,\n",
    "    index\n",
    "):\n",
    "    return f\"e_{num_elites}_t_{tournament_size}_k_{population_cap}_g_{epochs}_n_{num_games}_{index}.dill\""
   ]
  },
  {
   "cell_type": "code",
   "execution_count": 15,
   "metadata": {
    "ExecuteTime": {
     "end_time": "2020-04-14T23:40:51.404367Z",
     "start_time": "2020-04-14T23:40:51.396617Z"
    }
   },
   "outputs": [],
   "source": [
    "async def run(\n",
    "    num_elites,\n",
    "    tournament_size,\n",
    "    population_cap,\n",
    "    epochs,\n",
    "    num_games\n",
    "):\n",
    "    population = get_random_population(population_size=population_cap)\n",
    "    generations = []\n",
    "    for i in tqdm(range(epochs)):\n",
    "        fname = get_fname(num_elites, tournament_size, population_cap, epochs, num_games, i)\n",
    "        save_population(population, fname)\n",
    "        await evaluate_population(population, num_games=num_games, verbose=False)\n",
    "        generations.append([copy.deepcopy(script) for script in population])\n",
    "        next_population = []\n",
    "        next_population.extend(get_elites(population, num_elites))\n",
    "        while len(next_population) < population_cap:\n",
    "            left, right = get_tournament_elites(population, tournament_size, 2)\n",
    "            children = crossover(left.tree, right.tree)\n",
    "            for child_tree in children:\n",
    "                child_tree = mutate(child_tree)\n",
    "                next_population.append(exec_tree(child_tree))\n",
    "        population = next_population[:population_cap]\n",
    "        gc.collect()"
   ]
  },
  {
   "cell_type": "code",
   "execution_count": 22,
   "metadata": {
    "ExecuteTime": {
     "end_time": "2020-04-14T23:50:24.781457Z",
     "start_time": "2020-04-14T23:50:24.778179Z"
    }
   },
   "outputs": [],
   "source": [
    "epochs = 30\n",
    "tournament_size = 5\n",
    "\n",
    "parameter_sets = [\n",
    "#     (4, 32, 5),\n",
    "    \n",
    "#     (2, 32, 5),\n",
    "#     (4, 32, 5),\n",
    "    \n",
    "#     (4, 24, 5),\n",
    "    \n",
    "    (2, 32, 5),\n",
    "#     (2, 32, 10),\n",
    "    (2, 32, 10),\n",
    "#     (4, 80, 2),\n",
    "    \n",
    "#     (4, 32, 8),\n",
    "#     (4, 32, 12),\n",
    "]"
   ]
  },
  {
   "cell_type": "code",
   "execution_count": 17,
   "metadata": {
    "ExecuteTime": {
     "end_time": "2020-04-14T23:40:55.393902Z",
     "start_time": "2020-04-14T23:40:52.146518Z"
    },
    "scrolled": false
   },
   "outputs": [
    {
     "data": {
      "application/vnd.jupyter.widget-view+json": {
       "model_id": "03df1ff1cafa4567be1536f2616b5f16",
       "version_major": 2,
       "version_minor": 0
      },
      "text/plain": [
       "HBox(children=(FloatProgress(value=0.0, max=30.0), HTML(value='')))"
      ]
     },
     "metadata": {},
     "output_type": "display_data"
    },
    {
     "name": "stdout",
     "output_type": "stream",
     "text": [
      "\n"
     ]
    },
    {
     "ename": "CancelledError",
     "evalue": "",
     "output_type": "error",
     "traceback": [
      "\u001b[1;31m---------------------------------------------------------------------------\u001b[0m",
      "\u001b[1;31mCancelledError\u001b[0m                            Traceback (most recent call last)",
      "\u001b[1;32m<ipython-input-17-aafaa7cd101e>\u001b[0m in \u001b[0;36masync-def-wrapper\u001b[1;34m()\u001b[0m\n\u001b[0;32m      8\u001b[0m     )\n",
      "\u001b[1;32m<ipython-input-15-d6395da042b3>\u001b[0m in \u001b[0;36mrun\u001b[1;34m(num_elites, tournament_size, population_cap, epochs, num_games)\u001b[0m\n\u001b[0;32m     11\u001b[0m         \u001b[0mfname\u001b[0m \u001b[1;33m=\u001b[0m \u001b[0mget_fname\u001b[0m\u001b[1;33m(\u001b[0m\u001b[0mnum_elites\u001b[0m\u001b[1;33m,\u001b[0m \u001b[0mtournament_size\u001b[0m\u001b[1;33m,\u001b[0m \u001b[0mpopulation_cap\u001b[0m\u001b[1;33m,\u001b[0m \u001b[0mepochs\u001b[0m\u001b[1;33m,\u001b[0m \u001b[0mnum_games\u001b[0m\u001b[1;33m,\u001b[0m \u001b[0mi\u001b[0m\u001b[1;33m)\u001b[0m\u001b[1;33m\u001b[0m\u001b[1;33m\u001b[0m\u001b[0m\n\u001b[0;32m     12\u001b[0m         \u001b[0msave_population\u001b[0m\u001b[1;33m(\u001b[0m\u001b[0mpopulation\u001b[0m\u001b[1;33m,\u001b[0m \u001b[0mfname\u001b[0m\u001b[1;33m)\u001b[0m\u001b[1;33m\u001b[0m\u001b[1;33m\u001b[0m\u001b[0m\n\u001b[1;32m---> 13\u001b[1;33m         \u001b[1;32mawait\u001b[0m \u001b[0mevaluate_population\u001b[0m\u001b[1;33m(\u001b[0m\u001b[0mpopulation\u001b[0m\u001b[1;33m,\u001b[0m \u001b[0mnum_games\u001b[0m\u001b[1;33m=\u001b[0m\u001b[0mnum_games\u001b[0m\u001b[1;33m,\u001b[0m \u001b[0mverbose\u001b[0m\u001b[1;33m=\u001b[0m\u001b[1;32mFalse\u001b[0m\u001b[1;33m)\u001b[0m\u001b[1;33m\u001b[0m\u001b[1;33m\u001b[0m\u001b[0m\n\u001b[0m\u001b[0;32m     14\u001b[0m         \u001b[0mgenerations\u001b[0m\u001b[1;33m.\u001b[0m\u001b[0mappend\u001b[0m\u001b[1;33m(\u001b[0m\u001b[1;33m[\u001b[0m\u001b[0mcopy\u001b[0m\u001b[1;33m.\u001b[0m\u001b[0mdeepcopy\u001b[0m\u001b[1;33m(\u001b[0m\u001b[0mscript\u001b[0m\u001b[1;33m)\u001b[0m \u001b[1;32mfor\u001b[0m \u001b[0mscript\u001b[0m \u001b[1;32min\u001b[0m \u001b[0mpopulation\u001b[0m\u001b[1;33m]\u001b[0m\u001b[1;33m)\u001b[0m\u001b[1;33m\u001b[0m\u001b[1;33m\u001b[0m\u001b[0m\n\u001b[0;32m     15\u001b[0m         \u001b[0mnext_population\u001b[0m \u001b[1;33m=\u001b[0m \u001b[1;33m[\u001b[0m\u001b[1;33m]\u001b[0m\u001b[1;33m\u001b[0m\u001b[1;33m\u001b[0m\u001b[0m\n",
      "\u001b[1;32m<ipython-input-4-680997da439d>\u001b[0m in \u001b[0;36mevaluate_population\u001b[1;34m(population, num_games, verbose)\u001b[0m\n\u001b[0;32m     30\u001b[0m                 \u001b[0mawaitables\u001b[0m\u001b[1;33m.\u001b[0m\u001b[0mappend\u001b[0m\u001b[1;33m(\u001b[0m\u001b[0msend\u001b[0m\u001b[1;33m)\u001b[0m\u001b[1;33m\u001b[0m\u001b[1;33m\u001b[0m\u001b[0m\n\u001b[0;32m     31\u001b[0m                 \u001b[0mawaitables\u001b[0m\u001b[1;33m.\u001b[0m\u001b[0mappend\u001b[0m\u001b[1;33m(\u001b[0m\u001b[0maccept\u001b[0m\u001b[1;33m)\u001b[0m\u001b[1;33m\u001b[0m\u001b[1;33m\u001b[0m\u001b[0m\n\u001b[1;32m---> 32\u001b[1;33m             \u001b[1;32mawait\u001b[0m \u001b[0masyncio\u001b[0m\u001b[1;33m.\u001b[0m\u001b[0mgather\u001b[0m\u001b[1;33m(\u001b[0m\u001b[1;33m*\u001b[0m\u001b[0mawaitables\u001b[0m\u001b[1;33m)\u001b[0m\u001b[1;33m\u001b[0m\u001b[1;33m\u001b[0m\u001b[0m\n\u001b[0m\u001b[0;32m     33\u001b[0m \u001b[1;33m\u001b[0m\u001b[0m\n\u001b[0;32m     34\u001b[0m         \u001b[0mbattles\u001b[0m \u001b[1;33m=\u001b[0m \u001b[0msum\u001b[0m\u001b[1;33m(\u001b[0m\u001b[1;33m(\u001b[0m\u001b[0mlist\u001b[0m\u001b[1;33m(\u001b[0m\u001b[0mplayer\u001b[0m\u001b[1;33m.\u001b[0m\u001b[0mbattles\u001b[0m\u001b[1;33m.\u001b[0m\u001b[0mvalues\u001b[0m\u001b[1;33m(\u001b[0m\u001b[1;33m)\u001b[0m\u001b[1;33m)\u001b[0m \u001b[1;32mfor\u001b[0m \u001b[0mplayer\u001b[0m \u001b[1;32min\u001b[0m \u001b[0mplayers\u001b[0m\u001b[1;33m)\u001b[0m\u001b[1;33m,\u001b[0m \u001b[1;33m[\u001b[0m\u001b[1;33m]\u001b[0m\u001b[1;33m)\u001b[0m\u001b[1;33m\u001b[0m\u001b[1;33m\u001b[0m\u001b[0m\n",
      "\u001b[1;31mCancelledError\u001b[0m: "
     ]
    }
   ],
   "source": [
    "for num_elites, population_cap, num_games in parameter_sets:\n",
    "    await run(\n",
    "        num_elites,\n",
    "        tournament_size,\n",
    "        population_cap,\n",
    "        epochs,\n",
    "        num_games\n",
    "    )"
   ]
  },
  {
   "cell_type": "markdown",
   "metadata": {},
   "source": [
    "# Evaluate"
   ]
  },
  {
   "cell_type": "code",
   "execution_count": null,
   "metadata": {
    "ExecuteTime": {
     "start_time": "2020-04-14T23:51:39.514Z"
    },
    "scrolled": false
   },
   "outputs": [
    {
     "name": "stdout",
     "output_type": "stream",
     "text": [
      "960\n"
     ]
    },
    {
     "data": {
      "application/vnd.jupyter.widget-view+json": {
       "model_id": "6ed66d993eb74647ae85a2bd3ab19697",
       "version_major": 2,
       "version_minor": 0
      },
      "text/plain": [
       "HBox(children=(FloatProgress(value=0.0, max=10.0), HTML(value='')))"
      ]
     },
     "metadata": {},
     "output_type": "display_data"
    },
    {
     "name": "stdout",
     "output_type": "stream",
     "text": [
      "'int' object has no attribute 'damage_multiplier'\n",
      "Traceback (most recent call last):\n",
      "  File \"<ipython-input-2-dfe3a48428ec>\", line 21, in choose_move\n",
      "    move = self.script.choose_move(battle)\n",
      "  File \"<string>\", line 21, in choose_move\n",
      "  File \"/Users/Uduse/GoogleDrive/uofa/courses/cmput_659/final/src/DSL/DSL.py\", line 144, in type_multiplier\n",
      "    precast = move.type.damage_multiplier(*self.battle.opponent_active_pokemon.types)\n",
      "AttributeError: 'int' object has no attribute 'damage_multiplier'\n",
      "\n",
      "class Script_1f8a5fcec5f346449d04003cb7e73339(Script):\n",
      "    def choose_move(self, battle: Battle):\n",
      "    \n",
      "        available_moves = battle.available_moves\n",
      "        if not available_moves:\n",
      "            return random.choice(battle.available_switches)\n",
      "            \n",
      "        dsl = DSL(battle)\n",
      "        move_scores = []\n",
      "        for move in battle.available_moves:\n",
      "            score = 0\n",
      "            if (dsl.check_move_is_gyro_ball(move)):\n",
      "                if ((dsl.check_move_sds_if_hits_opp(move) or dsl.move_is_physical(move))):\n",
      "                    score += 6\n",
      "            if (((dsl.player_battle_stat_modifier('atk') >= -2) and dsl.gets_stab(move))):\n",
      "                if ((dsl.check_move_inflicts_status_condition(move, Status.PSN) or dsl.player_has_status_effect(Status.PSN))):\n",
      "                    score += 7\n",
      "                if (((dsl.move_accuracy(move) <= 0) or dsl.check_move_boosts_stat(move, 'def'))):\n",
      "                    score += 8\n",
      "            if (((dsl.opponent_base_stat('hp') >= 4) and (dsl.type_multiplier(move) >= 4))):\n",
      "                score += 1\n",
      "            move_scores.append(score)\n",
      "            \n",
      "        best_move = available_moves[move_scores.index(max(move_scores))]\n",
      "        return best_move\n",
      "\n",
      "'int' object has no attribute 'damage_multiplier'\n",
      "Traceback (most recent call last):\n",
      "  File \"<ipython-input-2-dfe3a48428ec>\", line 21, in choose_move\n",
      "    move = self.script.choose_move(battle)\n",
      "  File \"<string>\", line 21, in choose_move\n",
      "  File \"/Users/Uduse/GoogleDrive/uofa/courses/cmput_659/final/src/DSL/DSL.py\", line 144, in type_multiplier\n",
      "    precast = move.type.damage_multiplier(*self.battle.opponent_active_pokemon.types)\n",
      "AttributeError: 'int' object has no attribute 'damage_multiplier'\n",
      "\n",
      "class Script_1f8a5fcec5f346449d04003cb7e73339(Script):\n",
      "    def choose_move(self, battle: Battle):\n",
      "    \n",
      "        available_moves = battle.available_moves\n",
      "        if not available_moves:\n",
      "            return random.choice(battle.available_switches)\n",
      "            \n",
      "        dsl = DSL(battle)\n",
      "        move_scores = []\n",
      "        for move in battle.available_moves:\n",
      "            score = 0\n",
      "            if (dsl.check_move_is_gyro_ball(move)):\n",
      "                if ((dsl.check_move_sds_if_hits_opp(move) or dsl.move_is_physical(move))):\n",
      "                    score += 6\n",
      "            if (((dsl.player_battle_stat_modifier('atk') >= -2) and dsl.gets_stab(move))):\n",
      "                if ((dsl.check_move_inflicts_status_condition(move, Status.PSN) or dsl.player_has_status_effect(Status.PSN))):\n",
      "                    score += 7\n",
      "                if (((dsl.move_accuracy(move) <= 0) or dsl.check_move_boosts_stat(move, 'def'))):\n",
      "                    score += 8\n",
      "            if (((dsl.opponent_base_stat('hp') >= 4) and (dsl.type_multiplier(move) >= 4))):\n",
      "                score += 1\n",
      "            move_scores.append(score)\n",
      "            \n",
      "        best_move = available_moves[move_scores.index(max(move_scores))]\n",
      "        return best_move\n",
      "\n"
     ]
    }
   ],
   "source": [
    "for num_elites, population_cap, num_games in parameter_sets:\n",
    "    generations = []\n",
    "    for i in range(epochs):\n",
    "        fname = get_fname(num_elites, tournament_size, population_cap, epochs, num_games, i)\n",
    "        generations.append(load_population(fname))\n",
    "    all_scripts = sum(generations, [])\n",
    "    print(len(all_scripts))\n",
    "    \n",
    "    await evaluate_population(all_scripts, num_games=10, verbose=True)\n",
    "\n",
    "    script_to_gen = {}\n",
    "    for i, gen in enumerate(generations):\n",
    "        for script in gen:\n",
    "            script_to_gen[script] = i\n",
    "\n",
    "    gen_ratings = [[] for _ in range(len(generations))]\n",
    "    for script in all_scripts:\n",
    "        gen_idx = script_to_gen[script]\n",
    "        gen_ratings[gen_idx].append(script.rating.mu)\n",
    "    gen_ratings = np.asarray(gen_ratings)\n",
    "    \n",
    "    best_scripts = sort_population(all_scripts)[:10]\n",
    "\n",
    "    xs = np.arange(len(gen_ratings))\n",
    "    ys_high = np.percentile(gen_ratings, 75, axis=-1)\n",
    "    ys_median = np.median(gen_ratings, axis=-1)\n",
    "    ys_low = np.percentile(gen_ratings, 25, axis=-1)\n",
    "    stats = (xs, ys_high, ys_median, ys_low)\n",
    "    \n",
    "    fname = get_fname(num_elites, tournament_size, population_cap, epochs, num_games, 'stats')\n",
    "    \n",
    "    save_stats(stats, fname)\n",
    "    save_population(best_scripts, fname)"
   ]
  },
  {
   "cell_type": "code",
   "execution_count": null,
   "metadata": {
    "ExecuteTime": {
     "start_time": "2020-04-14T23:51:41.623Z"
    },
    "scrolled": false
   },
   "outputs": [],
   "source": [
    "from bokeh.plotting import figure, output_file, show, reset_output, output_notebook\n",
    "\n",
    "reset_output()\n",
    "output_notebook()\n",
    "\n",
    "for num_elites, population_cap, num_games in parameter_sets:\n",
    "    fname = get_fname(num_elites, tournament_size, population_cap, epochs, num_games, 'stats')\n",
    "    print(fname)\n",
    "    \n",
    "    xs, ys_high, ys_median, ys_low = load_stats(fname)\n",
    "    p = figure(plot_width=800, plot_height=400, y_range=(15, 40))\n",
    "    p.line(xs, ys_high, line_width=2, alpha=0.3)\n",
    "    p.line(xs, ys_median, line_width=2)\n",
    "    p.line(xs, ys_low, line_width=2, alpha=0.3)\n",
    "\n",
    "    show(p)\n",
    "    \n",
    "    best_scripts = load_population(fname)\n",
    "    for script in best_scripts[:3]:\n",
    "        print(script.raw_script)"
   ]
  },
  {
   "cell_type": "code",
   "execution_count": null,
   "metadata": {},
   "outputs": [],
   "source": []
  }
 ],
 "metadata": {
  "hide_input": false,
  "kernelspec": {
   "display_name": "cmput_659_final",
   "language": "python",
   "name": "cmput_659_final"
  },
  "language_info": {
   "codemirror_mode": {
    "name": "ipython",
    "version": 3
   },
   "file_extension": ".py",
   "mimetype": "text/x-python",
   "name": "python",
   "nbconvert_exporter": "python",
   "pygments_lexer": "ipython3",
   "version": "3.7.5"
  },
  "pycharm": {
   "stem_cell": {
    "cell_type": "raw",
    "metadata": {
     "collapsed": false
    },
    "source": []
   }
  },
  "toc": {
   "base_numbering": 1,
   "nav_menu": {},
   "number_sections": true,
   "sideBar": true,
   "skip_h1_title": false,
   "title_cell": "Table of Contents",
   "title_sidebar": "Contents",
   "toc_cell": false,
   "toc_position": {},
   "toc_section_display": true,
   "toc_window_display": false
  }
 },
 "nbformat": 4,
 "nbformat_minor": 2
}
