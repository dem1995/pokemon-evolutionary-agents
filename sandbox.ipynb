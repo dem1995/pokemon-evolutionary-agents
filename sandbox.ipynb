{
 "cells": [
  {
   "cell_type": "code",
   "execution_count": 1,
   "metadata": {
    "ExecuteTime": {
     "end_time": "2020-04-14T23:40:47.547262Z",
     "start_time": "2020-04-14T23:40:46.836488Z"
    },
    "scrolled": true
   },
   "outputs": [],
   "source": [
    "from src.core import *\n",
    "from src import DSL\n",
    "import inspect\n",
    "import typing\n",
    "\n",
    "import asyncio\n",
    "\n",
    "from poke_env.player.random_player import RandomPlayer\n",
    "from poke_env.player.utils import cross_evaluate\n",
    "from poke_env.player_configuration import PlayerConfiguration\n",
    "from poke_env.server_configuration import LocalhostServerConfiguration\n",
    "from poke_env.utils import to_id_str\n",
    "from tabulate import tabulate\n",
    "\n",
    "import trueskill\n",
    "import copy\n",
    "from trueskill import Rating, rate_1vs1, quality_1vs1\n",
    "from tqdm.notebook import tqdm\n",
    "import itertools\n",
    "import numpy as np\n",
    "import pandas as pd\n",
    "from pprint import pprint\n",
    "\n",
    "\n",
    "import logging\n",
    "# from aiologger.handlers.files import AsyncFileHandler\n",
    "# from aiologger.handlers.files import AsyncFileHandler\n",
    "from tempfile import NamedTemporaryFile\n",
    "\n",
    "from pathlib import Path\n",
    "import pickle\n",
    "import dill\n",
    "import gc\n",
    "import math\n",
    "import datetime\n",
    "import sys, traceback"
   ]
  },
  {
   "cell_type": "code",
   "execution_count": 2,
   "metadata": {
    "ExecuteTime": {
     "end_time": "2020-04-14T23:40:48.422871Z",
     "start_time": "2020-04-14T23:40:48.416663Z"
    }
   },
   "outputs": [],
   "source": [
    "class PlayerWrapper(Player):\n",
    "    def __init__(self, *args, **kwargs):\n",
    "        super().__init__(\n",
    "            player_configuration=PlayerConfiguration(get_node_id(), None),\n",
    "            battle_format=\"gen7randombattle\",\n",
    "            server_configuration=LocalhostServerConfiguration,\n",
    "            max_concurrent_battles=100000000,\n",
    "        )\n",
    "        self.script = None\n",
    "        \n",
    "#         self.log_file = NamedTemporaryFile()\n",
    "#         self.patch_logger()\n",
    "    \n",
    "#     def patch_logger(self):\n",
    "#         self.logger.removeHandler(self.logger.handlers[0])\n",
    "#         self.logger.addHandler(logging.FileHandler(self.log_file.name))\n",
    "#         self.logger.\n",
    "        \n",
    "    def choose_move(self, battle):\n",
    "        try:\n",
    "            move = self.script.choose_move(battle)\n",
    "            return self.create_order(move)\n",
    "        except Exception as e:\n",
    "            print(e)\n",
    "            traceback.print_exc(file=sys.stdout)\n",
    "            print(self.script.raw_script)\n",
    "            return self.choose_random_move(battle)"
   ]
  },
  {
   "cell_type": "code",
   "execution_count": 3,
   "metadata": {
    "ExecuteTime": {
     "end_time": "2020-04-14T23:40:48.843248Z",
     "start_time": "2020-04-14T23:40:48.773598Z"
    }
   },
   "outputs": [],
   "source": [
    "chunk_size = 1024\n",
    "shared_players = [PlayerWrapper() for _ in range(chunk_size)]\n",
    "player_lookup = {player.username: player for player in shared_players}"
   ]
  },
  {
   "cell_type": "code",
   "execution_count": 4,
   "metadata": {
    "ExecuteTime": {
     "end_time": "2020-04-14T23:40:49.150131Z",
     "start_time": "2020-04-14T23:40:49.138338Z"
    }
   },
   "outputs": [],
   "source": [
    "async def evaluate_population(population, num_games, verbose=True):\n",
    "    for script in population:\n",
    "        script.rating = Rating()\n",
    "    \n",
    "    num_players = min(chunk_size, len(population))\n",
    "    players = shared_players[:num_players]\n",
    "    num_chunks = int(math.ceil(len(population) / chunk_size))\n",
    "    chunks = [population[i * chunk_size : (i + 1) * chunk_size] for i in range(num_chunks)]\n",
    "    \n",
    "    for chunk_idx, population in enumerate(chunks):\n",
    "        if num_chunks > 1:\n",
    "            print(f\"chunk {chunk_idx + 1} / {num_chunks}\")\n",
    "        \n",
    "        for i, script in enumerate(population):\n",
    "            players[i].script = script\n",
    "        \n",
    "        for _ in tqdm(range(num_games), disable=not verbose):\n",
    "            random.shuffle(players)\n",
    "            awaitables = []\n",
    "            for p1, p2 in zip(players[0::2], players[1::2]):\n",
    "                send = p1.send_challenges(\n",
    "                    opponent=to_id_str(p2.username),\n",
    "                    n_challenges=1,\n",
    "                    to_wait=p2.logged_in,\n",
    "                )\n",
    "                accept = p2.accept_challenges(\n",
    "                    opponent=to_id_str(p1.username),\n",
    "                    n_challenges=1,\n",
    "                )\n",
    "                awaitables.append(send)\n",
    "                awaitables.append(accept)\n",
    "            await asyncio.gather(*awaitables)\n",
    "\n",
    "        battles = sum((list(player.battles.values()) for player in players), [])\n",
    "        \n",
    "        for battle in battles:\n",
    "            player = player_lookup[battle.player_username]\n",
    "            oppo = player_lookup[battle._opponent_username]\n",
    "\n",
    "            if battle.won:\n",
    "                winner, loser = player, oppo\n",
    "            else:\n",
    "                winner, loser = oppo, player\n",
    "            winner.script.rating, loser.script.rating = rate_1vs1(winner.script.rating, loser.script.rating)\n",
    "        \n",
    "        for player in players:\n",
    "            player.reset_battles()\n",
    "\n",
    "    del players\n",
    "    gc.collect()"
   ]
  },
  {
   "cell_type": "code",
   "execution_count": 5,
   "metadata": {
    "ExecuteTime": {
     "end_time": "2020-04-14T23:40:49.264408Z",
     "start_time": "2020-04-14T23:40:49.261623Z"
    }
   },
   "outputs": [],
   "source": [
    "def sort_population(population):\n",
    "    return sorted(population, key=lambda p: p.rating.mu, reverse=True)"
   ]
  },
  {
   "cell_type": "code",
   "execution_count": 6,
   "metadata": {
    "ExecuteTime": {
     "end_time": "2020-04-14T23:40:49.430717Z",
     "start_time": "2020-04-14T23:40:49.428043Z"
    }
   },
   "outputs": [],
   "source": [
    "def get_elites(population, num_elites):\n",
    "    return sort_population(population)[:num_elites]"
   ]
  },
  {
   "cell_type": "code",
   "execution_count": 7,
   "metadata": {
    "ExecuteTime": {
     "end_time": "2020-04-14T23:40:49.584702Z",
     "start_time": "2020-04-14T23:40:49.581395Z"
    }
   },
   "outputs": [],
   "source": [
    "def get_tournament_elites(population, tournament_size, num_elites):\n",
    "    tournament = random.sample(population, tournament_size)\n",
    "    return get_elites(tournament, num_elites)"
   ]
  },
  {
   "cell_type": "code",
   "execution_count": 8,
   "metadata": {
    "ExecuteTime": {
     "end_time": "2020-04-14T23:40:49.750698Z",
     "start_time": "2020-04-14T23:40:49.745813Z"
    }
   },
   "outputs": [],
   "source": [
    "def mutate(tree, filter_=None):\n",
    "    if not filter_:\n",
    "        filter_ = lambda x: type(x) is not str\n",
    "    tree = copy.deepcopy(tree)\n",
    "    candidates = anytree.search.findall(tree, filter_=filter_)\n",
    "    if candidates:\n",
    "        target = random.choice(candidates)\n",
    "        target.children = []\n",
    "        generate_tree(target)\n",
    "    return tree"
   ]
  },
  {
   "cell_type": "code",
   "execution_count": 9,
   "metadata": {
    "ExecuteTime": {
     "end_time": "2020-04-14T23:40:49.992816Z",
     "start_time": "2020-04-14T23:40:49.984524Z"
    }
   },
   "outputs": [],
   "source": [
    "def crossover(left, right):\n",
    "    def _is_valid_subtree_head(node):\n",
    "#         return node.name in [RULE.IF_BLOCK]\n",
    "        return True\n",
    "\n",
    "    def _find_head_types(root):\n",
    "        return [node.name for node in anytree.search.findall(root, filter_=_is_valid_subtree_head)]\n",
    "\n",
    "    def _select_type_node(root, type_):\n",
    "        candidates = anytree.search.findall(root, filter_=lambda node: node.name == type_)\n",
    "        return random.choice(candidates)\n",
    "    \n",
    "    def _swap_children(left, right):\n",
    "        left.children, right.children = right.children, left.children\n",
    "        \n",
    "    left = copy.deepcopy(left)\n",
    "    right = copy.deepcopy(right)\n",
    "\n",
    "    left_head_types = _find_head_types(left)\n",
    "    right_head_types = _find_head_types(right)\n",
    "\n",
    "    type_intersection = list(set(left_head_types) & set(right_head_types))\n",
    "    if type_intersection:\n",
    "        type_to_swap = random.choice(type_intersection)\n",
    "        left_head = _select_type_node(left, type_to_swap)\n",
    "        right_head = _select_type_node(right, type_to_swap)\n",
    "        _swap_children(left_head, right_head)\n",
    "    return left, right"
   ]
  },
  {
   "cell_type": "code",
   "execution_count": 10,
   "metadata": {
    "ExecuteTime": {
     "end_time": "2020-04-14T23:40:50.072704Z",
     "start_time": "2020-04-14T23:40:50.069977Z"
    }
   },
   "outputs": [],
   "source": [
    "def get_random_population(population_size):\n",
    "    return [exec_tree(get_random_tree()) for _ in range(population_size)]"
   ]
  },
  {
   "cell_type": "code",
   "execution_count": 11,
   "metadata": {
    "ExecuteTime": {
     "end_time": "2020-04-14T23:40:50.227570Z",
     "start_time": "2020-04-14T23:40:50.225799Z"
    }
   },
   "outputs": [],
   "source": [
    "# def get_population_stats(population):\n",
    "#     ratings = pd.Series([player.rating.mu for player in population])\n",
    "#     return ratings.describe()"
   ]
  },
  {
   "cell_type": "code",
   "execution_count": 12,
   "metadata": {
    "ExecuteTime": {
     "end_time": "2020-04-14T23:40:50.535344Z",
     "start_time": "2020-04-14T23:40:50.529974Z"
    }
   },
   "outputs": [],
   "source": [
    "def save_population(population, fname):\n",
    "    path = Path('temp_scripts').joinpath(fname)\n",
    "    with open(path, 'wb') as f:\n",
    "        dill.dump([player.tree for player in population], f)\n",
    "            \n",
    "def load_population(fname):\n",
    "    path = Path('temp_scripts').joinpath(fname)\n",
    "    with open(path, 'rb') as f:\n",
    "        return [exec_tree(tree) for tree in dill.load(f)]"
   ]
  },
  {
   "cell_type": "code",
   "execution_count": 13,
   "metadata": {
    "ExecuteTime": {
     "end_time": "2020-04-14T23:40:50.708930Z",
     "start_time": "2020-04-14T23:40:50.704564Z"
    }
   },
   "outputs": [],
   "source": [
    "def save_stats(stats, fname):\n",
    "    path = Path('temp_stats').joinpath(fname)\n",
    "    with open(path, 'wb') as f:\n",
    "        dill.dump(stats, f)\n",
    "            \n",
    "def load_stats(fname):\n",
    "    path = Path('temp_stats').joinpath(fname)\n",
    "    with open(path, 'rb') as f:\n",
    "        return dill.load(f)"
   ]
  },
  {
   "cell_type": "markdown",
   "metadata": {},
   "source": [
    "# Evolve"
   ]
  },
  {
   "cell_type": "code",
   "execution_count": 14,
   "metadata": {
    "ExecuteTime": {
     "end_time": "2020-04-14T23:40:51.177482Z",
     "start_time": "2020-04-14T23:40:51.174145Z"
    }
   },
   "outputs": [],
   "source": [
    "def get_fname(\n",
    "    num_elites,\n",
    "    tournament_size,\n",
    "    population_cap,\n",
    "    epochs,\n",
    "    num_games,\n",
    "    index\n",
    "):\n",
    "    return f\"e_{num_elites}_t_{tournament_size}_k_{population_cap}_g_{epochs}_n_{num_games}_{index}.dill\""
   ]
  },
  {
   "cell_type": "code",
   "execution_count": 15,
   "metadata": {
    "ExecuteTime": {
     "end_time": "2020-04-14T23:40:51.404367Z",
     "start_time": "2020-04-14T23:40:51.396617Z"
    }
   },
   "outputs": [],
   "source": [
    "async def run(\n",
    "    num_elites,\n",
    "    tournament_size,\n",
    "    population_cap,\n",
    "    epochs,\n",
    "    num_games\n",
    "):\n",
    "    population = get_random_population(population_size=population_cap)\n",
    "    generations = []\n",
    "    for i in tqdm(range(epochs)):\n",
    "        fname = get_fname(num_elites, tournament_size, population_cap, epochs, num_games, i)\n",
    "        save_population(population, fname)\n",
    "        await evaluate_population(population, num_games=num_games, verbose=False)\n",
    "        generations.append([copy.deepcopy(script) for script in population])\n",
    "        next_population = []\n",
    "        next_population.extend(get_elites(population, num_elites))\n",
    "        while len(next_population) < population_cap:\n",
    "            left, right = get_tournament_elites(population, tournament_size, 2)\n",
    "            children = crossover(left.tree, right.tree)\n",
    "            for child_tree in children:\n",
    "                child_tree = mutate(child_tree)\n",
    "                next_population.append(exec_tree(child_tree))\n",
    "        population = next_population[:population_cap]\n",
    "        gc.collect()"
   ]
  },
  {
   "cell_type": "code",
   "execution_count": 22,
   "metadata": {
    "ExecuteTime": {
     "end_time": "2020-04-14T23:50:24.781457Z",
     "start_time": "2020-04-14T23:50:24.778179Z"
    }
   },
   "outputs": [],
   "source": [
    "epochs = 30\n",
    "tournament_size = 5\n",
    "\n",
    "parameter_sets = [\n",
    "#     (4, 32, 5),\n",
    "    \n",
    "#     (2, 32, 5),\n",
    "#     (4, 32, 5),\n",
    "    \n",
    "#     (4, 24, 5),\n",
    "    \n",
    "    (2, 32, 5),\n",
    "#     (2, 32, 10),\n",
    "    (2, 32, 10),\n",
    "#     (4, 80, 2),\n",
    "    \n",
    "#     (4, 32, 8),\n",
    "#     (4, 32, 12),\n",
    "]"
   ]
  },
  {
   "cell_type": "code",
   "execution_count": 17,
   "metadata": {
    "ExecuteTime": {
     "end_time": "2020-04-14T23:40:55.393902Z",
     "start_time": "2020-04-14T23:40:52.146518Z"
    },
    "scrolled": false
   },
   "outputs": [
    {
     "data": {
      "application/vnd.jupyter.widget-view+json": {
       "model_id": "03df1ff1cafa4567be1536f2616b5f16",
       "version_major": 2,
       "version_minor": 0
      },
      "text/plain": [
       "HBox(children=(FloatProgress(value=0.0, max=30.0), HTML(value='')))"
      ]
     },
     "metadata": {},
     "output_type": "display_data"
    },
    {
     "name": "stdout",
     "output_type": "stream",
     "text": [
      "\n"
     ]
    },
    {
     "ename": "CancelledError",
     "evalue": "",
     "output_type": "error",
     "traceback": [
      "\u001b[1;31m---------------------------------------------------------------------------\u001b[0m",
      "\u001b[1;31mCancelledError\u001b[0m                            Traceback (most recent call last)",
      "\u001b[1;32m<ipython-input-17-aafaa7cd101e>\u001b[0m in \u001b[0;36masync-def-wrapper\u001b[1;34m()\u001b[0m\n\u001b[0;32m      8\u001b[0m     )\n",
      "\u001b[1;32m<ipython-input-15-d6395da042b3>\u001b[0m in \u001b[0;36mrun\u001b[1;34m(num_elites, tournament_size, population_cap, epochs, num_games)\u001b[0m\n\u001b[0;32m     11\u001b[0m         \u001b[0mfname\u001b[0m \u001b[1;33m=\u001b[0m \u001b[0mget_fname\u001b[0m\u001b[1;33m(\u001b[0m\u001b[0mnum_elites\u001b[0m\u001b[1;33m,\u001b[0m \u001b[0mtournament_size\u001b[0m\u001b[1;33m,\u001b[0m \u001b[0mpopulation_cap\u001b[0m\u001b[1;33m,\u001b[0m \u001b[0mepochs\u001b[0m\u001b[1;33m,\u001b[0m \u001b[0mnum_games\u001b[0m\u001b[1;33m,\u001b[0m \u001b[0mi\u001b[0m\u001b[1;33m)\u001b[0m\u001b[1;33m\u001b[0m\u001b[1;33m\u001b[0m\u001b[0m\n\u001b[0;32m     12\u001b[0m         \u001b[0msave_population\u001b[0m\u001b[1;33m(\u001b[0m\u001b[0mpopulation\u001b[0m\u001b[1;33m,\u001b[0m \u001b[0mfname\u001b[0m\u001b[1;33m)\u001b[0m\u001b[1;33m\u001b[0m\u001b[1;33m\u001b[0m\u001b[0m\n\u001b[1;32m---> 13\u001b[1;33m         \u001b[1;32mawait\u001b[0m \u001b[0mevaluate_population\u001b[0m\u001b[1;33m(\u001b[0m\u001b[0mpopulation\u001b[0m\u001b[1;33m,\u001b[0m \u001b[0mnum_games\u001b[0m\u001b[1;33m=\u001b[0m\u001b[0mnum_games\u001b[0m\u001b[1;33m,\u001b[0m \u001b[0mverbose\u001b[0m\u001b[1;33m=\u001b[0m\u001b[1;32mFalse\u001b[0m\u001b[1;33m)\u001b[0m\u001b[1;33m\u001b[0m\u001b[1;33m\u001b[0m\u001b[0m\n\u001b[0m\u001b[0;32m     14\u001b[0m         \u001b[0mgenerations\u001b[0m\u001b[1;33m.\u001b[0m\u001b[0mappend\u001b[0m\u001b[1;33m(\u001b[0m\u001b[1;33m[\u001b[0m\u001b[0mcopy\u001b[0m\u001b[1;33m.\u001b[0m\u001b[0mdeepcopy\u001b[0m\u001b[1;33m(\u001b[0m\u001b[0mscript\u001b[0m\u001b[1;33m)\u001b[0m \u001b[1;32mfor\u001b[0m \u001b[0mscript\u001b[0m \u001b[1;32min\u001b[0m \u001b[0mpopulation\u001b[0m\u001b[1;33m]\u001b[0m\u001b[1;33m)\u001b[0m\u001b[1;33m\u001b[0m\u001b[1;33m\u001b[0m\u001b[0m\n\u001b[0;32m     15\u001b[0m         \u001b[0mnext_population\u001b[0m \u001b[1;33m=\u001b[0m \u001b[1;33m[\u001b[0m\u001b[1;33m]\u001b[0m\u001b[1;33m\u001b[0m\u001b[1;33m\u001b[0m\u001b[0m\n",
      "\u001b[1;32m<ipython-input-4-680997da439d>\u001b[0m in \u001b[0;36mevaluate_population\u001b[1;34m(population, num_games, verbose)\u001b[0m\n\u001b[0;32m     30\u001b[0m                 \u001b[0mawaitables\u001b[0m\u001b[1;33m.\u001b[0m\u001b[0mappend\u001b[0m\u001b[1;33m(\u001b[0m\u001b[0msend\u001b[0m\u001b[1;33m)\u001b[0m\u001b[1;33m\u001b[0m\u001b[1;33m\u001b[0m\u001b[0m\n\u001b[0;32m     31\u001b[0m                 \u001b[0mawaitables\u001b[0m\u001b[1;33m.\u001b[0m\u001b[0mappend\u001b[0m\u001b[1;33m(\u001b[0m\u001b[0maccept\u001b[0m\u001b[1;33m)\u001b[0m\u001b[1;33m\u001b[0m\u001b[1;33m\u001b[0m\u001b[0m\n\u001b[1;32m---> 32\u001b[1;33m             \u001b[1;32mawait\u001b[0m \u001b[0masyncio\u001b[0m\u001b[1;33m.\u001b[0m\u001b[0mgather\u001b[0m\u001b[1;33m(\u001b[0m\u001b[1;33m*\u001b[0m\u001b[0mawaitables\u001b[0m\u001b[1;33m)\u001b[0m\u001b[1;33m\u001b[0m\u001b[1;33m\u001b[0m\u001b[0m\n\u001b[0m\u001b[0;32m     33\u001b[0m \u001b[1;33m\u001b[0m\u001b[0m\n\u001b[0;32m     34\u001b[0m         \u001b[0mbattles\u001b[0m \u001b[1;33m=\u001b[0m \u001b[0msum\u001b[0m\u001b[1;33m(\u001b[0m\u001b[1;33m(\u001b[0m\u001b[0mlist\u001b[0m\u001b[1;33m(\u001b[0m\u001b[0mplayer\u001b[0m\u001b[1;33m.\u001b[0m\u001b[0mbattles\u001b[0m\u001b[1;33m.\u001b[0m\u001b[0mvalues\u001b[0m\u001b[1;33m(\u001b[0m\u001b[1;33m)\u001b[0m\u001b[1;33m)\u001b[0m \u001b[1;32mfor\u001b[0m \u001b[0mplayer\u001b[0m \u001b[1;32min\u001b[0m \u001b[0mplayers\u001b[0m\u001b[1;33m)\u001b[0m\u001b[1;33m,\u001b[0m \u001b[1;33m[\u001b[0m\u001b[1;33m]\u001b[0m\u001b[1;33m)\u001b[0m\u001b[1;33m\u001b[0m\u001b[1;33m\u001b[0m\u001b[0m\n",
      "\u001b[1;31mCancelledError\u001b[0m: "
     ]
    }
   ],
   "source": [
    "for num_elites, population_cap, num_games in parameter_sets:\n",
    "    await run(\n",
    "        num_elites,\n",
    "        tournament_size,\n",
    "        population_cap,\n",
    "        epochs,\n",
    "        num_games\n",
    "    )"
   ]
  },
  {
   "cell_type": "markdown",
   "metadata": {},
   "source": [
    "# Evaluate"
   ]
  },
  {
   "cell_type": "code",
   "execution_count": 23,
   "metadata": {
    "ExecuteTime": {
     "end_time": "2020-04-14T23:58:02.609947Z",
     "start_time": "2020-04-14T23:51:39.516291Z"
    },
    "scrolled": false
   },
   "outputs": [
    {
     "name": "stdout",
     "output_type": "stream",
     "text": [
      "960\n"
     ]
    },
    {
     "data": {
      "application/vnd.jupyter.widget-view+json": {
       "model_id": "6ed66d993eb74647ae85a2bd3ab19697",
       "version_major": 2,
       "version_minor": 0
      },
      "text/plain": [
       "HBox(children=(FloatProgress(value=0.0, max=10.0), HTML(value='')))"
      ]
     },
     "metadata": {},
     "output_type": "display_data"
    },
    {
     "name": "stdout",
     "output_type": "stream",
     "text": [
      "'int' object has no attribute 'damage_multiplier'\n",
      "Traceback (most recent call last):\n",
      "  File \"<ipython-input-2-dfe3a48428ec>\", line 21, in choose_move\n",
      "    move = self.script.choose_move(battle)\n",
      "  File \"<string>\", line 21, in choose_move\n",
      "  File \"/Users/Uduse/GoogleDrive/uofa/courses/cmput_659/final/src/DSL/DSL.py\", line 144, in type_multiplier\n",
      "    precast = move.type.damage_multiplier(*self.battle.opponent_active_pokemon.types)\n",
      "AttributeError: 'int' object has no attribute 'damage_multiplier'\n",
      "\n",
      "class Script_1f8a5fcec5f346449d04003cb7e73339(Script):\n",
      "    def choose_move(self, battle: Battle):\n",
      "    \n",
      "        available_moves = battle.available_moves\n",
      "        if not available_moves:\n",
      "            return random.choice(battle.available_switches)\n",
      "            \n",
      "        dsl = DSL(battle)\n",
      "        move_scores = []\n",
      "        for move in battle.available_moves:\n",
      "            score = 0\n",
      "            if (dsl.check_move_is_gyro_ball(move)):\n",
      "                if ((dsl.check_move_sds_if_hits_opp(move) or dsl.move_is_physical(move))):\n",
      "                    score += 6\n",
      "            if (((dsl.player_battle_stat_modifier('atk') >= -2) and dsl.gets_stab(move))):\n",
      "                if ((dsl.check_move_inflicts_status_condition(move, Status.PSN) or dsl.player_has_status_effect(Status.PSN))):\n",
      "                    score += 7\n",
      "                if (((dsl.move_accuracy(move) <= 0) or dsl.check_move_boosts_stat(move, 'def'))):\n",
      "                    score += 8\n",
      "            if (((dsl.opponent_base_stat('hp') >= 4) and (dsl.type_multiplier(move) >= 4))):\n",
      "                score += 1\n",
      "            move_scores.append(score)\n",
      "            \n",
      "        best_move = available_moves[move_scores.index(max(move_scores))]\n",
      "        return best_move\n",
      "\n",
      "'int' object has no attribute 'damage_multiplier'\n",
      "Traceback (most recent call last):\n",
      "  File \"<ipython-input-2-dfe3a48428ec>\", line 21, in choose_move\n",
      "    move = self.script.choose_move(battle)\n",
      "  File \"<string>\", line 21, in choose_move\n",
      "  File \"/Users/Uduse/GoogleDrive/uofa/courses/cmput_659/final/src/DSL/DSL.py\", line 144, in type_multiplier\n",
      "    precast = move.type.damage_multiplier(*self.battle.opponent_active_pokemon.types)\n",
      "AttributeError: 'int' object has no attribute 'damage_multiplier'\n",
      "\n",
      "class Script_1f8a5fcec5f346449d04003cb7e73339(Script):\n",
      "    def choose_move(self, battle: Battle):\n",
      "    \n",
      "        available_moves = battle.available_moves\n",
      "        if not available_moves:\n",
      "            return random.choice(battle.available_switches)\n",
      "            \n",
      "        dsl = DSL(battle)\n",
      "        move_scores = []\n",
      "        for move in battle.available_moves:\n",
      "            score = 0\n",
      "            if (dsl.check_move_is_gyro_ball(move)):\n",
      "                if ((dsl.check_move_sds_if_hits_opp(move) or dsl.move_is_physical(move))):\n",
      "                    score += 6\n",
      "            if (((dsl.player_battle_stat_modifier('atk') >= -2) and dsl.gets_stab(move))):\n",
      "                if ((dsl.check_move_inflicts_status_condition(move, Status.PSN) or dsl.player_has_status_effect(Status.PSN))):\n",
      "                    score += 7\n",
      "                if (((dsl.move_accuracy(move) <= 0) or dsl.check_move_boosts_stat(move, 'def'))):\n",
      "                    score += 8\n",
      "            if (((dsl.opponent_base_stat('hp') >= 4) and (dsl.type_multiplier(move) >= 4))):\n",
      "                score += 1\n",
      "            move_scores.append(score)\n",
      "            \n",
      "        best_move = available_moves[move_scores.index(max(move_scores))]\n",
      "        return best_move\n",
      "\n",
      "\n"
     ]
    }
   ],
   "source": [
    "for num_elites, population_cap, num_games in parameter_sets:\n",
    "    generations = []\n",
    "    for i in range(epochs):\n",
    "        fname = get_fname(num_elites, tournament_size, population_cap, epochs, num_games, i)\n",
    "        generations.append(load_population(fname))\n",
    "    all_scripts = sum(generations, [])\n",
    "    print(len(all_scripts))\n",
    "    \n",
    "    await evaluate_population(all_scripts, num_games=10, verbose=True)\n",
    "\n",
    "    script_to_gen = {}\n",
    "    for i, gen in enumerate(generations):\n",
    "        for script in gen:\n",
    "            script_to_gen[script] = i\n",
    "\n",
    "    gen_ratings = [[] for _ in range(len(generations))]\n",
    "    for script in all_scripts:\n",
    "        gen_idx = script_to_gen[script]\n",
    "        gen_ratings[gen_idx].append(script.rating.mu)\n",
    "    gen_ratings = np.asarray(gen_ratings)\n",
    "    \n",
    "    best_scripts = sort_population(all_scripts)[:10]\n",
    "\n",
    "    xs = np.arange(len(gen_ratings))\n",
    "    ys_high = np.percentile(gen_ratings, 75, axis=-1)\n",
    "    ys_median = np.median(gen_ratings, axis=-1)\n",
    "    ys_low = np.percentile(gen_ratings, 25, axis=-1)\n",
    "    stats = (xs, ys_high, ys_median, ys_low)\n",
    "    \n",
    "    fname = get_fname(num_elites, tournament_size, population_cap, epochs, num_games, 'stats')\n",
    "    \n",
    "    save_stats(stats, fname)\n",
    "    save_population(best_scripts, fname)"
   ]
  },
  {
   "cell_type": "code",
   "execution_count": 24,
   "metadata": {
    "ExecuteTime": {
     "end_time": "2020-04-14T23:58:02.697300Z",
     "start_time": "2020-04-14T23:58:02.633172Z"
    },
    "scrolled": false
   },
   "outputs": [
    {
     "data": {
      "text/html": [
       "\n",
       "    <div class=\"bk-root\">\n",
       "        <a href=\"https://bokeh.org\" target=\"_blank\" class=\"bk-logo bk-logo-small bk-logo-notebook\"></a>\n",
       "        <span id=\"1277\">Loading BokehJS ...</span>\n",
       "    </div>"
      ]
     },
     "metadata": {},
     "output_type": "display_data"
    },
    {
     "data": {
      "application/javascript": [
       "\n",
       "(function(root) {\n",
       "  function now() {\n",
       "    return new Date();\n",
       "  }\n",
       "\n",
       "  var force = true;\n",
       "\n",
       "  if (typeof root._bokeh_onload_callbacks === \"undefined\" || force === true) {\n",
       "    root._bokeh_onload_callbacks = [];\n",
       "    root._bokeh_is_loading = undefined;\n",
       "  }\n",
       "\n",
       "  var JS_MIME_TYPE = 'application/javascript';\n",
       "  var HTML_MIME_TYPE = 'text/html';\n",
       "  var EXEC_MIME_TYPE = 'application/vnd.bokehjs_exec.v0+json';\n",
       "  var CLASS_NAME = 'output_bokeh rendered_html';\n",
       "\n",
       "  /**\n",
       "   * Render data to the DOM node\n",
       "   */\n",
       "  function render(props, node) {\n",
       "    var script = document.createElement(\"script\");\n",
       "    node.appendChild(script);\n",
       "  }\n",
       "\n",
       "  /**\n",
       "   * Handle when an output is cleared or removed\n",
       "   */\n",
       "  function handleClearOutput(event, handle) {\n",
       "    var cell = handle.cell;\n",
       "\n",
       "    var id = cell.output_area._bokeh_element_id;\n",
       "    var server_id = cell.output_area._bokeh_server_id;\n",
       "    // Clean up Bokeh references\n",
       "    if (id != null && id in Bokeh.index) {\n",
       "      Bokeh.index[id].model.document.clear();\n",
       "      delete Bokeh.index[id];\n",
       "    }\n",
       "\n",
       "    if (server_id !== undefined) {\n",
       "      // Clean up Bokeh references\n",
       "      var cmd = \"from bokeh.io.state import curstate; print(curstate().uuid_to_server['\" + server_id + \"'].get_sessions()[0].document.roots[0]._id)\";\n",
       "      cell.notebook.kernel.execute(cmd, {\n",
       "        iopub: {\n",
       "          output: function(msg) {\n",
       "            var id = msg.content.text.trim();\n",
       "            if (id in Bokeh.index) {\n",
       "              Bokeh.index[id].model.document.clear();\n",
       "              delete Bokeh.index[id];\n",
       "            }\n",
       "          }\n",
       "        }\n",
       "      });\n",
       "      // Destroy server and session\n",
       "      var cmd = \"import bokeh.io.notebook as ion; ion.destroy_server('\" + server_id + \"')\";\n",
       "      cell.notebook.kernel.execute(cmd);\n",
       "    }\n",
       "  }\n",
       "\n",
       "  /**\n",
       "   * Handle when a new output is added\n",
       "   */\n",
       "  function handleAddOutput(event, handle) {\n",
       "    var output_area = handle.output_area;\n",
       "    var output = handle.output;\n",
       "\n",
       "    // limit handleAddOutput to display_data with EXEC_MIME_TYPE content only\n",
       "    if ((output.output_type != \"display_data\") || (!output.data.hasOwnProperty(EXEC_MIME_TYPE))) {\n",
       "      return\n",
       "    }\n",
       "\n",
       "    var toinsert = output_area.element.find(\".\" + CLASS_NAME.split(' ')[0]);\n",
       "\n",
       "    if (output.metadata[EXEC_MIME_TYPE][\"id\"] !== undefined) {\n",
       "      toinsert[toinsert.length - 1].firstChild.textContent = output.data[JS_MIME_TYPE];\n",
       "      // store reference to embed id on output_area\n",
       "      output_area._bokeh_element_id = output.metadata[EXEC_MIME_TYPE][\"id\"];\n",
       "    }\n",
       "    if (output.metadata[EXEC_MIME_TYPE][\"server_id\"] !== undefined) {\n",
       "      var bk_div = document.createElement(\"div\");\n",
       "      bk_div.innerHTML = output.data[HTML_MIME_TYPE];\n",
       "      var script_attrs = bk_div.children[0].attributes;\n",
       "      for (var i = 0; i < script_attrs.length; i++) {\n",
       "        toinsert[toinsert.length - 1].firstChild.setAttribute(script_attrs[i].name, script_attrs[i].value);\n",
       "        toinsert[toinsert.length - 1].firstChild.textContent = bk_div.children[0].textContent\n",
       "      }\n",
       "      // store reference to server id on output_area\n",
       "      output_area._bokeh_server_id = output.metadata[EXEC_MIME_TYPE][\"server_id\"];\n",
       "    }\n",
       "  }\n",
       "\n",
       "  function register_renderer(events, OutputArea) {\n",
       "\n",
       "    function append_mime(data, metadata, element) {\n",
       "      // create a DOM node to render to\n",
       "      var toinsert = this.create_output_subarea(\n",
       "        metadata,\n",
       "        CLASS_NAME,\n",
       "        EXEC_MIME_TYPE\n",
       "      );\n",
       "      this.keyboard_manager.register_events(toinsert);\n",
       "      // Render to node\n",
       "      var props = {data: data, metadata: metadata[EXEC_MIME_TYPE]};\n",
       "      render(props, toinsert[toinsert.length - 1]);\n",
       "      element.append(toinsert);\n",
       "      return toinsert\n",
       "    }\n",
       "\n",
       "    /* Handle when an output is cleared or removed */\n",
       "    events.on('clear_output.CodeCell', handleClearOutput);\n",
       "    events.on('delete.Cell', handleClearOutput);\n",
       "\n",
       "    /* Handle when a new output is added */\n",
       "    events.on('output_added.OutputArea', handleAddOutput);\n",
       "\n",
       "    /**\n",
       "     * Register the mime type and append_mime function with output_area\n",
       "     */\n",
       "    OutputArea.prototype.register_mime_type(EXEC_MIME_TYPE, append_mime, {\n",
       "      /* Is output safe? */\n",
       "      safe: true,\n",
       "      /* Index of renderer in `output_area.display_order` */\n",
       "      index: 0\n",
       "    });\n",
       "  }\n",
       "\n",
       "  // register the mime type if in Jupyter Notebook environment and previously unregistered\n",
       "  if (root.Jupyter !== undefined) {\n",
       "    var events = require('base/js/events');\n",
       "    var OutputArea = require('notebook/js/outputarea').OutputArea;\n",
       "\n",
       "    if (OutputArea.prototype.mime_types().indexOf(EXEC_MIME_TYPE) == -1) {\n",
       "      register_renderer(events, OutputArea);\n",
       "    }\n",
       "  }\n",
       "\n",
       "  \n",
       "  if (typeof (root._bokeh_timeout) === \"undefined\" || force === true) {\n",
       "    root._bokeh_timeout = Date.now() + 5000;\n",
       "    root._bokeh_failed_load = false;\n",
       "  }\n",
       "\n",
       "  var NB_LOAD_WARNING = {'data': {'text/html':\n",
       "     \"<div style='background-color: #fdd'>\\n\"+\n",
       "     \"<p>\\n\"+\n",
       "     \"BokehJS does not appear to have successfully loaded. If loading BokehJS from CDN, this \\n\"+\n",
       "     \"may be due to a slow or bad network connection. Possible fixes:\\n\"+\n",
       "     \"</p>\\n\"+\n",
       "     \"<ul>\\n\"+\n",
       "     \"<li>re-rerun `output_notebook()` to attempt to load from CDN again, or</li>\\n\"+\n",
       "     \"<li>use INLINE resources instead, as so:</li>\\n\"+\n",
       "     \"</ul>\\n\"+\n",
       "     \"<code>\\n\"+\n",
       "     \"from bokeh.resources import INLINE\\n\"+\n",
       "     \"output_notebook(resources=INLINE)\\n\"+\n",
       "     \"</code>\\n\"+\n",
       "     \"</div>\"}};\n",
       "\n",
       "  function display_loaded() {\n",
       "    var el = document.getElementById(\"1277\");\n",
       "    if (el != null) {\n",
       "      el.textContent = \"BokehJS is loading...\";\n",
       "    }\n",
       "    if (root.Bokeh !== undefined) {\n",
       "      if (el != null) {\n",
       "        el.textContent = \"BokehJS \" + root.Bokeh.version + \" successfully loaded.\";\n",
       "      }\n",
       "    } else if (Date.now() < root._bokeh_timeout) {\n",
       "      setTimeout(display_loaded, 100)\n",
       "    }\n",
       "  }\n",
       "\n",
       "\n",
       "  function run_callbacks() {\n",
       "    try {\n",
       "      root._bokeh_onload_callbacks.forEach(function(callback) {\n",
       "        if (callback != null)\n",
       "          callback();\n",
       "      });\n",
       "    } finally {\n",
       "      delete root._bokeh_onload_callbacks\n",
       "    }\n",
       "    console.debug(\"Bokeh: all callbacks have finished\");\n",
       "  }\n",
       "\n",
       "  function load_libs(css_urls, js_urls, callback) {\n",
       "    if (css_urls == null) css_urls = [];\n",
       "    if (js_urls == null) js_urls = [];\n",
       "\n",
       "    root._bokeh_onload_callbacks.push(callback);\n",
       "    if (root._bokeh_is_loading > 0) {\n",
       "      console.debug(\"Bokeh: BokehJS is being loaded, scheduling callback at\", now());\n",
       "      return null;\n",
       "    }\n",
       "    if (js_urls == null || js_urls.length === 0) {\n",
       "      run_callbacks();\n",
       "      return null;\n",
       "    }\n",
       "    console.debug(\"Bokeh: BokehJS not loaded, scheduling load and callback at\", now());\n",
       "    root._bokeh_is_loading = css_urls.length + js_urls.length;\n",
       "\n",
       "    function on_load() {\n",
       "      root._bokeh_is_loading--;\n",
       "      if (root._bokeh_is_loading === 0) {\n",
       "        console.debug(\"Bokeh: all BokehJS libraries/stylesheets loaded\");\n",
       "        run_callbacks()\n",
       "      }\n",
       "    }\n",
       "\n",
       "    function on_error() {\n",
       "      console.error(\"failed to load \" + url);\n",
       "    }\n",
       "\n",
       "    for (var i = 0; i < css_urls.length; i++) {\n",
       "      var url = css_urls[i];\n",
       "      const element = document.createElement(\"link\");\n",
       "      element.onload = on_load;\n",
       "      element.onerror = on_error;\n",
       "      element.rel = \"stylesheet\";\n",
       "      element.type = \"text/css\";\n",
       "      element.href = url;\n",
       "      console.debug(\"Bokeh: injecting link tag for BokehJS stylesheet: \", url);\n",
       "      document.body.appendChild(element);\n",
       "    }\n",
       "\n",
       "    const hashes = {\"https://cdn.bokeh.org/bokeh/release/bokeh-2.0.1.min.js\": \"JpP8FXbgAZLkfur7LiK3j9AGBhHNIvF742meBJrjO2ShJDhCG2I1uVvW+0DUtrmc\", \"https://cdn.bokeh.org/bokeh/release/bokeh-widgets-2.0.1.min.js\": \"xZlADit0Q04ISQEdKg2k3L4W9AwQBAuDs9nJL9fM/WwzL1tEU9VPNezOFX0nLEAz\", \"https://cdn.bokeh.org/bokeh/release/bokeh-tables-2.0.1.min.js\": \"4BuPRZkdMKSnj3zoxiNrQ86XgNw0rYmBOxe7nshquXwwcauupgBF2DHLVG1WuZlV\", \"https://cdn.bokeh.org/bokeh/release/bokeh-gl-2.0.1.min.js\": \"Dv1SQ87hmDqK6S5OhBf0bCuwAEvL5QYL0PuR/F1SPVhCS/r/abjkbpKDYL2zeM19\"};\n",
       "\n",
       "    for (var i = 0; i < js_urls.length; i++) {\n",
       "      var url = js_urls[i];\n",
       "      var element = document.createElement('script');\n",
       "      element.onload = on_load;\n",
       "      element.onerror = on_error;\n",
       "      element.async = false;\n",
       "      element.src = url;\n",
       "      if (url in hashes) {\n",
       "        element.crossOrigin = \"anonymous\";\n",
       "        element.integrity = \"sha384-\" + hashes[url];\n",
       "      }\n",
       "      console.debug(\"Bokeh: injecting script tag for BokehJS library: \", url);\n",
       "      document.head.appendChild(element);\n",
       "    }\n",
       "  };var element = document.getElementById(\"1277\");\n",
       "  if (element == null) {\n",
       "    console.error(\"Bokeh: ERROR: autoload.js configured with elementid '1277' but no matching script tag was found. \")\n",
       "    return false;\n",
       "  }\n",
       "\n",
       "  function inject_raw_css(css) {\n",
       "    const element = document.createElement(\"style\");\n",
       "    element.appendChild(document.createTextNode(css));\n",
       "    document.body.appendChild(element);\n",
       "  }\n",
       "\n",
       "  \n",
       "  var js_urls = [\"https://cdn.bokeh.org/bokeh/release/bokeh-2.0.1.min.js\", \"https://cdn.bokeh.org/bokeh/release/bokeh-widgets-2.0.1.min.js\", \"https://cdn.bokeh.org/bokeh/release/bokeh-tables-2.0.1.min.js\", \"https://cdn.bokeh.org/bokeh/release/bokeh-gl-2.0.1.min.js\"];\n",
       "  var css_urls = [];\n",
       "  \n",
       "\n",
       "  var inline_js = [\n",
       "    function(Bokeh) {\n",
       "      Bokeh.set_log_level(\"info\");\n",
       "    },\n",
       "    function(Bokeh) {\n",
       "    \n",
       "    \n",
       "    }\n",
       "  ];\n",
       "\n",
       "  function run_inline_js() {\n",
       "    \n",
       "    if (root.Bokeh !== undefined || force === true) {\n",
       "      \n",
       "    for (var i = 0; i < inline_js.length; i++) {\n",
       "      inline_js[i].call(root, root.Bokeh);\n",
       "    }\n",
       "    if (force === true) {\n",
       "        display_loaded();\n",
       "      }} else if (Date.now() < root._bokeh_timeout) {\n",
       "      setTimeout(run_inline_js, 100);\n",
       "    } else if (!root._bokeh_failed_load) {\n",
       "      console.log(\"Bokeh: BokehJS failed to load within specified timeout.\");\n",
       "      root._bokeh_failed_load = true;\n",
       "    } else if (force !== true) {\n",
       "      var cell = $(document.getElementById(\"1277\")).parents('.cell').data().cell;\n",
       "      cell.output_area.append_execute_result(NB_LOAD_WARNING)\n",
       "    }\n",
       "\n",
       "  }\n",
       "\n",
       "  if (root._bokeh_is_loading === 0) {\n",
       "    console.debug(\"Bokeh: BokehJS loaded, going straight to plotting\");\n",
       "    run_inline_js();\n",
       "  } else {\n",
       "    load_libs(css_urls, js_urls, function() {\n",
       "      console.debug(\"Bokeh: BokehJS plotting callback run at\", now());\n",
       "      run_inline_js();\n",
       "    });\n",
       "  }\n",
       "}(window));"
      ],
      "application/vnd.bokehjs_load.v0+json": "\n(function(root) {\n  function now() {\n    return new Date();\n  }\n\n  var force = true;\n\n  if (typeof root._bokeh_onload_callbacks === \"undefined\" || force === true) {\n    root._bokeh_onload_callbacks = [];\n    root._bokeh_is_loading = undefined;\n  }\n\n  \n\n  \n  if (typeof (root._bokeh_timeout) === \"undefined\" || force === true) {\n    root._bokeh_timeout = Date.now() + 5000;\n    root._bokeh_failed_load = false;\n  }\n\n  var NB_LOAD_WARNING = {'data': {'text/html':\n     \"<div style='background-color: #fdd'>\\n\"+\n     \"<p>\\n\"+\n     \"BokehJS does not appear to have successfully loaded. If loading BokehJS from CDN, this \\n\"+\n     \"may be due to a slow or bad network connection. Possible fixes:\\n\"+\n     \"</p>\\n\"+\n     \"<ul>\\n\"+\n     \"<li>re-rerun `output_notebook()` to attempt to load from CDN again, or</li>\\n\"+\n     \"<li>use INLINE resources instead, as so:</li>\\n\"+\n     \"</ul>\\n\"+\n     \"<code>\\n\"+\n     \"from bokeh.resources import INLINE\\n\"+\n     \"output_notebook(resources=INLINE)\\n\"+\n     \"</code>\\n\"+\n     \"</div>\"}};\n\n  function display_loaded() {\n    var el = document.getElementById(\"1277\");\n    if (el != null) {\n      el.textContent = \"BokehJS is loading...\";\n    }\n    if (root.Bokeh !== undefined) {\n      if (el != null) {\n        el.textContent = \"BokehJS \" + root.Bokeh.version + \" successfully loaded.\";\n      }\n    } else if (Date.now() < root._bokeh_timeout) {\n      setTimeout(display_loaded, 100)\n    }\n  }\n\n\n  function run_callbacks() {\n    try {\n      root._bokeh_onload_callbacks.forEach(function(callback) {\n        if (callback != null)\n          callback();\n      });\n    } finally {\n      delete root._bokeh_onload_callbacks\n    }\n    console.debug(\"Bokeh: all callbacks have finished\");\n  }\n\n  function load_libs(css_urls, js_urls, callback) {\n    if (css_urls == null) css_urls = [];\n    if (js_urls == null) js_urls = [];\n\n    root._bokeh_onload_callbacks.push(callback);\n    if (root._bokeh_is_loading > 0) {\n      console.debug(\"Bokeh: BokehJS is being loaded, scheduling callback at\", now());\n      return null;\n    }\n    if (js_urls == null || js_urls.length === 0) {\n      run_callbacks();\n      return null;\n    }\n    console.debug(\"Bokeh: BokehJS not loaded, scheduling load and callback at\", now());\n    root._bokeh_is_loading = css_urls.length + js_urls.length;\n\n    function on_load() {\n      root._bokeh_is_loading--;\n      if (root._bokeh_is_loading === 0) {\n        console.debug(\"Bokeh: all BokehJS libraries/stylesheets loaded\");\n        run_callbacks()\n      }\n    }\n\n    function on_error() {\n      console.error(\"failed to load \" + url);\n    }\n\n    for (var i = 0; i < css_urls.length; i++) {\n      var url = css_urls[i];\n      const element = document.createElement(\"link\");\n      element.onload = on_load;\n      element.onerror = on_error;\n      element.rel = \"stylesheet\";\n      element.type = \"text/css\";\n      element.href = url;\n      console.debug(\"Bokeh: injecting link tag for BokehJS stylesheet: \", url);\n      document.body.appendChild(element);\n    }\n\n    const hashes = {\"https://cdn.bokeh.org/bokeh/release/bokeh-2.0.1.min.js\": \"JpP8FXbgAZLkfur7LiK3j9AGBhHNIvF742meBJrjO2ShJDhCG2I1uVvW+0DUtrmc\", \"https://cdn.bokeh.org/bokeh/release/bokeh-widgets-2.0.1.min.js\": \"xZlADit0Q04ISQEdKg2k3L4W9AwQBAuDs9nJL9fM/WwzL1tEU9VPNezOFX0nLEAz\", \"https://cdn.bokeh.org/bokeh/release/bokeh-tables-2.0.1.min.js\": \"4BuPRZkdMKSnj3zoxiNrQ86XgNw0rYmBOxe7nshquXwwcauupgBF2DHLVG1WuZlV\", \"https://cdn.bokeh.org/bokeh/release/bokeh-gl-2.0.1.min.js\": \"Dv1SQ87hmDqK6S5OhBf0bCuwAEvL5QYL0PuR/F1SPVhCS/r/abjkbpKDYL2zeM19\"};\n\n    for (var i = 0; i < js_urls.length; i++) {\n      var url = js_urls[i];\n      var element = document.createElement('script');\n      element.onload = on_load;\n      element.onerror = on_error;\n      element.async = false;\n      element.src = url;\n      if (url in hashes) {\n        element.crossOrigin = \"anonymous\";\n        element.integrity = \"sha384-\" + hashes[url];\n      }\n      console.debug(\"Bokeh: injecting script tag for BokehJS library: \", url);\n      document.head.appendChild(element);\n    }\n  };var element = document.getElementById(\"1277\");\n  if (element == null) {\n    console.error(\"Bokeh: ERROR: autoload.js configured with elementid '1277' but no matching script tag was found. \")\n    return false;\n  }\n\n  function inject_raw_css(css) {\n    const element = document.createElement(\"style\");\n    element.appendChild(document.createTextNode(css));\n    document.body.appendChild(element);\n  }\n\n  \n  var js_urls = [\"https://cdn.bokeh.org/bokeh/release/bokeh-2.0.1.min.js\", \"https://cdn.bokeh.org/bokeh/release/bokeh-widgets-2.0.1.min.js\", \"https://cdn.bokeh.org/bokeh/release/bokeh-tables-2.0.1.min.js\", \"https://cdn.bokeh.org/bokeh/release/bokeh-gl-2.0.1.min.js\"];\n  var css_urls = [];\n  \n\n  var inline_js = [\n    function(Bokeh) {\n      Bokeh.set_log_level(\"info\");\n    },\n    function(Bokeh) {\n    \n    \n    }\n  ];\n\n  function run_inline_js() {\n    \n    if (root.Bokeh !== undefined || force === true) {\n      \n    for (var i = 0; i < inline_js.length; i++) {\n      inline_js[i].call(root, root.Bokeh);\n    }\n    if (force === true) {\n        display_loaded();\n      }} else if (Date.now() < root._bokeh_timeout) {\n      setTimeout(run_inline_js, 100);\n    } else if (!root._bokeh_failed_load) {\n      console.log(\"Bokeh: BokehJS failed to load within specified timeout.\");\n      root._bokeh_failed_load = true;\n    } else if (force !== true) {\n      var cell = $(document.getElementById(\"1277\")).parents('.cell').data().cell;\n      cell.output_area.append_execute_result(NB_LOAD_WARNING)\n    }\n\n  }\n\n  if (root._bokeh_is_loading === 0) {\n    console.debug(\"Bokeh: BokehJS loaded, going straight to plotting\");\n    run_inline_js();\n  } else {\n    load_libs(css_urls, js_urls, function() {\n      console.debug(\"Bokeh: BokehJS plotting callback run at\", now());\n      run_inline_js();\n    });\n  }\n}(window));"
     },
     "metadata": {},
     "output_type": "display_data"
    },
    {
     "name": "stdout",
     "output_type": "stream",
     "text": [
      "e_2_t_5_k_32_g_30_n_5_stats.dill\n"
     ]
    },
    {
     "data": {
      "text/html": [
       "\n",
       "\n",
       "\n",
       "\n",
       "\n",
       "\n",
       "  <div class=\"bk-root\" id=\"ec3f9677-2069-45cf-acbe-0742537d609d\" data-root-id=\"1278\"></div>\n"
      ]
     },
     "metadata": {},
     "output_type": "display_data"
    },
    {
     "data": {
      "application/javascript": [
       "(function(root) {\n",
       "  function embed_document(root) {\n",
       "    \n",
       "  var docs_json = {\"32d65b1d-a333-444b-8e49-5c4c5bceae18\":{\"roots\":{\"references\":[{\"attributes\":{\"below\":[{\"id\":\"1287\"}],\"center\":[{\"id\":\"1290\"},{\"id\":\"1294\"}],\"left\":[{\"id\":\"1291\"}],\"plot_height\":400,\"plot_width\":800,\"renderers\":[{\"id\":\"1312\"},{\"id\":\"1317\"},{\"id\":\"1322\"}],\"title\":{\"id\":\"1325\"},\"toolbar\":{\"id\":\"1302\"},\"x_range\":{\"id\":\"1279\"},\"x_scale\":{\"id\":\"1283\"},\"y_range\":{\"id\":\"1281\"},\"y_scale\":{\"id\":\"1285\"}},\"id\":\"1278\",\"subtype\":\"Figure\",\"type\":\"Plot\"},{\"attributes\":{},\"id\":\"1299\",\"type\":\"ResetTool\"},{\"attributes\":{},\"id\":\"1292\",\"type\":\"BasicTicker\"},{\"attributes\":{\"data_source\":{\"id\":\"1319\"},\"glyph\":{\"id\":\"1320\"},\"hover_glyph\":null,\"muted_glyph\":null,\"nonselection_glyph\":{\"id\":\"1321\"},\"selection_glyph\":null,\"view\":{\"id\":\"1323\"}},\"id\":\"1322\",\"type\":\"GlyphRenderer\"},{\"attributes\":{\"formatter\":{\"id\":\"1327\"},\"ticker\":{\"id\":\"1288\"}},\"id\":\"1287\",\"type\":\"LinearAxis\"},{\"attributes\":{\"data_source\":{\"id\":\"1309\"},\"glyph\":{\"id\":\"1310\"},\"hover_glyph\":null,\"muted_glyph\":null,\"nonselection_glyph\":{\"id\":\"1311\"},\"selection_glyph\":null,\"view\":{\"id\":\"1313\"}},\"id\":\"1312\",\"type\":\"GlyphRenderer\"},{\"attributes\":{},\"id\":\"1300\",\"type\":\"HelpTool\"},{\"attributes\":{\"line_alpha\":0.3,\"line_color\":\"#1f77b4\",\"line_width\":2,\"x\":{\"field\":\"x\"},\"y\":{\"field\":\"y\"}},\"id\":\"1310\",\"type\":\"Line\"},{\"attributes\":{\"end\":40,\"start\":15},\"id\":\"1281\",\"type\":\"Range1d\"},{\"attributes\":{\"source\":{\"id\":\"1314\"}},\"id\":\"1318\",\"type\":\"CDSView\"},{\"attributes\":{},\"id\":\"1331\",\"type\":\"Selection\"},{\"attributes\":{\"line_alpha\":0.1,\"line_color\":\"#1f77b4\",\"line_width\":2,\"x\":{\"field\":\"x\"},\"y\":{\"field\":\"y\"}},\"id\":\"1316\",\"type\":\"Line\"},{\"attributes\":{},\"id\":\"1288\",\"type\":\"BasicTicker\"},{\"attributes\":{},\"id\":\"1330\",\"type\":\"UnionRenderers\"},{\"attributes\":{\"data_source\":{\"id\":\"1314\"},\"glyph\":{\"id\":\"1315\"},\"hover_glyph\":null,\"muted_glyph\":null,\"nonselection_glyph\":{\"id\":\"1316\"},\"selection_glyph\":null,\"view\":{\"id\":\"1318\"}},\"id\":\"1317\",\"type\":\"GlyphRenderer\"},{\"attributes\":{},\"id\":\"1295\",\"type\":\"PanTool\"},{\"attributes\":{},\"id\":\"1332\",\"type\":\"UnionRenderers\"},{\"attributes\":{},\"id\":\"1329\",\"type\":\"BasicTickFormatter\"},{\"attributes\":{},\"id\":\"1298\",\"type\":\"SaveTool\"},{\"attributes\":{\"data\":{\"x\":[0,1,2,3,4,5,6,7,8,9,10,11,12,13,14,15,16,17,18,19,20,21,22,23,24,25,26,27,28,29],\"y\":{\"__ndarray__\":\"lGL8ipUXNEC8Qq3CcUc2QLip7+X1+DVA+HgOGC20NEAq5C+IT/41QJRM4NzDkDVA1uhHrMjeNUBP/hPiUY01QPkFUG6JWDhA6iKg4T6rOkDkqZDhJcc4QNoWc6LWHjlAKmlxm4uDNkCWLj/Blgg5QOUzGx7xuTpAbDIfUsLgOECUGfum+to5QHLSkxtmPzxAkJOAWaXhOUDVzHwx4E47QCBJmUTHrztALhvsg7GgOkCEhLiDjlQ6QIXWWwZR1zlAEqRoacexO0Cii4nD0Rw6QMMDXj8JBzpA//aiJyIAO0AggHBO9L06QCRHRS10czpA\",\"dtype\":\"float64\",\"shape\":[30]}},\"selected\":{\"id\":\"1333\"},\"selection_policy\":{\"id\":\"1332\"}},\"id\":\"1314\",\"type\":\"ColumnDataSource\"},{\"attributes\":{\"line_color\":\"#1f77b4\",\"line_width\":2,\"x\":{\"field\":\"x\"},\"y\":{\"field\":\"y\"}},\"id\":\"1315\",\"type\":\"Line\"},{\"attributes\":{},\"id\":\"1285\",\"type\":\"LinearScale\"},{\"attributes\":{},\"id\":\"1327\",\"type\":\"BasicTickFormatter\"},{\"attributes\":{\"line_alpha\":0.1,\"line_color\":\"#1f77b4\",\"line_width\":2,\"x\":{\"field\":\"x\"},\"y\":{\"field\":\"y\"}},\"id\":\"1321\",\"type\":\"Line\"},{\"attributes\":{},\"id\":\"1334\",\"type\":\"UnionRenderers\"},{\"attributes\":{},\"id\":\"1283\",\"type\":\"LinearScale\"},{\"attributes\":{\"data\":{\"x\":[0,1,2,3,4,5,6,7,8,9,10,11,12,13,14,15,16,17,18,19,20,21,22,23,24,25,26,27,28,29],\"y\":{\"__ndarray__\":\"yHCsHzyrN0AQmV/6TZ43QPCDKM2ILDlAaB7rgL9AOUBxh9Y7m6w4QHAVaPDtwTdA9p/AnHf2OkDhvLgt1Pk6QPgxzzXADjtASKsISUioPEC3DWd0T6A9QE07Tx5zsTpAKOpymUGWPEAYVMmoggE9QPMxU6cQ3TxAsDVnhd93PEBy2KhY48c8QGBMruWUbj5AJkf/yiJfPUC1t3J5S6A9QK5N2j7Jlz5AhGvvcUZTP0DQMeX7CVU9QEQz5e8lzz1Ad9pXwO5MPkDnYCB/ESg9QBBZ383M4jtAApJtWcLwPUBYJa4xSA08QMJTrZ4TljxA\",\"dtype\":\"float64\",\"shape\":[30]}},\"selected\":{\"id\":\"1331\"},\"selection_policy\":{\"id\":\"1330\"}},\"id\":\"1309\",\"type\":\"ColumnDataSource\"},{\"attributes\":{\"overlay\":{\"id\":\"1301\"}},\"id\":\"1297\",\"type\":\"BoxZoomTool\"},{\"attributes\":{},\"id\":\"1279\",\"type\":\"DataRange1d\"},{\"attributes\":{\"formatter\":{\"id\":\"1329\"},\"ticker\":{\"id\":\"1292\"}},\"id\":\"1291\",\"type\":\"LinearAxis\"},{\"attributes\":{},\"id\":\"1296\",\"type\":\"WheelZoomTool\"},{\"attributes\":{\"line_alpha\":0.1,\"line_color\":\"#1f77b4\",\"line_width\":2,\"x\":{\"field\":\"x\"},\"y\":{\"field\":\"y\"}},\"id\":\"1311\",\"type\":\"Line\"},{\"attributes\":{\"line_alpha\":0.3,\"line_color\":\"#1f77b4\",\"line_width\":2,\"x\":{\"field\":\"x\"},\"y\":{\"field\":\"y\"}},\"id\":\"1320\",\"type\":\"Line\"},{\"attributes\":{},\"id\":\"1335\",\"type\":\"Selection\"},{\"attributes\":{\"axis\":{\"id\":\"1291\"},\"dimension\":1,\"ticker\":null},\"id\":\"1294\",\"type\":\"Grid\"},{\"attributes\":{\"source\":{\"id\":\"1319\"}},\"id\":\"1323\",\"type\":\"CDSView\"},{\"attributes\":{\"bottom_units\":\"screen\",\"fill_alpha\":0.5,\"fill_color\":\"lightgrey\",\"left_units\":\"screen\",\"level\":\"overlay\",\"line_alpha\":1.0,\"line_color\":\"black\",\"line_dash\":[4,4],\"line_width\":2,\"render_mode\":\"css\",\"right_units\":\"screen\",\"top_units\":\"screen\"},\"id\":\"1301\",\"type\":\"BoxAnnotation\"},{\"attributes\":{\"axis\":{\"id\":\"1287\"},\"ticker\":null},\"id\":\"1290\",\"type\":\"Grid\"},{\"attributes\":{\"source\":{\"id\":\"1309\"}},\"id\":\"1313\",\"type\":\"CDSView\"},{\"attributes\":{},\"id\":\"1333\",\"type\":\"Selection\"},{\"attributes\":{\"active_drag\":\"auto\",\"active_inspect\":\"auto\",\"active_multi\":null,\"active_scroll\":\"auto\",\"active_tap\":\"auto\",\"tools\":[{\"id\":\"1295\"},{\"id\":\"1296\"},{\"id\":\"1297\"},{\"id\":\"1298\"},{\"id\":\"1299\"},{\"id\":\"1300\"}]},\"id\":\"1302\",\"type\":\"Toolbar\"},{\"attributes\":{\"text\":\"\"},\"id\":\"1325\",\"type\":\"Title\"},{\"attributes\":{\"data\":{\"x\":[0,1,2,3,4,5,6,7,8,9,10,11,12,13,14,15,16,17,18,19,20,21,22,23,24,25,26,27,28,29],\"y\":{\"__ndarray__\":\"CU102JLxMUBiS/2htgk0QLm0fYkDZDJAd8WjZqawMUAMsyIGLb0zQGwCube3gDNAfAD0Sq21M0Bw+StIoHMzQALCczVwhTZAFmYUhv+SNkDHfZSAxwM3QA4A4jWKbDRAhCNG0YK1M0AwRTme1hI2QMcKuIq2EDlA2HJdhu8xN0CWPpZ5fjk3QKkqV8OkDzpApMC3FbW5NkAVApPkM284QIbUBP5VDDhA78sSPqZDN0BMCt2yRi84QIAxstXpZjdA9QHwARSZOUA01qtrR2Q4QMHTifRNpTVAxI7pNsOLOUB2ExJ/Xw44QLOq0IO9RzhA\",\"dtype\":\"float64\",\"shape\":[30]}},\"selected\":{\"id\":\"1335\"},\"selection_policy\":{\"id\":\"1334\"}},\"id\":\"1319\",\"type\":\"ColumnDataSource\"}],\"root_ids\":[\"1278\"]},\"title\":\"Bokeh Application\",\"version\":\"2.0.1\"}};\n",
       "  var render_items = [{\"docid\":\"32d65b1d-a333-444b-8e49-5c4c5bceae18\",\"root_ids\":[\"1278\"],\"roots\":{\"1278\":\"ec3f9677-2069-45cf-acbe-0742537d609d\"}}];\n",
       "  root.Bokeh.embed.embed_items_notebook(docs_json, render_items);\n",
       "\n",
       "  }\n",
       "  if (root.Bokeh !== undefined) {\n",
       "    embed_document(root);\n",
       "  } else {\n",
       "    var attempts = 0;\n",
       "    var timer = setInterval(function(root) {\n",
       "      if (root.Bokeh !== undefined) {\n",
       "        clearInterval(timer);\n",
       "        embed_document(root);\n",
       "      } else {\n",
       "        attempts++;\n",
       "        if (attempts > 100) {\n",
       "          clearInterval(timer);\n",
       "          console.log(\"Bokeh: ERROR: Unable to run BokehJS code because BokehJS library is missing\");\n",
       "        }\n",
       "      }\n",
       "    }, 10, root)\n",
       "  }\n",
       "})(window);"
      ],
      "application/vnd.bokehjs_exec.v0+json": ""
     },
     "metadata": {
      "application/vnd.bokehjs_exec.v0+json": {
       "id": "1278"
      }
     },
     "output_type": "display_data"
    },
    {
     "name": "stdout",
     "output_type": "stream",
     "text": [
      "\n",
      "class Script_16986d209e2b45afbf419c1a9e3703c6(Script):\n",
      "    def choose_move(self, battle: Battle):\n",
      "    \n",
      "        available_moves = battle.available_moves\n",
      "        if not available_moves:\n",
      "            return random.choice(battle.available_switches)\n",
      "            \n",
      "        dsl = DSL(battle)\n",
      "        move_scores = []\n",
      "        for move in battle.available_moves:\n",
      "            score = 0\n",
      "            if (dsl.check_move_is_gyro_ball(move)):\n",
      "                if (((dsl.opponent_base_stat('spa') <= 42) or (dsl.opponent_base_stat('hp') >= 245))):\n",
      "                    score += -1\n",
      "                if ((dsl.check_move_inflicts_status_condition(move, Status.FNT) or (dsl.move_base_power(move) >= 35))):\n",
      "                    score += 8\n",
      "            if (((dsl.player_battle_stat_modifier('spa') >= -2) and dsl.gets_stab(move))):\n",
      "                if ((dsl.check_move_is_gyro_ball(move) or (dsl.opponent_base_stat('hp') >= 4))):\n",
      "                    score += 6\n",
      "                if ((dsl.check_move_sunny(move) or (dsl.move_base_power(move) >= 35))):\n",
      "                    score += 8\n",
      "            if (((dsl.get_weather() == Weather.PRIMORDIALSEA) and (dsl.move_type(move) != PokemonType.STEEL))):\n",
      "                score += 1\n",
      "            move_scores.append(score)\n",
      "            \n",
      "        best_move = available_moves[move_scores.index(max(move_scores))]\n",
      "        return best_move\n",
      "\n",
      "\n",
      "class Script_3dcaa655f56946f09c2d5c715f160e2a(Script):\n",
      "    def choose_move(self, battle: Battle):\n",
      "    \n",
      "        available_moves = battle.available_moves\n",
      "        if not available_moves:\n",
      "            return random.choice(battle.available_switches)\n",
      "            \n",
      "        dsl = DSL(battle)\n",
      "        move_scores = []\n",
      "        for move in battle.available_moves:\n",
      "            score = 0\n",
      "            if (dsl.move_is_status(move)):\n",
      "                if ((dsl.check_move_boosts_stat(move, 'spa') and dsl.check_move_rainy(move))):\n",
      "                    score += -8\n",
      "                if ((dsl.check_move_is_gyro_ball(move) or (dsl.opponent_base_stat('hp') >= 4))):\n",
      "                    score += 7\n",
      "            if (((dsl.player_battle_stat_modifier('def') >= -2) and dsl.gets_stab(move))):\n",
      "                if ((dsl.check_move_is_gyro_ball(move) or (dsl.opponent_base_stat('hp') >= 96))):\n",
      "                    score += 6\n",
      "                if ((dsl.check_move_sunny(move) or (dsl.move_base_power(move) >= 35))):\n",
      "                    score += 8\n",
      "            if (((dsl.player_battle_stat_modifier('spd') >= -2) and (dsl.move_type(move) != PokemonType.STEEL))):\n",
      "                score += -5\n",
      "            move_scores.append(score)\n",
      "            \n",
      "        best_move = available_moves[move_scores.index(max(move_scores))]\n",
      "        return best_move\n",
      "\n",
      "\n",
      "class Script_0211eb38a51343f98a66b729d3b784e4(Script):\n",
      "    def choose_move(self, battle: Battle):\n",
      "    \n",
      "        available_moves = battle.available_moves\n",
      "        if not available_moves:\n",
      "            return random.choice(battle.available_switches)\n",
      "            \n",
      "        dsl = DSL(battle)\n",
      "        move_scores = []\n",
      "        for move in battle.available_moves:\n",
      "            score = 0\n",
      "            if (dsl.check_move_is_gyro_ball(move)):\n",
      "                if ((dsl.check_move_is_gyro_ball(move) or dsl.gets_stab(move))):\n",
      "                    score += 3\n",
      "                if ((dsl.check_move_inflicts_status_condition(move, Status.FNT) or (dsl.move_base_power(move) >= 35))):\n",
      "                    score += 8\n",
      "            if (((dsl.player_battle_stat_modifier('atk') >= -2) and dsl.gets_stab(move))):\n",
      "                if (dsl.check_move_rainy(move)):\n",
      "                    score += 2\n",
      "                if ((dsl.check_move_sunny(move) or (dsl.move_base_power(move) >= 35))):\n",
      "                    score += 8\n",
      "            if (((dsl.get_weather() == Weather.DESOLATELAND) and (dsl.move_type(move) != PokemonType.STEEL))):\n",
      "                score += 1\n",
      "            move_scores.append(score)\n",
      "            \n",
      "        best_move = available_moves[move_scores.index(max(move_scores))]\n",
      "        return best_move\n",
      "\n"
     ]
    }
   ],
   "source": [
    "from bokeh.plotting import figure, output_file, show, reset_output, output_notebook\n",
    "\n",
    "reset_output()\n",
    "output_notebook()\n",
    "\n",
    "for num_elites, population_cap, num_games in parameter_sets:\n",
    "    fname = get_fname(num_elites, tournament_size, population_cap, epochs, num_games, 'stats')\n",
    "    print(fname)\n",
    "    \n",
    "    xs, ys_high, ys_median, ys_low = load_stats(fname)\n",
    "    p = figure(plot_width=800, plot_height=400, y_range=(15, 40))\n",
    "    p.line(xs, ys_high, line_width=2, alpha=0.3)\n",
    "    p.line(xs, ys_median, line_width=2)\n",
    "    p.line(xs, ys_low, line_width=2, alpha=0.3)\n",
    "\n",
    "    show(p)\n",
    "    \n",
    "    best_scripts = load_population(fname)\n",
    "    for script in best_scripts[:3]:\n",
    "        print(script.raw_script)"
   ]
  },
  {
   "cell_type": "code",
   "execution_count": null,
   "metadata": {},
   "outputs": [],
   "source": []
  }
 ],
 "metadata": {
  "hide_input": false,
  "kernelspec": {
   "display_name": "cmput_659_final",
   "language": "python",
   "name": "cmput_659_final"
  },
  "language_info": {
   "codemirror_mode": {
    "name": "ipython",
    "version": 3
   },
   "file_extension": ".py",
   "mimetype": "text/x-python",
   "name": "python",
   "nbconvert_exporter": "python",
   "pygments_lexer": "ipython3",
   "version": "3.7.5"
  },
  "pycharm": {
   "stem_cell": {
    "cell_type": "raw",
    "metadata": {
     "collapsed": false
    },
    "source": []
   }
  },
  "toc": {
   "base_numbering": 1,
   "nav_menu": {},
   "number_sections": true,
   "sideBar": true,
   "skip_h1_title": false,
   "title_cell": "Table of Contents",
   "title_sidebar": "Contents",
   "toc_cell": false,
   "toc_position": {},
   "toc_section_display": true,
   "toc_window_display": false
  }
 },
 "nbformat": 4,
 "nbformat_minor": 2
}
