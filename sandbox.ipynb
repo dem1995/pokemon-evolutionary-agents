{
 "cells": [
  {
   "cell_type": "code",
   "execution_count": 1,
   "metadata": {
    "ExecuteTime": {
     "end_time": "2020-04-15T00:18:19.201947Z",
     "start_time": "2020-04-15T00:18:18.632776Z"
    },
    "scrolled": true
   },
   "outputs": [],
   "source": [
    "from src.core import *\n",
    "from src import DSL\n",
    "import inspect\n",
    "import typing\n",
    "\n",
    "import asyncio\n",
    "\n",
    "from poke_env.player.random_player import RandomPlayer\n",
    "from poke_env.player.utils import cross_evaluate\n",
    "from poke_env.player_configuration import PlayerConfiguration\n",
    "from poke_env.server_configuration import LocalhostServerConfiguration\n",
    "from poke_env.utils import to_id_str\n",
    "from tabulate import tabulate\n",
    "\n",
    "import trueskill\n",
    "import copy\n",
    "from trueskill import Rating, rate_1vs1, quality_1vs1\n",
    "from tqdm.notebook import tqdm\n",
    "import itertools\n",
    "import numpy as np\n",
    "import pandas as pd\n",
    "from pprint import pprint\n",
    "\n",
    "\n",
    "import logging\n",
    "# from aiologger.handlers.files import AsyncFileHandler\n",
    "# from aiologger.handlers.files import AsyncFileHandler\n",
    "from tempfile import NamedTemporaryFile\n",
    "\n",
    "from pathlib import Path\n",
    "import pickle\n",
    "import dill\n",
    "import gc\n",
    "import math\n",
    "import datetime\n",
    "import sys, traceback"
   ]
  },
  {
   "cell_type": "code",
   "execution_count": 2,
   "metadata": {
    "ExecuteTime": {
     "end_time": "2020-04-15T00:18:19.209422Z",
     "start_time": "2020-04-15T00:18:19.203651Z"
    }
   },
   "outputs": [],
   "source": [
    "class PlayerWrapper(Player):\n",
    "    def __init__(self, *args, **kwargs):\n",
    "        super().__init__(\n",
    "            player_configuration=PlayerConfiguration(get_node_id(), None),\n",
    "            battle_format=\"gen7randombattle\",\n",
    "            server_configuration=LocalhostServerConfiguration,\n",
    "            max_concurrent_battles=100000000,\n",
    "        )\n",
    "        self.script = None\n",
    "        \n",
    "#         self.log_file = NamedTemporaryFile()\n",
    "#         self.patch_logger()\n",
    "    \n",
    "#     def patch_logger(self):\n",
    "#         self.logger.removeHandler(self.logger.handlers[0])\n",
    "#         self.logger.addHandler(logging.FileHandler(self.log_file.name))\n",
    "#         self.logger.\n",
    "        \n",
    "    def choose_move(self, battle):\n",
    "        try:\n",
    "            move = self.script.choose_move(battle)\n",
    "            return self.create_order(move)\n",
    "        except Exception as e:\n",
    "            print(e)\n",
    "            traceback.print_exc(file=sys.stdout)\n",
    "            print(self.script.raw_script)\n",
    "            return self.choose_random_move(battle)"
   ]
  },
  {
   "cell_type": "code",
   "execution_count": 3,
   "metadata": {
    "ExecuteTime": {
     "end_time": "2020-04-15T00:18:19.274478Z",
     "start_time": "2020-04-15T00:18:19.211632Z"
    }
   },
   "outputs": [],
   "source": [
    "chunk_size = 1024\n",
    "shared_players = [PlayerWrapper() for _ in range(chunk_size)]\n",
    "player_lookup = {player.username: player for player in shared_players}"
   ]
  },
  {
   "cell_type": "code",
   "execution_count": 4,
   "metadata": {
    "ExecuteTime": {
     "end_time": "2020-04-15T00:18:19.401357Z",
     "start_time": "2020-04-15T00:18:19.389781Z"
    }
   },
   "outputs": [],
   "source": [
    "async def evaluate_population(population, num_games, verbose=True):\n",
    "    for script in population:\n",
    "        script.rating = Rating()\n",
    "    \n",
    "    num_players = min(chunk_size, len(population))\n",
    "    players = shared_players[:num_players]\n",
    "    num_chunks = int(math.ceil(len(population) / chunk_size))\n",
    "    chunks = [population[i * chunk_size : (i + 1) * chunk_size] for i in range(num_chunks)]\n",
    "    \n",
    "    for chunk_idx, population in enumerate(chunks):\n",
    "        if num_chunks > 1:\n",
    "            print(f\"chunk {chunk_idx + 1} / {num_chunks}\")\n",
    "        \n",
    "        for i, script in enumerate(population):\n",
    "            players[i].script = script\n",
    "        \n",
    "        for _ in tqdm(range(num_games), disable=not verbose):\n",
    "            random.shuffle(players)\n",
    "            awaitables = []\n",
    "            for p1, p2 in zip(players[0::2], players[1::2]):\n",
    "                send = p1.send_challenges(\n",
    "                    opponent=to_id_str(p2.username),\n",
    "                    n_challenges=1,\n",
    "                    to_wait=p2.logged_in,\n",
    "                )\n",
    "                accept = p2.accept_challenges(\n",
    "                    opponent=to_id_str(p1.username),\n",
    "                    n_challenges=1,\n",
    "                )\n",
    "                awaitables.append(send)\n",
    "                awaitables.append(accept)\n",
    "            await asyncio.gather(*awaitables)\n",
    "\n",
    "        battles = sum((list(player.battles.values()) for player in players), [])\n",
    "        \n",
    "        for battle in battles:\n",
    "            player = player_lookup[battle.player_username]\n",
    "            oppo = player_lookup[battle._opponent_username]\n",
    "\n",
    "            if battle.won:\n",
    "                winner, loser = player, oppo\n",
    "            else:\n",
    "                winner, loser = oppo, player\n",
    "            winner.script.rating, loser.script.rating = rate_1vs1(winner.script.rating, loser.script.rating)\n",
    "        \n",
    "        for player in players:\n",
    "            player.reset_battles()\n",
    "\n",
    "    del players\n",
    "    gc.collect()"
   ]
  },
  {
   "cell_type": "code",
   "execution_count": 5,
   "metadata": {
    "ExecuteTime": {
     "end_time": "2020-04-15T00:18:19.406481Z",
     "start_time": "2020-04-15T00:18:19.403394Z"
    }
   },
   "outputs": [],
   "source": [
    "def sort_population(population):\n",
    "    return sorted(population, key=lambda p: p.rating.mu, reverse=True)"
   ]
  },
  {
   "cell_type": "code",
   "execution_count": 6,
   "metadata": {
    "ExecuteTime": {
     "end_time": "2020-04-15T00:18:19.412819Z",
     "start_time": "2020-04-15T00:18:19.410398Z"
    }
   },
   "outputs": [],
   "source": [
    "def get_elites(population, num_elites):\n",
    "    return sort_population(population)[:num_elites]"
   ]
  },
  {
   "cell_type": "code",
   "execution_count": 7,
   "metadata": {
    "ExecuteTime": {
     "end_time": "2020-04-15T00:18:19.420780Z",
     "start_time": "2020-04-15T00:18:19.414898Z"
    }
   },
   "outputs": [],
   "source": [
    "def get_tournament_elites(population, tournament_size, num_elites):\n",
    "    tournament = random.sample(population, tournament_size)\n",
    "    return get_elites(tournament, num_elites)"
   ]
  },
  {
   "cell_type": "code",
   "execution_count": 8,
   "metadata": {
    "ExecuteTime": {
     "end_time": "2020-04-15T00:18:19.451745Z",
     "start_time": "2020-04-15T00:18:19.446434Z"
    }
   },
   "outputs": [],
   "source": [
    "def mutate(tree, filter_=None):\n",
    "    if not filter_:\n",
    "        filter_ = lambda x: type(x) is not str\n",
    "    tree = copy.deepcopy(tree)\n",
    "    candidates = anytree.search.findall(tree, filter_=filter_)\n",
    "    if candidates:\n",
    "        target = random.choice(candidates)\n",
    "        target.children = []\n",
    "        generate_tree(target)\n",
    "    return tree"
   ]
  },
  {
   "cell_type": "code",
   "execution_count": 9,
   "metadata": {
    "ExecuteTime": {
     "end_time": "2020-04-15T00:18:19.482040Z",
     "start_time": "2020-04-15T00:18:19.472585Z"
    }
   },
   "outputs": [],
   "source": [
    "def crossover(left, right):\n",
    "    def _is_valid_subtree_head(node):\n",
    "#         return node.name in [RULE.IF_BLOCK]\n",
    "        return True\n",
    "\n",
    "    def _find_head_types(root):\n",
    "        return [node.name for node in anytree.search.findall(root, filter_=_is_valid_subtree_head)]\n",
    "\n",
    "    def _select_type_node(root, type_):\n",
    "        candidates = anytree.search.findall(root, filter_=lambda node: node.name == type_)\n",
    "        return random.choice(candidates)\n",
    "    \n",
    "    def _swap_children(left, right):\n",
    "        left.children, right.children = right.children, left.children\n",
    "        \n",
    "    left = copy.deepcopy(left)\n",
    "    right = copy.deepcopy(right)\n",
    "\n",
    "    left_head_types = _find_head_types(left)\n",
    "    right_head_types = _find_head_types(right)\n",
    "\n",
    "    type_intersection = list(set(left_head_types) & set(right_head_types))\n",
    "    if type_intersection:\n",
    "        type_to_swap = random.choice(type_intersection)\n",
    "        left_head = _select_type_node(left, type_to_swap)\n",
    "        right_head = _select_type_node(right, type_to_swap)\n",
    "        _swap_children(left_head, right_head)\n",
    "    return left, right"
   ]
  },
  {
   "cell_type": "code",
   "execution_count": 10,
   "metadata": {
    "ExecuteTime": {
     "end_time": "2020-04-15T00:18:19.486242Z",
     "start_time": "2020-04-15T00:18:19.483713Z"
    }
   },
   "outputs": [],
   "source": [
    "def get_random_population(population_size):\n",
    "    return [exec_tree(get_random_tree()) for _ in range(population_size)]"
   ]
  },
  {
   "cell_type": "code",
   "execution_count": 11,
   "metadata": {
    "ExecuteTime": {
     "end_time": "2020-04-15T00:18:19.492731Z",
     "start_time": "2020-04-15T00:18:19.490847Z"
    }
   },
   "outputs": [],
   "source": [
    "# def get_population_stats(population):\n",
    "#     ratings = pd.Series([player.rating.mu for player in population])\n",
    "#     return ratings.describe()"
   ]
  },
  {
   "cell_type": "code",
   "execution_count": 12,
   "metadata": {
    "ExecuteTime": {
     "end_time": "2020-04-15T00:18:19.503240Z",
     "start_time": "2020-04-15T00:18:19.494394Z"
    }
   },
   "outputs": [],
   "source": [
    "def save_population(population, fname):\n",
    "    path = Path('temp_scripts').joinpath(fname)\n",
    "    with open(path, 'wb') as f:\n",
    "        dill.dump([player.tree for player in population], f)\n",
    "            \n",
    "def load_population(fname):\n",
    "    path = Path('temp_scripts').joinpath(fname)\n",
    "    with open(path, 'rb') as f:\n",
    "        return [exec_tree(tree) for tree in dill.load(f)]"
   ]
  },
  {
   "cell_type": "code",
   "execution_count": 13,
   "metadata": {
    "ExecuteTime": {
     "end_time": "2020-04-15T00:18:19.509039Z",
     "start_time": "2020-04-15T00:18:19.504925Z"
    }
   },
   "outputs": [],
   "source": [
    "def save_stats(stats, fname):\n",
    "    path = Path('temp_stats').joinpath(fname)\n",
    "    with open(path, 'wb') as f:\n",
    "        dill.dump(stats, f)\n",
    "            \n",
    "def load_stats(fname):\n",
    "    path = Path('temp_stats').joinpath(fname)\n",
    "    with open(path, 'rb') as f:\n",
    "        return dill.load(f)"
   ]
  },
  {
   "cell_type": "markdown",
   "metadata": {},
   "source": [
    "# Evolve"
   ]
  },
  {
   "cell_type": "code",
   "execution_count": 14,
   "metadata": {
    "ExecuteTime": {
     "end_time": "2020-04-15T00:18:19.516037Z",
     "start_time": "2020-04-15T00:18:19.513338Z"
    }
   },
   "outputs": [],
   "source": [
    "def get_fname(\n",
    "    num_elites,\n",
    "    tournament_size,\n",
    "    population_cap,\n",
    "    epochs,\n",
    "    num_games,\n",
    "    index\n",
    "):\n",
    "    return f\"e_{num_elites}_t_{tournament_size}_k_{population_cap}_g_{epochs}_n_{num_games}_{index}.dill\""
   ]
  },
  {
   "cell_type": "code",
   "execution_count": 15,
   "metadata": {
    "ExecuteTime": {
     "end_time": "2020-04-15T00:18:19.530196Z",
     "start_time": "2020-04-15T00:18:19.517765Z"
    }
   },
   "outputs": [],
   "source": [
    "async def run(\n",
    "    num_elites,\n",
    "    tournament_size,\n",
    "    population_cap,\n",
    "    epochs,\n",
    "    num_games\n",
    "):\n",
    "    population = get_random_population(population_size=population_cap)\n",
    "    generations = []\n",
    "    for i in tqdm(range(epochs)):\n",
    "        fname = get_fname(num_elites, tournament_size, population_cap, epochs, num_games, i)\n",
    "        save_population(population, fname)\n",
    "        await evaluate_population(population, num_games=num_games, verbose=False)\n",
    "        generations.append([copy.deepcopy(script) for script in population])\n",
    "        next_population = []\n",
    "        next_population.extend(get_elites(population, num_elites))\n",
    "        while len(next_population) < population_cap:\n",
    "            left, right = get_tournament_elites(population, tournament_size, 2)\n",
    "            children = crossover(left.tree, right.tree)\n",
    "            for child_tree in children:\n",
    "                child_tree = mutate(child_tree)\n",
    "                next_population.append(exec_tree(child_tree))\n",
    "        population = next_population[:population_cap]\n",
    "        gc.collect()"
   ]
  },
  {
   "cell_type": "code",
   "execution_count": 21,
   "metadata": {
    "ExecuteTime": {
     "end_time": "2020-04-15T01:14:16.120487Z",
     "start_time": "2020-04-15T01:14:16.117172Z"
    }
   },
   "outputs": [],
   "source": [
    "epochs = 30\n",
    "tournament_size = 5\n",
    "\n",
    "parameter_sets = [\n",
    "#     (4, 32, 5),\n",
    "    \n",
    "#     (2, 32, 5),\n",
    "#     (4, 32, 5),\n",
    "    \n",
    "#     (4, 24, 5),\n",
    "    \n",
    "#     (2, 32, 5),\n",
    "    (4, 32, 5),\n",
    "    (8, 32, 5),\n",
    "#     (2, 64, 5),\n",
    "    \n",
    "]"
   ]
  },
  {
   "cell_type": "code",
   "execution_count": 22,
   "metadata": {
    "ExecuteTime": {
     "end_time": "2020-04-15T01:33:22.246061Z",
     "start_time": "2020-04-15T01:14:16.763610Z"
    },
    "scrolled": false
   },
   "outputs": [
    {
     "data": {
      "application/vnd.jupyter.widget-view+json": {
       "model_id": "c25419120cac40ec9dea59f1c4f1c5fd",
       "version_major": 2,
       "version_minor": 0
      },
      "text/plain": [
       "HBox(children=(FloatProgress(value=0.0, max=30.0), HTML(value='')))"
      ]
     },
     "metadata": {},
     "output_type": "display_data"
    },
    {
     "name": "stdout",
     "output_type": "stream",
     "text": [
      "\n"
     ]
    },
    {
     "data": {
      "application/vnd.jupyter.widget-view+json": {
       "model_id": "3deff70cc25b4a269e80f979eb22f77f",
       "version_major": 2,
       "version_minor": 0
      },
      "text/plain": [
       "HBox(children=(FloatProgress(value=0.0, max=30.0), HTML(value='')))"
      ]
     },
     "metadata": {},
     "output_type": "display_data"
    },
    {
     "name": "stdout",
     "output_type": "stream",
     "text": [
      "\n"
     ]
    }
   ],
   "source": [
    "for num_elites, population_cap, num_games in parameter_sets:\n",
    "    await run(\n",
    "        num_elites,\n",
    "        tournament_size,\n",
    "        population_cap,\n",
    "        epochs,\n",
    "        num_games\n",
    "    )"
   ]
  },
  {
   "cell_type": "markdown",
   "metadata": {},
   "source": [
    "# Evaluate"
   ]
  },
  {
   "cell_type": "code",
   "execution_count": null,
   "metadata": {
    "ExecuteTime": {
     "start_time": "2020-04-15T01:33:30.773Z"
    },
    "scrolled": false
   },
   "outputs": [
    {
     "name": "stdout",
     "output_type": "stream",
     "text": [
      "960\n"
     ]
    },
    {
     "data": {
      "application/vnd.jupyter.widget-view+json": {
       "model_id": "979de3e2d0414b16828a84d93d1ce4eb",
       "version_major": 2,
       "version_minor": 0
      },
      "text/plain": [
       "HBox(children=(FloatProgress(value=0.0, max=6.0), HTML(value='')))"
      ]
     },
     "metadata": {},
     "output_type": "display_data"
    }
   ],
   "source": [
    "for num_elites, population_cap, num_games in parameter_sets:\n",
    "    generations = []\n",
    "    for i in range(epochs):\n",
    "        fname = get_fname(num_elites, tournament_size, population_cap, epochs, num_games, i)\n",
    "        generations.append(load_population(fname))\n",
    "    all_scripts = sum(generations, [])\n",
    "    print(len(all_scripts))\n",
    "    \n",
    "    await evaluate_population(all_scripts, num_games=6, verbose=True)\n",
    "\n",
    "    script_to_gen = {}\n",
    "    for i, gen in enumerate(generations):\n",
    "        for script in gen:\n",
    "            script_to_gen[script] = i\n",
    "\n",
    "    gen_ratings = [[] for _ in range(len(generations))]\n",
    "    for script in all_scripts:\n",
    "        gen_idx = script_to_gen[script]\n",
    "        gen_ratings[gen_idx].append(script.rating.mu)\n",
    "    gen_ratings = np.asarray(gen_ratings)\n",
    "    \n",
    "    best_scripts = sort_population(all_scripts)[:10]\n",
    "\n",
    "    xs = np.arange(len(gen_ratings))\n",
    "    ys_high = np.percentile(gen_ratings, 75, axis=-1)\n",
    "    ys_median = np.median(gen_ratings, axis=-1)\n",
    "    ys_low = np.percentile(gen_ratings, 25, axis=-1)\n",
    "    stats = (xs, ys_high, ys_median, ys_low)\n",
    "    \n",
    "    fname = get_fname(num_elites, tournament_size, population_cap, epochs, num_games, 'stats')\n",
    "    \n",
    "    save_stats(stats, fname)\n",
    "    save_population(best_scripts, fname)"
   ]
  },
  {
   "cell_type": "code",
   "execution_count": 20,
   "metadata": {
    "ExecuteTime": {
     "end_time": "2020-04-15T01:09:57.767775Z",
     "start_time": "2020-04-15T01:09:57.659939Z"
    },
    "scrolled": false
   },
   "outputs": [
    {
     "data": {
      "text/html": [
       "\n",
       "    <div class=\"bk-root\">\n",
       "        <a href=\"https://bokeh.org\" target=\"_blank\" class=\"bk-logo bk-logo-small bk-logo-notebook\"></a>\n",
       "        <span id=\"1289\">Loading BokehJS ...</span>\n",
       "    </div>"
      ]
     },
     "metadata": {},
     "output_type": "display_data"
    },
    {
     "data": {
      "application/javascript": [
       "\n",
       "(function(root) {\n",
       "  function now() {\n",
       "    return new Date();\n",
       "  }\n",
       "\n",
       "  var force = true;\n",
       "\n",
       "  if (typeof root._bokeh_onload_callbacks === \"undefined\" || force === true) {\n",
       "    root._bokeh_onload_callbacks = [];\n",
       "    root._bokeh_is_loading = undefined;\n",
       "  }\n",
       "\n",
       "  var JS_MIME_TYPE = 'application/javascript';\n",
       "  var HTML_MIME_TYPE = 'text/html';\n",
       "  var EXEC_MIME_TYPE = 'application/vnd.bokehjs_exec.v0+json';\n",
       "  var CLASS_NAME = 'output_bokeh rendered_html';\n",
       "\n",
       "  /**\n",
       "   * Render data to the DOM node\n",
       "   */\n",
       "  function render(props, node) {\n",
       "    var script = document.createElement(\"script\");\n",
       "    node.appendChild(script);\n",
       "  }\n",
       "\n",
       "  /**\n",
       "   * Handle when an output is cleared or removed\n",
       "   */\n",
       "  function handleClearOutput(event, handle) {\n",
       "    var cell = handle.cell;\n",
       "\n",
       "    var id = cell.output_area._bokeh_element_id;\n",
       "    var server_id = cell.output_area._bokeh_server_id;\n",
       "    // Clean up Bokeh references\n",
       "    if (id != null && id in Bokeh.index) {\n",
       "      Bokeh.index[id].model.document.clear();\n",
       "      delete Bokeh.index[id];\n",
       "    }\n",
       "\n",
       "    if (server_id !== undefined) {\n",
       "      // Clean up Bokeh references\n",
       "      var cmd = \"from bokeh.io.state import curstate; print(curstate().uuid_to_server['\" + server_id + \"'].get_sessions()[0].document.roots[0]._id)\";\n",
       "      cell.notebook.kernel.execute(cmd, {\n",
       "        iopub: {\n",
       "          output: function(msg) {\n",
       "            var id = msg.content.text.trim();\n",
       "            if (id in Bokeh.index) {\n",
       "              Bokeh.index[id].model.document.clear();\n",
       "              delete Bokeh.index[id];\n",
       "            }\n",
       "          }\n",
       "        }\n",
       "      });\n",
       "      // Destroy server and session\n",
       "      var cmd = \"import bokeh.io.notebook as ion; ion.destroy_server('\" + server_id + \"')\";\n",
       "      cell.notebook.kernel.execute(cmd);\n",
       "    }\n",
       "  }\n",
       "\n",
       "  /**\n",
       "   * Handle when a new output is added\n",
       "   */\n",
       "  function handleAddOutput(event, handle) {\n",
       "    var output_area = handle.output_area;\n",
       "    var output = handle.output;\n",
       "\n",
       "    // limit handleAddOutput to display_data with EXEC_MIME_TYPE content only\n",
       "    if ((output.output_type != \"display_data\") || (!output.data.hasOwnProperty(EXEC_MIME_TYPE))) {\n",
       "      return\n",
       "    }\n",
       "\n",
       "    var toinsert = output_area.element.find(\".\" + CLASS_NAME.split(' ')[0]);\n",
       "\n",
       "    if (output.metadata[EXEC_MIME_TYPE][\"id\"] !== undefined) {\n",
       "      toinsert[toinsert.length - 1].firstChild.textContent = output.data[JS_MIME_TYPE];\n",
       "      // store reference to embed id on output_area\n",
       "      output_area._bokeh_element_id = output.metadata[EXEC_MIME_TYPE][\"id\"];\n",
       "    }\n",
       "    if (output.metadata[EXEC_MIME_TYPE][\"server_id\"] !== undefined) {\n",
       "      var bk_div = document.createElement(\"div\");\n",
       "      bk_div.innerHTML = output.data[HTML_MIME_TYPE];\n",
       "      var script_attrs = bk_div.children[0].attributes;\n",
       "      for (var i = 0; i < script_attrs.length; i++) {\n",
       "        toinsert[toinsert.length - 1].firstChild.setAttribute(script_attrs[i].name, script_attrs[i].value);\n",
       "        toinsert[toinsert.length - 1].firstChild.textContent = bk_div.children[0].textContent\n",
       "      }\n",
       "      // store reference to server id on output_area\n",
       "      output_area._bokeh_server_id = output.metadata[EXEC_MIME_TYPE][\"server_id\"];\n",
       "    }\n",
       "  }\n",
       "\n",
       "  function register_renderer(events, OutputArea) {\n",
       "\n",
       "    function append_mime(data, metadata, element) {\n",
       "      // create a DOM node to render to\n",
       "      var toinsert = this.create_output_subarea(\n",
       "        metadata,\n",
       "        CLASS_NAME,\n",
       "        EXEC_MIME_TYPE\n",
       "      );\n",
       "      this.keyboard_manager.register_events(toinsert);\n",
       "      // Render to node\n",
       "      var props = {data: data, metadata: metadata[EXEC_MIME_TYPE]};\n",
       "      render(props, toinsert[toinsert.length - 1]);\n",
       "      element.append(toinsert);\n",
       "      return toinsert\n",
       "    }\n",
       "\n",
       "    /* Handle when an output is cleared or removed */\n",
       "    events.on('clear_output.CodeCell', handleClearOutput);\n",
       "    events.on('delete.Cell', handleClearOutput);\n",
       "\n",
       "    /* Handle when a new output is added */\n",
       "    events.on('output_added.OutputArea', handleAddOutput);\n",
       "\n",
       "    /**\n",
       "     * Register the mime type and append_mime function with output_area\n",
       "     */\n",
       "    OutputArea.prototype.register_mime_type(EXEC_MIME_TYPE, append_mime, {\n",
       "      /* Is output safe? */\n",
       "      safe: true,\n",
       "      /* Index of renderer in `output_area.display_order` */\n",
       "      index: 0\n",
       "    });\n",
       "  }\n",
       "\n",
       "  // register the mime type if in Jupyter Notebook environment and previously unregistered\n",
       "  if (root.Jupyter !== undefined) {\n",
       "    var events = require('base/js/events');\n",
       "    var OutputArea = require('notebook/js/outputarea').OutputArea;\n",
       "\n",
       "    if (OutputArea.prototype.mime_types().indexOf(EXEC_MIME_TYPE) == -1) {\n",
       "      register_renderer(events, OutputArea);\n",
       "    }\n",
       "  }\n",
       "\n",
       "  \n",
       "  if (typeof (root._bokeh_timeout) === \"undefined\" || force === true) {\n",
       "    root._bokeh_timeout = Date.now() + 5000;\n",
       "    root._bokeh_failed_load = false;\n",
       "  }\n",
       "\n",
       "  var NB_LOAD_WARNING = {'data': {'text/html':\n",
       "     \"<div style='background-color: #fdd'>\\n\"+\n",
       "     \"<p>\\n\"+\n",
       "     \"BokehJS does not appear to have successfully loaded. If loading BokehJS from CDN, this \\n\"+\n",
       "     \"may be due to a slow or bad network connection. Possible fixes:\\n\"+\n",
       "     \"</p>\\n\"+\n",
       "     \"<ul>\\n\"+\n",
       "     \"<li>re-rerun `output_notebook()` to attempt to load from CDN again, or</li>\\n\"+\n",
       "     \"<li>use INLINE resources instead, as so:</li>\\n\"+\n",
       "     \"</ul>\\n\"+\n",
       "     \"<code>\\n\"+\n",
       "     \"from bokeh.resources import INLINE\\n\"+\n",
       "     \"output_notebook(resources=INLINE)\\n\"+\n",
       "     \"</code>\\n\"+\n",
       "     \"</div>\"}};\n",
       "\n",
       "  function display_loaded() {\n",
       "    var el = document.getElementById(\"1289\");\n",
       "    if (el != null) {\n",
       "      el.textContent = \"BokehJS is loading...\";\n",
       "    }\n",
       "    if (root.Bokeh !== undefined) {\n",
       "      if (el != null) {\n",
       "        el.textContent = \"BokehJS \" + root.Bokeh.version + \" successfully loaded.\";\n",
       "      }\n",
       "    } else if (Date.now() < root._bokeh_timeout) {\n",
       "      setTimeout(display_loaded, 100)\n",
       "    }\n",
       "  }\n",
       "\n",
       "\n",
       "  function run_callbacks() {\n",
       "    try {\n",
       "      root._bokeh_onload_callbacks.forEach(function(callback) {\n",
       "        if (callback != null)\n",
       "          callback();\n",
       "      });\n",
       "    } finally {\n",
       "      delete root._bokeh_onload_callbacks\n",
       "    }\n",
       "    console.debug(\"Bokeh: all callbacks have finished\");\n",
       "  }\n",
       "\n",
       "  function load_libs(css_urls, js_urls, callback) {\n",
       "    if (css_urls == null) css_urls = [];\n",
       "    if (js_urls == null) js_urls = [];\n",
       "\n",
       "    root._bokeh_onload_callbacks.push(callback);\n",
       "    if (root._bokeh_is_loading > 0) {\n",
       "      console.debug(\"Bokeh: BokehJS is being loaded, scheduling callback at\", now());\n",
       "      return null;\n",
       "    }\n",
       "    if (js_urls == null || js_urls.length === 0) {\n",
       "      run_callbacks();\n",
       "      return null;\n",
       "    }\n",
       "    console.debug(\"Bokeh: BokehJS not loaded, scheduling load and callback at\", now());\n",
       "    root._bokeh_is_loading = css_urls.length + js_urls.length;\n",
       "\n",
       "    function on_load() {\n",
       "      root._bokeh_is_loading--;\n",
       "      if (root._bokeh_is_loading === 0) {\n",
       "        console.debug(\"Bokeh: all BokehJS libraries/stylesheets loaded\");\n",
       "        run_callbacks()\n",
       "      }\n",
       "    }\n",
       "\n",
       "    function on_error() {\n",
       "      console.error(\"failed to load \" + url);\n",
       "    }\n",
       "\n",
       "    for (var i = 0; i < css_urls.length; i++) {\n",
       "      var url = css_urls[i];\n",
       "      const element = document.createElement(\"link\");\n",
       "      element.onload = on_load;\n",
       "      element.onerror = on_error;\n",
       "      element.rel = \"stylesheet\";\n",
       "      element.type = \"text/css\";\n",
       "      element.href = url;\n",
       "      console.debug(\"Bokeh: injecting link tag for BokehJS stylesheet: \", url);\n",
       "      document.body.appendChild(element);\n",
       "    }\n",
       "\n",
       "    const hashes = {\"https://cdn.bokeh.org/bokeh/release/bokeh-2.0.1.min.js\": \"JpP8FXbgAZLkfur7LiK3j9AGBhHNIvF742meBJrjO2ShJDhCG2I1uVvW+0DUtrmc\", \"https://cdn.bokeh.org/bokeh/release/bokeh-widgets-2.0.1.min.js\": \"xZlADit0Q04ISQEdKg2k3L4W9AwQBAuDs9nJL9fM/WwzL1tEU9VPNezOFX0nLEAz\", \"https://cdn.bokeh.org/bokeh/release/bokeh-tables-2.0.1.min.js\": \"4BuPRZkdMKSnj3zoxiNrQ86XgNw0rYmBOxe7nshquXwwcauupgBF2DHLVG1WuZlV\", \"https://cdn.bokeh.org/bokeh/release/bokeh-gl-2.0.1.min.js\": \"Dv1SQ87hmDqK6S5OhBf0bCuwAEvL5QYL0PuR/F1SPVhCS/r/abjkbpKDYL2zeM19\"};\n",
       "\n",
       "    for (var i = 0; i < js_urls.length; i++) {\n",
       "      var url = js_urls[i];\n",
       "      var element = document.createElement('script');\n",
       "      element.onload = on_load;\n",
       "      element.onerror = on_error;\n",
       "      element.async = false;\n",
       "      element.src = url;\n",
       "      if (url in hashes) {\n",
       "        element.crossOrigin = \"anonymous\";\n",
       "        element.integrity = \"sha384-\" + hashes[url];\n",
       "      }\n",
       "      console.debug(\"Bokeh: injecting script tag for BokehJS library: \", url);\n",
       "      document.head.appendChild(element);\n",
       "    }\n",
       "  };var element = document.getElementById(\"1289\");\n",
       "  if (element == null) {\n",
       "    console.error(\"Bokeh: ERROR: autoload.js configured with elementid '1289' but no matching script tag was found. \")\n",
       "    return false;\n",
       "  }\n",
       "\n",
       "  function inject_raw_css(css) {\n",
       "    const element = document.createElement(\"style\");\n",
       "    element.appendChild(document.createTextNode(css));\n",
       "    document.body.appendChild(element);\n",
       "  }\n",
       "\n",
       "  \n",
       "  var js_urls = [\"https://cdn.bokeh.org/bokeh/release/bokeh-2.0.1.min.js\", \"https://cdn.bokeh.org/bokeh/release/bokeh-widgets-2.0.1.min.js\", \"https://cdn.bokeh.org/bokeh/release/bokeh-tables-2.0.1.min.js\", \"https://cdn.bokeh.org/bokeh/release/bokeh-gl-2.0.1.min.js\"];\n",
       "  var css_urls = [];\n",
       "  \n",
       "\n",
       "  var inline_js = [\n",
       "    function(Bokeh) {\n",
       "      Bokeh.set_log_level(\"info\");\n",
       "    },\n",
       "    function(Bokeh) {\n",
       "    \n",
       "    \n",
       "    }\n",
       "  ];\n",
       "\n",
       "  function run_inline_js() {\n",
       "    \n",
       "    if (root.Bokeh !== undefined || force === true) {\n",
       "      \n",
       "    for (var i = 0; i < inline_js.length; i++) {\n",
       "      inline_js[i].call(root, root.Bokeh);\n",
       "    }\n",
       "    if (force === true) {\n",
       "        display_loaded();\n",
       "      }} else if (Date.now() < root._bokeh_timeout) {\n",
       "      setTimeout(run_inline_js, 100);\n",
       "    } else if (!root._bokeh_failed_load) {\n",
       "      console.log(\"Bokeh: BokehJS failed to load within specified timeout.\");\n",
       "      root._bokeh_failed_load = true;\n",
       "    } else if (force !== true) {\n",
       "      var cell = $(document.getElementById(\"1289\")).parents('.cell').data().cell;\n",
       "      cell.output_area.append_execute_result(NB_LOAD_WARNING)\n",
       "    }\n",
       "\n",
       "  }\n",
       "\n",
       "  if (root._bokeh_is_loading === 0) {\n",
       "    console.debug(\"Bokeh: BokehJS loaded, going straight to plotting\");\n",
       "    run_inline_js();\n",
       "  } else {\n",
       "    load_libs(css_urls, js_urls, function() {\n",
       "      console.debug(\"Bokeh: BokehJS plotting callback run at\", now());\n",
       "      run_inline_js();\n",
       "    });\n",
       "  }\n",
       "}(window));"
      ],
      "application/vnd.bokehjs_load.v0+json": "\n(function(root) {\n  function now() {\n    return new Date();\n  }\n\n  var force = true;\n\n  if (typeof root._bokeh_onload_callbacks === \"undefined\" || force === true) {\n    root._bokeh_onload_callbacks = [];\n    root._bokeh_is_loading = undefined;\n  }\n\n  \n\n  \n  if (typeof (root._bokeh_timeout) === \"undefined\" || force === true) {\n    root._bokeh_timeout = Date.now() + 5000;\n    root._bokeh_failed_load = false;\n  }\n\n  var NB_LOAD_WARNING = {'data': {'text/html':\n     \"<div style='background-color: #fdd'>\\n\"+\n     \"<p>\\n\"+\n     \"BokehJS does not appear to have successfully loaded. If loading BokehJS from CDN, this \\n\"+\n     \"may be due to a slow or bad network connection. Possible fixes:\\n\"+\n     \"</p>\\n\"+\n     \"<ul>\\n\"+\n     \"<li>re-rerun `output_notebook()` to attempt to load from CDN again, or</li>\\n\"+\n     \"<li>use INLINE resources instead, as so:</li>\\n\"+\n     \"</ul>\\n\"+\n     \"<code>\\n\"+\n     \"from bokeh.resources import INLINE\\n\"+\n     \"output_notebook(resources=INLINE)\\n\"+\n     \"</code>\\n\"+\n     \"</div>\"}};\n\n  function display_loaded() {\n    var el = document.getElementById(\"1289\");\n    if (el != null) {\n      el.textContent = \"BokehJS is loading...\";\n    }\n    if (root.Bokeh !== undefined) {\n      if (el != null) {\n        el.textContent = \"BokehJS \" + root.Bokeh.version + \" successfully loaded.\";\n      }\n    } else if (Date.now() < root._bokeh_timeout) {\n      setTimeout(display_loaded, 100)\n    }\n  }\n\n\n  function run_callbacks() {\n    try {\n      root._bokeh_onload_callbacks.forEach(function(callback) {\n        if (callback != null)\n          callback();\n      });\n    } finally {\n      delete root._bokeh_onload_callbacks\n    }\n    console.debug(\"Bokeh: all callbacks have finished\");\n  }\n\n  function load_libs(css_urls, js_urls, callback) {\n    if (css_urls == null) css_urls = [];\n    if (js_urls == null) js_urls = [];\n\n    root._bokeh_onload_callbacks.push(callback);\n    if (root._bokeh_is_loading > 0) {\n      console.debug(\"Bokeh: BokehJS is being loaded, scheduling callback at\", now());\n      return null;\n    }\n    if (js_urls == null || js_urls.length === 0) {\n      run_callbacks();\n      return null;\n    }\n    console.debug(\"Bokeh: BokehJS not loaded, scheduling load and callback at\", now());\n    root._bokeh_is_loading = css_urls.length + js_urls.length;\n\n    function on_load() {\n      root._bokeh_is_loading--;\n      if (root._bokeh_is_loading === 0) {\n        console.debug(\"Bokeh: all BokehJS libraries/stylesheets loaded\");\n        run_callbacks()\n      }\n    }\n\n    function on_error() {\n      console.error(\"failed to load \" + url);\n    }\n\n    for (var i = 0; i < css_urls.length; i++) {\n      var url = css_urls[i];\n      const element = document.createElement(\"link\");\n      element.onload = on_load;\n      element.onerror = on_error;\n      element.rel = \"stylesheet\";\n      element.type = \"text/css\";\n      element.href = url;\n      console.debug(\"Bokeh: injecting link tag for BokehJS stylesheet: \", url);\n      document.body.appendChild(element);\n    }\n\n    const hashes = {\"https://cdn.bokeh.org/bokeh/release/bokeh-2.0.1.min.js\": \"JpP8FXbgAZLkfur7LiK3j9AGBhHNIvF742meBJrjO2ShJDhCG2I1uVvW+0DUtrmc\", \"https://cdn.bokeh.org/bokeh/release/bokeh-widgets-2.0.1.min.js\": \"xZlADit0Q04ISQEdKg2k3L4W9AwQBAuDs9nJL9fM/WwzL1tEU9VPNezOFX0nLEAz\", \"https://cdn.bokeh.org/bokeh/release/bokeh-tables-2.0.1.min.js\": \"4BuPRZkdMKSnj3zoxiNrQ86XgNw0rYmBOxe7nshquXwwcauupgBF2DHLVG1WuZlV\", \"https://cdn.bokeh.org/bokeh/release/bokeh-gl-2.0.1.min.js\": \"Dv1SQ87hmDqK6S5OhBf0bCuwAEvL5QYL0PuR/F1SPVhCS/r/abjkbpKDYL2zeM19\"};\n\n    for (var i = 0; i < js_urls.length; i++) {\n      var url = js_urls[i];\n      var element = document.createElement('script');\n      element.onload = on_load;\n      element.onerror = on_error;\n      element.async = false;\n      element.src = url;\n      if (url in hashes) {\n        element.crossOrigin = \"anonymous\";\n        element.integrity = \"sha384-\" + hashes[url];\n      }\n      console.debug(\"Bokeh: injecting script tag for BokehJS library: \", url);\n      document.head.appendChild(element);\n    }\n  };var element = document.getElementById(\"1289\");\n  if (element == null) {\n    console.error(\"Bokeh: ERROR: autoload.js configured with elementid '1289' but no matching script tag was found. \")\n    return false;\n  }\n\n  function inject_raw_css(css) {\n    const element = document.createElement(\"style\");\n    element.appendChild(document.createTextNode(css));\n    document.body.appendChild(element);\n  }\n\n  \n  var js_urls = [\"https://cdn.bokeh.org/bokeh/release/bokeh-2.0.1.min.js\", \"https://cdn.bokeh.org/bokeh/release/bokeh-widgets-2.0.1.min.js\", \"https://cdn.bokeh.org/bokeh/release/bokeh-tables-2.0.1.min.js\", \"https://cdn.bokeh.org/bokeh/release/bokeh-gl-2.0.1.min.js\"];\n  var css_urls = [];\n  \n\n  var inline_js = [\n    function(Bokeh) {\n      Bokeh.set_log_level(\"info\");\n    },\n    function(Bokeh) {\n    \n    \n    }\n  ];\n\n  function run_inline_js() {\n    \n    if (root.Bokeh !== undefined || force === true) {\n      \n    for (var i = 0; i < inline_js.length; i++) {\n      inline_js[i].call(root, root.Bokeh);\n    }\n    if (force === true) {\n        display_loaded();\n      }} else if (Date.now() < root._bokeh_timeout) {\n      setTimeout(run_inline_js, 100);\n    } else if (!root._bokeh_failed_load) {\n      console.log(\"Bokeh: BokehJS failed to load within specified timeout.\");\n      root._bokeh_failed_load = true;\n    } else if (force !== true) {\n      var cell = $(document.getElementById(\"1289\")).parents('.cell').data().cell;\n      cell.output_area.append_execute_result(NB_LOAD_WARNING)\n    }\n\n  }\n\n  if (root._bokeh_is_loading === 0) {\n    console.debug(\"Bokeh: BokehJS loaded, going straight to plotting\");\n    run_inline_js();\n  } else {\n    load_libs(css_urls, js_urls, function() {\n      console.debug(\"Bokeh: BokehJS plotting callback run at\", now());\n      run_inline_js();\n    });\n  }\n}(window));"
     },
     "metadata": {},
     "output_type": "display_data"
    },
    {
     "name": "stdout",
     "output_type": "stream",
     "text": [
      "e_2_t_5_k_32_g_30_n_5_stats.dill\n"
     ]
    },
    {
     "data": {
      "text/html": [
       "\n",
       "\n",
       "\n",
       "\n",
       "\n",
       "\n",
       "  <div class=\"bk-root\" id=\"32160f7a-690f-4333-9765-1eb4a99a1f72\" data-root-id=\"1290\"></div>\n"
      ]
     },
     "metadata": {},
     "output_type": "display_data"
    },
    {
     "data": {
      "application/javascript": [
       "(function(root) {\n",
       "  function embed_document(root) {\n",
       "    \n",
       "  var docs_json = {\"748cd5d3-4dd5-4c05-903c-ab9339ec5f21\":{\"roots\":{\"references\":[{\"attributes\":{\"below\":[{\"id\":\"1299\"}],\"center\":[{\"id\":\"1302\"},{\"id\":\"1306\"}],\"left\":[{\"id\":\"1303\"}],\"plot_height\":400,\"plot_width\":800,\"renderers\":[{\"id\":\"1324\"},{\"id\":\"1329\"},{\"id\":\"1334\"}],\"title\":{\"id\":\"1337\"},\"toolbar\":{\"id\":\"1314\"},\"x_range\":{\"id\":\"1291\"},\"x_scale\":{\"id\":\"1295\"},\"y_range\":{\"id\":\"1293\"},\"y_scale\":{\"id\":\"1297\"}},\"id\":\"1290\",\"subtype\":\"Figure\",\"type\":\"Plot\"},{\"attributes\":{\"line_alpha\":0.1,\"line_color\":\"#1f77b4\",\"line_width\":2,\"x\":{\"field\":\"x\"},\"y\":{\"field\":\"y\"}},\"id\":\"1333\",\"type\":\"Line\"},{\"attributes\":{\"line_alpha\":0.3,\"line_color\":\"#1f77b4\",\"line_width\":2,\"x\":{\"field\":\"x\"},\"y\":{\"field\":\"y\"}},\"id\":\"1332\",\"type\":\"Line\"},{\"attributes\":{\"data\":{\"x\":[0,1,2,3,4,5,6,7,8,9,10,11,12,13,14,15,16,17,18,19,20,21,22,23,24,25,26,27,28,29],\"y\":{\"__ndarray__\":\"l0hjNK6JMUCW3OmJgFwzQBOArlQhPTJAgCTKs4ahM0DmGomQ9OszQIzSXJ+zBzRAy+n8Ku+xMkDqKMavQnwzQGwNFjc4zDVAMAJ7ZhIiN0DI/Bso9zE1QDoPOtjLfTZAOEfdM+NPNEDqdMlXrT03QPJYMgaTQTdA94oZTsK0NkDyTL9+wF02QDAkuHKbFzZAL63Q428/OEB6ELhLREA2QFfOu6tLCTZAC+b1APMBOED0UJIftmQ3QMZ4Ep89xjhARPJBdUrFOEDOcqETYUM5QN7E7BRsczhA1GHAyGidOUAW1dYVYvE5QDJqcnt6EjlA\",\"dtype\":\"float64\",\"shape\":[30]}},\"selected\":{\"id\":\"1347\"},\"selection_policy\":{\"id\":\"1346\"}},\"id\":\"1331\",\"type\":\"ColumnDataSource\"},{\"attributes\":{},\"id\":\"1300\",\"type\":\"BasicTicker\"},{\"attributes\":{\"axis\":{\"id\":\"1299\"},\"ticker\":null},\"id\":\"1302\",\"type\":\"Grid\"},{\"attributes\":{},\"id\":\"1295\",\"type\":\"LinearScale\"},{\"attributes\":{},\"id\":\"1339\",\"type\":\"BasicTickFormatter\"},{\"attributes\":{},\"id\":\"1343\",\"type\":\"Selection\"},{\"attributes\":{\"end\":40,\"start\":15},\"id\":\"1293\",\"type\":\"Range1d\"},{\"attributes\":{\"overlay\":{\"id\":\"1313\"}},\"id\":\"1309\",\"type\":\"BoxZoomTool\"},{\"attributes\":{},\"id\":\"1347\",\"type\":\"Selection\"},{\"attributes\":{\"source\":{\"id\":\"1321\"}},\"id\":\"1325\",\"type\":\"CDSView\"},{\"attributes\":{\"data\":{\"x\":[0,1,2,3,4,5,6,7,8,9,10,11,12,13,14,15,16,17,18,19,20,21,22,23,24,25,26,27,28,29],\"y\":{\"__ndarray__\":\"uKa1NFrON0DuEKlr2Xc3QPwAl1VOkThAdKSM6zmxOkAj9qpr+u46QLjyTRmlgDlABp30eoIGOkBYpo4bbHw4QN4H62/YIjtAdpnetsMsPECEp8UGOeE6QNniev2gFTtA/M+Ti6zYOkCphvZac4c8QCB6ThBqFzxAIbY86KyTOkCUH4x7zGE6QG5W4RhcnTpA3qy+j12zPEBSPsIL1sU7QIhKJv8ZMjxA+wenKoaVPEALxcyqJ/I7QMKSau/PpT5AyRop3x4rPUC+bk92OiY+QPwH8o0yhD5AamqKRf7jPkCcgQIUDLQ8QNVbt6IAwj5A\",\"dtype\":\"float64\",\"shape\":[30]}},\"selected\":{\"id\":\"1343\"},\"selection_policy\":{\"id\":\"1342\"}},\"id\":\"1321\",\"type\":\"ColumnDataSource\"},{\"attributes\":{},\"id\":\"1307\",\"type\":\"PanTool\"},{\"attributes\":{\"data_source\":{\"id\":\"1331\"},\"glyph\":{\"id\":\"1332\"},\"hover_glyph\":null,\"muted_glyph\":null,\"nonselection_glyph\":{\"id\":\"1333\"},\"selection_glyph\":null,\"view\":{\"id\":\"1335\"}},\"id\":\"1334\",\"type\":\"GlyphRenderer\"},{\"attributes\":{\"line_alpha\":0.3,\"line_color\":\"#1f77b4\",\"line_width\":2,\"x\":{\"field\":\"x\"},\"y\":{\"field\":\"y\"}},\"id\":\"1322\",\"type\":\"Line\"},{\"attributes\":{\"formatter\":{\"id\":\"1339\"},\"ticker\":{\"id\":\"1300\"}},\"id\":\"1299\",\"type\":\"LinearAxis\"},{\"attributes\":{},\"id\":\"1342\",\"type\":\"UnionRenderers\"},{\"attributes\":{},\"id\":\"1308\",\"type\":\"WheelZoomTool\"},{\"attributes\":{\"active_drag\":\"auto\",\"active_inspect\":\"auto\",\"active_multi\":null,\"active_scroll\":\"auto\",\"active_tap\":\"auto\",\"tools\":[{\"id\":\"1307\"},{\"id\":\"1308\"},{\"id\":\"1309\"},{\"id\":\"1310\"},{\"id\":\"1311\"},{\"id\":\"1312\"}]},\"id\":\"1314\",\"type\":\"Toolbar\"},{\"attributes\":{\"line_color\":\"#1f77b4\",\"line_width\":2,\"x\":{\"field\":\"x\"},\"y\":{\"field\":\"y\"}},\"id\":\"1327\",\"type\":\"Line\"},{\"attributes\":{\"data\":{\"x\":[0,1,2,3,4,5,6,7,8,9,10,11,12,13,14,15,16,17,18,19,20,21,22,23,24,25,26,27,28,29],\"y\":{\"__ndarray__\":\"tfK0SGwDNEBeADeALMA0QMDBW9dMGDZA1jaP3O+5N0B60Pw8qDk3QM+rZORxADhAfDKemG2rN0AslzAaOtc1QCrmuA5KtThAlkdajtXHOEACUX+rTME3QEucd31NbTlAOjzKv5WNN0DL04SxwS45QGmnYVnFBjlATBWb7VVmOECRUfwy5aI4QLixdULaazhAzMCp8RxUOkDXUN+bEJw4QJo1dhHJQTpAx6RtvBxsOkCAKVm6wRA6QJqq6h+J5DtA0bCXcrQ2O0B3jYwppc87QCJbgrijsTpAmKnqtrC7PECmWi6MhNo7QFjhfN1wBjxA\",\"dtype\":\"float64\",\"shape\":[30]}},\"selected\":{\"id\":\"1345\"},\"selection_policy\":{\"id\":\"1344\"}},\"id\":\"1326\",\"type\":\"ColumnDataSource\"},{\"attributes\":{},\"id\":\"1341\",\"type\":\"BasicTickFormatter\"},{\"attributes\":{},\"id\":\"1344\",\"type\":\"UnionRenderers\"},{\"attributes\":{\"source\":{\"id\":\"1331\"}},\"id\":\"1335\",\"type\":\"CDSView\"},{\"attributes\":{},\"id\":\"1312\",\"type\":\"HelpTool\"},{\"attributes\":{\"bottom_units\":\"screen\",\"fill_alpha\":0.5,\"fill_color\":\"lightgrey\",\"left_units\":\"screen\",\"level\":\"overlay\",\"line_alpha\":1.0,\"line_color\":\"black\",\"line_dash\":[4,4],\"line_width\":2,\"render_mode\":\"css\",\"right_units\":\"screen\",\"top_units\":\"screen\"},\"id\":\"1313\",\"type\":\"BoxAnnotation\"},{\"attributes\":{\"data_source\":{\"id\":\"1326\"},\"glyph\":{\"id\":\"1327\"},\"hover_glyph\":null,\"muted_glyph\":null,\"nonselection_glyph\":{\"id\":\"1328\"},\"selection_glyph\":null,\"view\":{\"id\":\"1330\"}},\"id\":\"1329\",\"type\":\"GlyphRenderer\"},{\"attributes\":{\"text\":\"\"},\"id\":\"1337\",\"type\":\"Title\"},{\"attributes\":{},\"id\":\"1304\",\"type\":\"BasicTicker\"},{\"attributes\":{\"formatter\":{\"id\":\"1341\"},\"ticker\":{\"id\":\"1304\"}},\"id\":\"1303\",\"type\":\"LinearAxis\"},{\"attributes\":{},\"id\":\"1297\",\"type\":\"LinearScale\"},{\"attributes\":{},\"id\":\"1311\",\"type\":\"ResetTool\"},{\"attributes\":{\"line_alpha\":0.1,\"line_color\":\"#1f77b4\",\"line_width\":2,\"x\":{\"field\":\"x\"},\"y\":{\"field\":\"y\"}},\"id\":\"1328\",\"type\":\"Line\"},{\"attributes\":{},\"id\":\"1310\",\"type\":\"SaveTool\"},{\"attributes\":{\"line_alpha\":0.1,\"line_color\":\"#1f77b4\",\"line_width\":2,\"x\":{\"field\":\"x\"},\"y\":{\"field\":\"y\"}},\"id\":\"1323\",\"type\":\"Line\"},{\"attributes\":{\"data_source\":{\"id\":\"1321\"},\"glyph\":{\"id\":\"1322\"},\"hover_glyph\":null,\"muted_glyph\":null,\"nonselection_glyph\":{\"id\":\"1323\"},\"selection_glyph\":null,\"view\":{\"id\":\"1325\"}},\"id\":\"1324\",\"type\":\"GlyphRenderer\"},{\"attributes\":{\"source\":{\"id\":\"1326\"}},\"id\":\"1330\",\"type\":\"CDSView\"},{\"attributes\":{\"axis\":{\"id\":\"1303\"},\"dimension\":1,\"ticker\":null},\"id\":\"1306\",\"type\":\"Grid\"},{\"attributes\":{},\"id\":\"1346\",\"type\":\"UnionRenderers\"},{\"attributes\":{},\"id\":\"1345\",\"type\":\"Selection\"},{\"attributes\":{},\"id\":\"1291\",\"type\":\"DataRange1d\"}],\"root_ids\":[\"1290\"]},\"title\":\"Bokeh Application\",\"version\":\"2.0.1\"}};\n",
       "  var render_items = [{\"docid\":\"748cd5d3-4dd5-4c05-903c-ab9339ec5f21\",\"root_ids\":[\"1290\"],\"roots\":{\"1290\":\"32160f7a-690f-4333-9765-1eb4a99a1f72\"}}];\n",
       "  root.Bokeh.embed.embed_items_notebook(docs_json, render_items);\n",
       "\n",
       "  }\n",
       "  if (root.Bokeh !== undefined) {\n",
       "    embed_document(root);\n",
       "  } else {\n",
       "    var attempts = 0;\n",
       "    var timer = setInterval(function(root) {\n",
       "      if (root.Bokeh !== undefined) {\n",
       "        clearInterval(timer);\n",
       "        embed_document(root);\n",
       "      } else {\n",
       "        attempts++;\n",
       "        if (attempts > 100) {\n",
       "          clearInterval(timer);\n",
       "          console.log(\"Bokeh: ERROR: Unable to run BokehJS code because BokehJS library is missing\");\n",
       "        }\n",
       "      }\n",
       "    }, 10, root)\n",
       "  }\n",
       "})(window);"
      ],
      "application/vnd.bokehjs_exec.v0+json": ""
     },
     "metadata": {
      "application/vnd.bokehjs_exec.v0+json": {
       "id": "1290"
      }
     },
     "output_type": "display_data"
    },
    {
     "name": "stdout",
     "output_type": "stream",
     "text": [
      "\n",
      "class Script_4dddcfdac3ac41658761b5ff322ee562(Script):\n",
      "    def choose_move(self, battle: Battle):\n",
      "    \n",
      "        available_moves = battle.available_moves\n",
      "        if not available_moves:\n",
      "            return random.choice(battle.available_switches)\n",
      "            \n",
      "        dsl = DSL(battle)\n",
      "        move_scores = []\n",
      "        for move in battle.available_moves:\n",
      "            score = 0\n",
      "            if ((dsl.player_has_status_effect(Status.TOX) or dsl.move_is_status(move))):\n",
      "                score += -8\n",
      "            if (dsl.move_is_physical(move)):\n",
      "                if (((dsl.move_accuracy(move) >= 50) or (dsl.move_accuracy(move) >= 90))):\n",
      "                    score += 3\n",
      "                if (dsl.check_move_sds_if_hits_opp(move)):\n",
      "                    score += 6\n",
      "                if ((dsl.check_move_rainy(move) or dsl.opp_has_status_effect(Status.SLP))):\n",
      "                    score += -1\n",
      "            if ((dsl.gets_stab(move) and (dsl.move_base_power(move) <= 233))):\n",
      "                score += 4\n",
      "            if ((dsl.move_is_physical(move) and (dsl.move_type(move) != PokemonType.GHOST))):\n",
      "                if ((dsl.player_health_percent() >= 0)):\n",
      "                    score += 5\n",
      "                if (((dsl.type_multiplier(move) >= 1) or dsl.check_move_inflicts_status_condition(move, Status.SLP))):\n",
      "                    score += 7\n",
      "                if ((dsl.check_move_sds_always(move) and dsl.check_move_sunny(move))):\n",
      "                    score += -3\n",
      "            move_scores.append(score)\n",
      "            \n",
      "        best_move = available_moves[move_scores.index(max(move_scores))]\n",
      "        return best_move\n",
      "\n",
      "\n",
      "class Script_2ac8b6ad7d8849afaef2760450e00187(Script):\n",
      "    def choose_move(self, battle: Battle):\n",
      "    \n",
      "        available_moves = battle.available_moves\n",
      "        if not available_moves:\n",
      "            return random.choice(battle.available_switches)\n",
      "            \n",
      "        dsl = DSL(battle)\n",
      "        move_scores = []\n",
      "        for move in battle.available_moves:\n",
      "            score = 0\n",
      "            if ((dsl.player_has_status_effect(Status.TOX) or dsl.move_is_status(move))):\n",
      "                score += -8\n",
      "            if (dsl.move_is_physical(move)):\n",
      "                if (dsl.check_move_inflicts_status_condition(move, Status.PAR)):\n",
      "                    score += 3\n",
      "                if (dsl.check_move_sds_if_hits_opp(move)):\n",
      "                    score += 6\n",
      "                if ((dsl.check_move_rainy(move) or dsl.opp_has_status_effect(Status.SLP))):\n",
      "                    score += -1\n",
      "            if ((dsl.gets_stab(move) and (dsl.move_base_power(move) <= 233))):\n",
      "                score += 4\n",
      "            if ((dsl.move_is_physical(move) and (dsl.move_type(move) != PokemonType.GHOST))):\n",
      "                if (((dsl.type_multiplier(move) >= 1) or dsl.check_move_rainy(move))):\n",
      "                    score += 7\n",
      "                if (((dsl.type_multiplier(move) >= 0.5) or dsl.check_move_inflicts_status_condition(move, Status.SLP))):\n",
      "                    score += 7\n",
      "                if ((dsl.check_move_sds_always(move) and dsl.check_move_sunny(move))):\n",
      "                    score += 1\n",
      "            move_scores.append(score)\n",
      "            \n",
      "        best_move = available_moves[move_scores.index(max(move_scores))]\n",
      "        return best_move\n",
      "\n",
      "\n",
      "class Script_12842d2784bb4aa190e9571679f6b00c(Script):\n",
      "    def choose_move(self, battle: Battle):\n",
      "    \n",
      "        available_moves = battle.available_moves\n",
      "        if not available_moves:\n",
      "            return random.choice(battle.available_switches)\n",
      "            \n",
      "        dsl = DSL(battle)\n",
      "        move_scores = []\n",
      "        for move in battle.available_moves:\n",
      "            score = 0\n",
      "            if ((dsl.player_has_status_effect(Status.TOX) or dsl.move_is_status(move))):\n",
      "                score += -8\n",
      "            if (dsl.move_is_physical(move)):\n",
      "                if (dsl.check_move_inflicts_status_condition(move, Status.PAR)):\n",
      "                    score += 3\n",
      "                if (dsl.check_move_sds_if_hits_opp(move)):\n",
      "                    score += 6\n",
      "                if ((dsl.check_move_rainy(move) or dsl.opp_has_status_effect(Status.TOX))):\n",
      "                    score += -1\n",
      "            if ((dsl.gets_stab(move) and (dsl.move_base_power(move) <= 233))):\n",
      "                score += 4\n",
      "            if ((dsl.move_is_physical(move) and (dsl.move_type(move) == PokemonType.GHOST))):\n",
      "                if (((dsl.type_multiplier(move) >= 1) or dsl.player_has_status_effect(None))):\n",
      "                    score += 7\n",
      "                if (((dsl.type_multiplier(move) >= 0.5) or dsl.check_move_inflicts_status_condition(move, Status.SLP))):\n",
      "                    score += 7\n",
      "                if ((dsl.check_move_sds_always(move) and dsl.check_move_sunny(move))):\n",
      "                    score += -3\n",
      "            move_scores.append(score)\n",
      "            \n",
      "        best_move = available_moves[move_scores.index(max(move_scores))]\n",
      "        return best_move\n",
      "\n",
      "e_2_t_5_k_64_g_30_n_5_stats.dill\n"
     ]
    },
    {
     "data": {
      "text/html": [
       "\n",
       "\n",
       "\n",
       "\n",
       "\n",
       "\n",
       "  <div class=\"bk-root\" id=\"e21f05d9-4299-4cad-98f4-495fb7130eaa\" data-root-id=\"1427\"></div>\n"
      ]
     },
     "metadata": {},
     "output_type": "display_data"
    },
    {
     "data": {
      "application/javascript": [
       "(function(root) {\n",
       "  function embed_document(root) {\n",
       "    \n",
       "  var docs_json = {\"cd435ca4-5f65-4260-8785-938bdd0fc47d\":{\"roots\":{\"references\":[{\"attributes\":{\"below\":[{\"id\":\"1436\"}],\"center\":[{\"id\":\"1439\"},{\"id\":\"1443\"}],\"left\":[{\"id\":\"1440\"}],\"plot_height\":400,\"plot_width\":800,\"renderers\":[{\"id\":\"1461\"},{\"id\":\"1466\"},{\"id\":\"1471\"}],\"title\":{\"id\":\"1487\"},\"toolbar\":{\"id\":\"1451\"},\"x_range\":{\"id\":\"1428\"},\"x_scale\":{\"id\":\"1432\"},\"y_range\":{\"id\":\"1430\"},\"y_scale\":{\"id\":\"1434\"}},\"id\":\"1427\",\"subtype\":\"Figure\",\"type\":\"Plot\"},{\"attributes\":{},\"id\":\"1441\",\"type\":\"BasicTicker\"},{\"attributes\":{\"line_alpha\":0.1,\"line_color\":\"#1f77b4\",\"line_width\":2,\"x\":{\"field\":\"x\"},\"y\":{\"field\":\"y\"}},\"id\":\"1470\",\"type\":\"Line\"},{\"attributes\":{\"data\":{\"x\":[0,1,2,3,4,5,6,7,8,9,10,11,12,13,14,15,16,17,18,19,20,21,22,23,24,25,26,27,28,29],\"y\":{\"__ndarray__\":\"e6kghPI1NEAou6pdJ/o0QHyf+8YDnzVApUOjD8SsNUDJnmN2K6Q1QOxAoNmpoTVARRRgivrbNUDysVamunozQBuTA1CjDDZAL1Ur25DSNkCH1Xr3Ltg2QByV+TDrCzZAAHUW9C1aNkDhuu30z5g3QPTr5/5GoTdAf4Gv7rDLOEAchZo9yUs3QMs16Ch/KDZAscjbGqqyNkBHQZCjgZo3QKHBpBVGHDZATxGzAIG3N0DVMUE3Ku42QKbEeRf2sjZAbLKRlpmzOECOUO1Yiak3QFxH7solHTdA8XYkZbEHOEC6B97cWwk3QG0Qe6WYmzdA\",\"dtype\":\"float64\",\"shape\":[30]}},\"selected\":{\"id\":\"1497\"},\"selection_policy\":{\"id\":\"1496\"}},\"id\":\"1468\",\"type\":\"ColumnDataSource\"},{\"attributes\":{},\"id\":\"1449\",\"type\":\"HelpTool\"},{\"attributes\":{\"formatter\":{\"id\":\"1491\"},\"ticker\":{\"id\":\"1441\"}},\"id\":\"1440\",\"type\":\"LinearAxis\"},{\"attributes\":{\"overlay\":{\"id\":\"1450\"}},\"id\":\"1446\",\"type\":\"BoxZoomTool\"},{\"attributes\":{\"axis\":{\"id\":\"1440\"},\"dimension\":1,\"ticker\":null},\"id\":\"1443\",\"type\":\"Grid\"},{\"attributes\":{\"data_source\":{\"id\":\"1458\"},\"glyph\":{\"id\":\"1459\"},\"hover_glyph\":null,\"muted_glyph\":null,\"nonselection_glyph\":{\"id\":\"1460\"},\"selection_glyph\":null,\"view\":{\"id\":\"1462\"}},\"id\":\"1461\",\"type\":\"GlyphRenderer\"},{\"attributes\":{\"source\":{\"id\":\"1463\"}},\"id\":\"1467\",\"type\":\"CDSView\"},{\"attributes\":{\"end\":40,\"start\":15},\"id\":\"1430\",\"type\":\"Range1d\"},{\"attributes\":{},\"id\":\"1444\",\"type\":\"PanTool\"},{\"attributes\":{},\"id\":\"1447\",\"type\":\"SaveTool\"},{\"attributes\":{},\"id\":\"1448\",\"type\":\"ResetTool\"},{\"attributes\":{\"axis\":{\"id\":\"1436\"},\"ticker\":null},\"id\":\"1439\",\"type\":\"Grid\"},{\"attributes\":{\"data_source\":{\"id\":\"1463\"},\"glyph\":{\"id\":\"1464\"},\"hover_glyph\":null,\"muted_glyph\":null,\"nonselection_glyph\":{\"id\":\"1465\"},\"selection_glyph\":null,\"view\":{\"id\":\"1467\"}},\"id\":\"1466\",\"type\":\"GlyphRenderer\"},{\"attributes\":{\"data\":{\"x\":[0,1,2,3,4,5,6,7,8,9,10,11,12,13,14,15,16,17,18,19,20,21,22,23,24,25,26,27,28,29],\"y\":{\"__ndarray__\":\"RxM/3JWYOUBydlw6wdU5QPL22Eam/TlAE++3PYq7O0Cmr+UuQTY6QPr88wHqzzpAWR3K3xnCOkDNq0cHpYk6QNuwjzFMsjtAs2UNInooPUAuaIXUg0s8QGsi74CgUT1ATlrv34IZPEDHaQWfQc09QLIkiI62dD1AEwwWCN1+PUDwiYcQRxU8QHqy/kBsODxAHAlvUtO6O0BP9ulfam48QMTgFCyJjD1AN8CuNU0cPUC+wIJIRFk9QLAvlIYUBz5AWRqVqC99PUDuG4Q9M0g9QPCitXeQ1zxAs8wccaNEPEC8U8C1SJM8QBjlSmiHEj1A\",\"dtype\":\"float64\",\"shape\":[30]}},\"selected\":{\"id\":\"1493\"},\"selection_policy\":{\"id\":\"1492\"}},\"id\":\"1458\",\"type\":\"ColumnDataSource\"},{\"attributes\":{\"line_alpha\":0.3,\"line_color\":\"#1f77b4\",\"line_width\":2,\"x\":{\"field\":\"x\"},\"y\":{\"field\":\"y\"}},\"id\":\"1469\",\"type\":\"Line\"},{\"attributes\":{},\"id\":\"1489\",\"type\":\"BasicTickFormatter\"},{\"attributes\":{\"line_alpha\":0.1,\"line_color\":\"#1f77b4\",\"line_width\":2,\"x\":{\"field\":\"x\"},\"y\":{\"field\":\"y\"}},\"id\":\"1460\",\"type\":\"Line\"},{\"attributes\":{\"line_alpha\":0.1,\"line_color\":\"#1f77b4\",\"line_width\":2,\"x\":{\"field\":\"x\"},\"y\":{\"field\":\"y\"}},\"id\":\"1465\",\"type\":\"Line\"},{\"attributes\":{},\"id\":\"1496\",\"type\":\"UnionRenderers\"},{\"attributes\":{\"bottom_units\":\"screen\",\"fill_alpha\":0.5,\"fill_color\":\"lightgrey\",\"left_units\":\"screen\",\"level\":\"overlay\",\"line_alpha\":1.0,\"line_color\":\"black\",\"line_dash\":[4,4],\"line_width\":2,\"render_mode\":\"css\",\"right_units\":\"screen\",\"top_units\":\"screen\"},\"id\":\"1450\",\"type\":\"BoxAnnotation\"},{\"attributes\":{},\"id\":\"1428\",\"type\":\"DataRange1d\"},{\"attributes\":{},\"id\":\"1491\",\"type\":\"BasicTickFormatter\"},{\"attributes\":{},\"id\":\"1434\",\"type\":\"LinearScale\"},{\"attributes\":{\"active_drag\":\"auto\",\"active_inspect\":\"auto\",\"active_multi\":null,\"active_scroll\":\"auto\",\"active_tap\":\"auto\",\"tools\":[{\"id\":\"1444\"},{\"id\":\"1445\"},{\"id\":\"1446\"},{\"id\":\"1447\"},{\"id\":\"1448\"},{\"id\":\"1449\"}]},\"id\":\"1451\",\"type\":\"Toolbar\"},{\"attributes\":{},\"id\":\"1492\",\"type\":\"UnionRenderers\"},{\"attributes\":{\"line_alpha\":0.3,\"line_color\":\"#1f77b4\",\"line_width\":2,\"x\":{\"field\":\"x\"},\"y\":{\"field\":\"y\"}},\"id\":\"1459\",\"type\":\"Line\"},{\"attributes\":{},\"id\":\"1493\",\"type\":\"Selection\"},{\"attributes\":{\"source\":{\"id\":\"1458\"}},\"id\":\"1462\",\"type\":\"CDSView\"},{\"attributes\":{},\"id\":\"1437\",\"type\":\"BasicTicker\"},{\"attributes\":{},\"id\":\"1495\",\"type\":\"Selection\"},{\"attributes\":{},\"id\":\"1497\",\"type\":\"Selection\"},{\"attributes\":{\"formatter\":{\"id\":\"1489\"},\"ticker\":{\"id\":\"1437\"}},\"id\":\"1436\",\"type\":\"LinearAxis\"},{\"attributes\":{\"text\":\"\"},\"id\":\"1487\",\"type\":\"Title\"},{\"attributes\":{\"data_source\":{\"id\":\"1468\"},\"glyph\":{\"id\":\"1469\"},\"hover_glyph\":null,\"muted_glyph\":null,\"nonselection_glyph\":{\"id\":\"1470\"},\"selection_glyph\":null,\"view\":{\"id\":\"1472\"}},\"id\":\"1471\",\"type\":\"GlyphRenderer\"},{\"attributes\":{\"data\":{\"x\":[0,1,2,3,4,5,6,7,8,9,10,11,12,13,14,15,16,17,18,19,20,21,22,23,24,25,26,27,28,29],\"y\":{\"__ndarray__\":\"xPVKxCFhNkDfQs69aq42QATYgcegYjdA1DwX5vXVN0BcNNDOwGM4QF6ltBzmLjhAhmMGW8SUOEB1dHDIDJg2QFY3Xz+TETlAH1bc9UbzOkBsFQZyOuE5QCCQeBFqETpA/5PdGs2MOUBlk4JKTms6QALVZ0vthjpADkVHb52RO0CY+6YJvm45QEhaL5/kDTlAmUq9kihcOUCGt2c9B305QAbN+GRaXjlAxHlvnphrOkB2U+cYdUA6QMBTU0sc0jlAzEk/4ThkO0B5O78Ppww6QMyVS1KkAzpA5E6Nsc+kOUCGwIJ9Cns6QPtGkwBQBDpA\",\"dtype\":\"float64\",\"shape\":[30]}},\"selected\":{\"id\":\"1495\"},\"selection_policy\":{\"id\":\"1494\"}},\"id\":\"1463\",\"type\":\"ColumnDataSource\"},{\"attributes\":{},\"id\":\"1445\",\"type\":\"WheelZoomTool\"},{\"attributes\":{\"line_color\":\"#1f77b4\",\"line_width\":2,\"x\":{\"field\":\"x\"},\"y\":{\"field\":\"y\"}},\"id\":\"1464\",\"type\":\"Line\"},{\"attributes\":{\"source\":{\"id\":\"1468\"}},\"id\":\"1472\",\"type\":\"CDSView\"},{\"attributes\":{},\"id\":\"1494\",\"type\":\"UnionRenderers\"},{\"attributes\":{},\"id\":\"1432\",\"type\":\"LinearScale\"}],\"root_ids\":[\"1427\"]},\"title\":\"Bokeh Application\",\"version\":\"2.0.1\"}};\n",
       "  var render_items = [{\"docid\":\"cd435ca4-5f65-4260-8785-938bdd0fc47d\",\"root_ids\":[\"1427\"],\"roots\":{\"1427\":\"e21f05d9-4299-4cad-98f4-495fb7130eaa\"}}];\n",
       "  root.Bokeh.embed.embed_items_notebook(docs_json, render_items);\n",
       "\n",
       "  }\n",
       "  if (root.Bokeh !== undefined) {\n",
       "    embed_document(root);\n",
       "  } else {\n",
       "    var attempts = 0;\n",
       "    var timer = setInterval(function(root) {\n",
       "      if (root.Bokeh !== undefined) {\n",
       "        clearInterval(timer);\n",
       "        embed_document(root);\n",
       "      } else {\n",
       "        attempts++;\n",
       "        if (attempts > 100) {\n",
       "          clearInterval(timer);\n",
       "          console.log(\"Bokeh: ERROR: Unable to run BokehJS code because BokehJS library is missing\");\n",
       "        }\n",
       "      }\n",
       "    }, 10, root)\n",
       "  }\n",
       "})(window);"
      ],
      "application/vnd.bokehjs_exec.v0+json": ""
     },
     "metadata": {
      "application/vnd.bokehjs_exec.v0+json": {
       "id": "1427"
      }
     },
     "output_type": "display_data"
    },
    {
     "name": "stdout",
     "output_type": "stream",
     "text": [
      "\n",
      "class Script_3be2859ec419469e814da3ab69bdb68f(Script):\n",
      "    def choose_move(self, battle: Battle):\n",
      "    \n",
      "        available_moves = battle.available_moves\n",
      "        if not available_moves:\n",
      "            return random.choice(battle.available_switches)\n",
      "            \n",
      "        dsl = DSL(battle)\n",
      "        move_scores = []\n",
      "        for move in battle.available_moves:\n",
      "            score = 0\n",
      "            if (((dsl.opponent_battle_stat_modifier('def') <= 1) or (dsl.player_base_stat('def') >= 53))):\n",
      "                score += 4\n",
      "            if ((dsl.gets_stab(move) or dsl.check_move_rainy(move))):\n",
      "                score += 3\n",
      "            move_scores.append(score)\n",
      "            \n",
      "        best_move = available_moves[move_scores.index(max(move_scores))]\n",
      "        return best_move\n",
      "\n",
      "\n",
      "class Script_9a6eadeeaa1544e182727c593fbf95a3(Script):\n",
      "    def choose_move(self, battle: Battle):\n",
      "    \n",
      "        available_moves = battle.available_moves\n",
      "        if not available_moves:\n",
      "            return random.choice(battle.available_switches)\n",
      "            \n",
      "        dsl = DSL(battle)\n",
      "        move_scores = []\n",
      "        for move in battle.available_moves:\n",
      "            score = 0\n",
      "            if ((dsl.move_is_status(move) and (dsl.opponent_base_stat('spa') <= 188))):\n",
      "                score += -5\n",
      "            if (((dsl.player_base_stat('atk') <= 112) or (dsl.player_battle_stat_modifier('evasion') >= 1))):\n",
      "                if ((dsl.move_accuracy(move) >= 40)):\n",
      "                    score += -2\n",
      "                if ((dsl.gets_stab(move) or dsl.check_move_rainy(move))):\n",
      "                    score += 3\n",
      "            move_scores.append(score)\n",
      "            \n",
      "        best_move = available_moves[move_scores.index(max(move_scores))]\n",
      "        return best_move\n",
      "\n",
      "\n",
      "class Script_70aa4ae497e541769f5149c7d401b0e2(Script):\n",
      "    def choose_move(self, battle: Battle):\n",
      "    \n",
      "        available_moves = battle.available_moves\n",
      "        if not available_moves:\n",
      "            return random.choice(battle.available_switches)\n",
      "            \n",
      "        dsl = DSL(battle)\n",
      "        move_scores = []\n",
      "        for move in battle.available_moves:\n",
      "            score = 0\n",
      "            if ((dsl.check_move_inflicts_status_condition(move, None) or (dsl.move_accuracy(move) >= 90))):\n",
      "                if (dsl.gets_stab(move)):\n",
      "                    score += 7\n",
      "                if ((dsl.move_is_physical(move) or (dsl.player_battle_stat_modifier('spa') <= -1))):\n",
      "                    score += 4\n",
      "            if ((dsl.check_move_inflicts_status_condition(move, Status.PAR) and dsl.check_move_sds_if_hits_opp(move))):\n",
      "                score += 6\n",
      "            if (dsl.opp_has_status_effect(Status.FNT)):\n",
      "                score += -3\n",
      "            if (dsl.move_is_special(move)):\n",
      "                if (((dsl.player_health_percent() >= 40) or (dsl.opponent_base_stat('atk') <= 228))):\n",
      "                    score += 7\n",
      "                if ((dsl.gets_stab(move) or dsl.move_is_special(move))):\n",
      "                    score += 3\n",
      "            move_scores.append(score)\n",
      "            \n",
      "        best_move = available_moves[move_scores.index(max(move_scores))]\n",
      "        return best_move\n",
      "\n"
     ]
    }
   ],
   "source": [
    "from bokeh.plotting import figure, output_file, show, reset_output, output_notebook\n",
    "\n",
    "reset_output()\n",
    "output_notebook()\n",
    "\n",
    "for num_elites, population_cap, num_games in parameter_sets:\n",
    "    fname = get_fname(num_elites, tournament_size, population_cap, epochs, num_games, 'stats')\n",
    "    print(fname)\n",
    "    \n",
    "    xs, ys_high, ys_median, ys_low = load_stats(fname)\n",
    "    p = figure(plot_width=800, plot_height=400, y_range=(15, 40))\n",
    "    p.line(xs, ys_high, line_width=2, alpha=0.3)\n",
    "    p.line(xs, ys_median, line_width=2)\n",
    "    p.line(xs, ys_low, line_width=2, alpha=0.3)\n",
    "\n",
    "    show(p)\n",
    "    \n",
    "    best_scripts = load_population(fname)\n",
    "    for script in best_scripts[:3]:\n",
    "        print(script.raw_script)"
   ]
  },
  {
   "cell_type": "code",
   "execution_count": null,
   "metadata": {},
   "outputs": [],
   "source": []
  }
 ],
 "metadata": {
  "hide_input": false,
  "kernelspec": {
   "display_name": "cmput_659_final",
   "language": "python",
   "name": "cmput_659_final"
  },
  "language_info": {
   "codemirror_mode": {
    "name": "ipython",
    "version": 3
   },
   "file_extension": ".py",
   "mimetype": "text/x-python",
   "name": "python",
   "nbconvert_exporter": "python",
   "pygments_lexer": "ipython3",
   "version": "3.7.5"
  },
  "pycharm": {
   "stem_cell": {
    "cell_type": "raw",
    "metadata": {
     "collapsed": false
    },
    "source": []
   }
  },
  "toc": {
   "base_numbering": 1,
   "nav_menu": {},
   "number_sections": true,
   "sideBar": true,
   "skip_h1_title": false,
   "title_cell": "Table of Contents",
   "title_sidebar": "Contents",
   "toc_cell": false,
   "toc_position": {},
   "toc_section_display": true,
   "toc_window_display": false
  }
 },
 "nbformat": 4,
 "nbformat_minor": 2
}
