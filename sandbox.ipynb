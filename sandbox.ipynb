{
 "cells": [
  {
   "cell_type": "code",
   "execution_count": 1,
   "metadata": {
    "ExecuteTime": {
     "end_time": "2020-04-14T17:00:00.704868Z",
     "start_time": "2020-04-14T17:00:00.043439Z"
    },
    "scrolled": true
   },
   "outputs": [
    {
     "name": "stdout",
     "output_type": "stream",
     "text": [
      "[None, ['dsl.is_hyper_effective', 'move'], ['dsl.is_not_ineffective', 'move'], ['dsl.is_opponent_primarily_attack_and_is_not_burnt_and_move_is_burning_and_opp_not_afflicted', 'move'], ['dsl.is_physical_attacker_and_move_physical', 'move'], ['dsl.is_raining_and_move_is_not_fire', 'move'], ['dsl.is_raining_and_move_is_water', 'move'], ['dsl.is_special_attacker_and_move_special', 'move'], ['dsl.is_sunny_and_move_is_fire', 'move'], ['dsl.is_sunny_and_move_is_not_water', 'move'], ['dsl.is_super_effective', 'move']]\n"
     ]
    }
   ],
   "source": [
    "from src.core import *\n",
    "from src import DSL\n",
    "import inspect\n",
    "import typing\n",
    "\n",
    "import asyncio\n",
    "\n",
    "from poke_env.player.random_player import RandomPlayer\n",
    "from poke_env.player.utils import cross_evaluate\n",
    "from poke_env.player_configuration import PlayerConfiguration\n",
    "from poke_env.server_configuration import LocalhostServerConfiguration\n",
    "from poke_env.utils import to_id_str\n",
    "from tabulate import tabulate\n",
    "\n",
    "import trueskill\n",
    "import copy\n",
    "from trueskill import Rating, rate_1vs1, quality_1vs1\n",
    "from tqdm.notebook import tqdm\n",
    "import itertools\n",
    "import numpy as np\n",
    "import pandas as pd\n",
    "from pprint import pprint\n",
    "\n",
    "\n",
    "import logging\n",
    "# from aiologger.handlers.files import AsyncFileHandler\n",
    "# from aiologger.handlers.files import AsyncFileHandler\n",
    "from tempfile import NamedTemporaryFile\n",
    "\n",
    "from pathlib import Path\n",
    "import pickle\n",
    "import dill\n",
    "import gc\n",
    "import math\n",
    "import datetime"
   ]
  },
  {
   "cell_type": "code",
   "execution_count": 2,
   "metadata": {
    "ExecuteTime": {
     "end_time": "2020-04-14T17:00:00.712424Z",
     "start_time": "2020-04-14T17:00:00.707043Z"
    }
   },
   "outputs": [],
   "source": [
    "class PlayerWrapper(Player):\n",
    "    def __init__(self, *args, **kwargs):\n",
    "        super().__init__(\n",
    "            player_configuration=PlayerConfiguration(get_node_id(), None),\n",
    "            battle_format=\"gen7randombattle\",\n",
    "            server_configuration=LocalhostServerConfiguration,\n",
    "            max_concurrent_battles=100000000,\n",
    "        )\n",
    "        self.script = None\n",
    "        \n",
    "#         self.log_file = NamedTemporaryFile()\n",
    "#         self.patch_logger()\n",
    "    \n",
    "#     def patch_logger(self):\n",
    "#         self.logger.removeHandler(self.logger.handlers[0])\n",
    "#         self.logger.addHandler(logging.FileHandler(self.log_file.name))\n",
    "#         self.logger.\n",
    "        \n",
    "    def choose_move(self, battle):\n",
    "        try:\n",
    "            move = self.script.choose_move(battle)\n",
    "            return self.create_order(move)\n",
    "        except Exception as e:\n",
    "            print(e)\n",
    "            return self.choose_random_move(battle)"
   ]
  },
  {
   "cell_type": "code",
   "execution_count": 3,
   "metadata": {
    "ExecuteTime": {
     "end_time": "2020-04-14T17:00:03.252282Z",
     "start_time": "2020-04-14T17:00:03.208048Z"
    }
   },
   "outputs": [],
   "source": [
    "chunk_size = 512\n",
    "shared_players = [PlayerWrapper() for _ in range(chunk_size)]\n",
    "player_lookup = {player.username: player for player in shared_players}"
   ]
  },
  {
   "cell_type": "code",
   "execution_count": 4,
   "metadata": {
    "ExecuteTime": {
     "end_time": "2020-04-14T17:00:04.094033Z",
     "start_time": "2020-04-14T17:00:04.076009Z"
    }
   },
   "outputs": [],
   "source": [
    "async def evaluate_population(population, num_games, verbose=True):\n",
    "    for script in population:\n",
    "        script.rating = Rating()\n",
    "    \n",
    "    num_players = min(chunk_size, len(population))\n",
    "    players = shared_players[:num_players]\n",
    "    num_chunks = int(math.ceil(len(population) / chunk_size))\n",
    "    chunks = [population[i * chunk_size : (i + 1) * chunk_size] for i in range(num_chunks)]\n",
    "    \n",
    "    for chunk_idx, population in enumerate(chunks):\n",
    "        if num_chunks > 1:\n",
    "            print(f\"chunk {chunk_idx + 1} / {num_chunks}\")\n",
    "        \n",
    "        for i, script in enumerate(population):\n",
    "            players[i].script = script\n",
    "        \n",
    "        for _ in tqdm(range(num_games), disable=not verbose):\n",
    "            random.shuffle(players)\n",
    "            awaitables = []\n",
    "            for p1, p2 in zip(players[0::2], players[1::2]):\n",
    "                send = p1.send_challenges(\n",
    "                    opponent=to_id_str(p2.username),\n",
    "                    n_challenges=1,\n",
    "                    to_wait=p2.logged_in,\n",
    "                )\n",
    "                accept = p2.accept_challenges(\n",
    "                    opponent=to_id_str(p1.username),\n",
    "                    n_challenges=1,\n",
    "                )\n",
    "                awaitables.append(send)\n",
    "                awaitables.append(accept)\n",
    "            try:\n",
    "                await asyncio.gather(*awaitables)\n",
    "            except Exception as e:\n",
    "                print(e)\n",
    "                battles = sum((list(player.battles.values()) for player in players), [])\n",
    "                return battles\n",
    "\n",
    "        battles = sum((list(player.battles.values()) for player in players), [])\n",
    "        for battle in battles:\n",
    "            player = player_lookup[battle.player_username]\n",
    "            oppo = player_lookup[battle._opponent_username]\n",
    "\n",
    "            if battle.won:\n",
    "                winner, loser = player, oppo\n",
    "            else:\n",
    "                winner, loser = oppo, player\n",
    "            winner.script.rating, loser.script.rating = rate_1vs1(winner.script.rating, loser.script.rating)\n",
    "        \n",
    "        for player in players:\n",
    "            player.reset_battles()\n",
    "\n",
    "    del players\n",
    "    gc.collect()"
   ]
  },
  {
   "cell_type": "code",
   "execution_count": 5,
   "metadata": {
    "ExecuteTime": {
     "end_time": "2020-04-14T17:00:04.790421Z",
     "start_time": "2020-04-14T17:00:04.787151Z"
    }
   },
   "outputs": [],
   "source": [
    "def sort_population(population):\n",
    "    return sorted(population, key=lambda p: p.rating.mu, reverse=True)\n",
    "\n",
    "# def sort_population(population):\n",
    "#     return sorted(population, key=lambda p: p.n_won_battles, reverse=True)"
   ]
  },
  {
   "cell_type": "code",
   "execution_count": 6,
   "metadata": {
    "ExecuteTime": {
     "end_time": "2020-04-14T17:00:05.345468Z",
     "start_time": "2020-04-14T17:00:05.342807Z"
    }
   },
   "outputs": [],
   "source": [
    "def get_elites(population, num_elites):\n",
    "    return sort_population(population)[:num_elites]"
   ]
  },
  {
   "cell_type": "code",
   "execution_count": 7,
   "metadata": {
    "ExecuteTime": {
     "end_time": "2020-04-14T17:00:05.632566Z",
     "start_time": "2020-04-14T17:00:05.629433Z"
    }
   },
   "outputs": [],
   "source": [
    "def get_tournament_elites(population, tournament_size, num_elites):\n",
    "    tournament = random.sample(population, tournament_size)\n",
    "    return get_elites(tournament, num_elites)"
   ]
  },
  {
   "cell_type": "code",
   "execution_count": 8,
   "metadata": {
    "ExecuteTime": {
     "end_time": "2020-04-14T17:00:05.880887Z",
     "start_time": "2020-04-14T17:00:05.876638Z"
    }
   },
   "outputs": [],
   "source": [
    "def mutate(tree, filter_=None):\n",
    "    if not filter_:\n",
    "        filter_ = lambda x: type(x) is not str\n",
    "    tree = copy.deepcopy(tree)\n",
    "    candidates = anytree.search.findall(tree, filter_=filter_)\n",
    "    if candidates:\n",
    "        target = random.choice(candidates)\n",
    "        target.children = []\n",
    "        generate_tree(target)\n",
    "    return tree"
   ]
  },
  {
   "cell_type": "code",
   "execution_count": 9,
   "metadata": {
    "ExecuteTime": {
     "end_time": "2020-04-14T17:00:06.379506Z",
     "start_time": "2020-04-14T17:00:06.371703Z"
    }
   },
   "outputs": [],
   "source": [
    "def crossover(left, right):\n",
    "    def _is_valid_subtree_head(node):\n",
    "#         return node.name in [RULE.IF_BLOCK]\n",
    "        return True\n",
    "\n",
    "    def _find_head_types(root):\n",
    "        return [node.name for node in anytree.search.findall(root, filter_=_is_valid_subtree_head)]\n",
    "\n",
    "    def _select_type_node(root, type_):\n",
    "        candidates = anytree.search.findall(root, filter_=lambda node: node.name == type_)\n",
    "        return random.choice(candidates)\n",
    "    \n",
    "    def _swap_children(left, right):\n",
    "        left.children, right.children = right.children, left.children\n",
    "        \n",
    "    left = copy.deepcopy(left)\n",
    "    right = copy.deepcopy(right)\n",
    "\n",
    "    left_head_types = _find_head_types(left)\n",
    "    right_head_types = _find_head_types(right)\n",
    "\n",
    "    type_intersection = list(set(left_head_types) & set(right_head_types))\n",
    "    if type_intersection:\n",
    "        type_to_swap = random.choice(type_intersection)\n",
    "        left_head = _select_type_node(left, type_to_swap)\n",
    "        right_head = _select_type_node(right, type_to_swap)\n",
    "        _swap_children(left_head, right_head)\n",
    "    return left, right"
   ]
  },
  {
   "cell_type": "code",
   "execution_count": 10,
   "metadata": {
    "ExecuteTime": {
     "end_time": "2020-04-14T17:00:06.894353Z",
     "start_time": "2020-04-14T17:00:06.891320Z"
    }
   },
   "outputs": [],
   "source": [
    "def get_random_population(population_size):\n",
    "    return [exec_tree(get_random_tree()) for _ in range(population_size)]"
   ]
  },
  {
   "cell_type": "code",
   "execution_count": 11,
   "metadata": {
    "ExecuteTime": {
     "end_time": "2020-04-14T17:00:07.288100Z",
     "start_time": "2020-04-14T17:00:07.285964Z"
    }
   },
   "outputs": [],
   "source": [
    "# def get_population_stats(population):\n",
    "#     ratings = pd.Series([player.rating.mu for player in population])\n",
    "#     return ratings.describe()"
   ]
  },
  {
   "cell_type": "code",
   "execution_count": 12,
   "metadata": {
    "ExecuteTime": {
     "end_time": "2020-04-14T17:00:07.652698Z",
     "start_time": "2020-04-14T17:00:07.646194Z"
    }
   },
   "outputs": [],
   "source": [
    "def save_population(population, fname):\n",
    "    path = Path('temp_scripts').joinpath(fname)\n",
    "    with open(path, 'wb') as f:\n",
    "        dill.dump([player.tree for player in population], f)\n",
    "            \n",
    "def load_population(fname):\n",
    "    path = Path('temp_scripts').joinpath(fname)\n",
    "    with open(path, 'rb') as f:\n",
    "        return [exec_tree(tree) for tree in dill.load(f)]"
   ]
  },
  {
   "cell_type": "code",
   "execution_count": 13,
   "metadata": {
    "ExecuteTime": {
     "end_time": "2020-04-14T17:00:07.879916Z",
     "start_time": "2020-04-14T17:00:07.875476Z"
    }
   },
   "outputs": [],
   "source": [
    "def save_stats(stats, fname):\n",
    "    path = Path('temp_stats').joinpath(fname)\n",
    "    with open(path, 'wb') as f:\n",
    "        dill.dump(stats, f)\n",
    "            \n",
    "def load_stats(fname):\n",
    "    path = Path('temp_stats').joinpath(fname)\n",
    "    with open(path, 'rb') as f:\n",
    "        return dill.load(f)"
   ]
  },
  {
   "cell_type": "markdown",
   "metadata": {},
   "source": [
    "# Evolve"
   ]
  },
  {
   "cell_type": "code",
   "execution_count": 14,
   "metadata": {
    "ExecuteTime": {
     "end_time": "2020-04-14T17:00:08.871022Z",
     "start_time": "2020-04-14T17:00:08.868129Z"
    }
   },
   "outputs": [],
   "source": [
    "def get_fname(\n",
    "    num_elites,\n",
    "    tournament_size,\n",
    "    population_cap,\n",
    "    epochs,\n",
    "    num_games,\n",
    "    index\n",
    "):\n",
    "    return f\"e_{num_elites}_t_{tournament_size}_k_{population_cap}_g_{epochs}_n_{num_games}_{index}.dill\""
   ]
  },
  {
   "cell_type": "code",
   "execution_count": 15,
   "metadata": {
    "ExecuteTime": {
     "end_time": "2020-04-14T17:00:09.874040Z",
     "start_time": "2020-04-14T17:00:09.866867Z"
    }
   },
   "outputs": [],
   "source": [
    "async def run(\n",
    "    num_elites,\n",
    "    tournament_size,\n",
    "    population_cap,\n",
    "    epochs,\n",
    "    num_games\n",
    "):\n",
    "    population = get_random_population(population_size=population_cap)\n",
    "    generations = []\n",
    "    for i in tqdm(range(epochs)):\n",
    "        fname = get_fname(num_elites, tournament_size, population_cap, epochs, num_games, i)\n",
    "        save_population(population, fname)\n",
    "        await evaluate_population(population, num_games=num_games, verbose=False)\n",
    "    #     assign_trueskill(population)\n",
    "        generations.append([copy.deepcopy(script) for script in population])\n",
    "        population = sort_population(population)\n",
    "        next_population = []\n",
    "        next_population.extend(get_elites(population, num_elites))\n",
    "        while len(next_population) < population_cap:\n",
    "            left, right = get_tournament_elites(population, tournament_size, 2)\n",
    "            children = crossover(left.tree, right.tree)\n",
    "            for child_tree in children:\n",
    "                child_tree = mutate(child_tree)\n",
    "                next_population.append(exec_tree(child_tree))\n",
    "        population = next_population[:population_cap]\n",
    "        gc.collect()"
   ]
  },
  {
   "cell_type": "code",
   "execution_count": 16,
   "metadata": {
    "ExecuteTime": {
     "end_time": "2020-04-14T17:00:39.746647Z",
     "start_time": "2020-04-14T17:00:39.743373Z"
    }
   },
   "outputs": [],
   "source": [
    "epochs = 50\n",
    "tournament_size = 5\n",
    "\n",
    "parameter_sets = [\n",
    "#     (4, 32, 5),\n",
    "    (2, 48, 5),\n",
    "    (4, 48, 5),\n",
    "#     (4, 24, 5),\n",
    "#     (4, 48, 5),\n",
    "#     (4, 60, 5),\n",
    "#     (4, 32, 10),\n",
    "#     (4, 32, 15),\n",
    "]"
   ]
  },
  {
   "cell_type": "code",
   "execution_count": null,
   "metadata": {
    "ExecuteTime": {
     "start_time": "2020-04-14T17:00:47.921Z"
    }
   },
   "outputs": [
    {
     "data": {
      "application/vnd.jupyter.widget-view+json": {
       "model_id": "ba4de8523cfe4c8799bd970c3d516d6e",
       "version_major": 2,
       "version_minor": 0
      },
      "text/plain": [
       "HBox(children=(FloatProgress(value=0.0, max=50.0), HTML(value='')))"
      ]
     },
     "metadata": {},
     "output_type": "display_data"
    },
    {
     "name": "stdout",
     "output_type": "stream",
     "text": [
      "'int' object has no attribute 'damage_multiplier'\n",
      "'int' object has no attribute 'damage_multiplier'\n",
      "'int' object has no attribute 'damage_multiplier'\n",
      "'int' object has no attribute 'damage_multiplier'\n"
     ]
    }
   ],
   "source": [
    "for num_elites, population_cap, num_games in parameter_sets:\n",
    "    await run(\n",
    "        num_elites,\n",
    "        tournament_size,\n",
    "        population_cap,\n",
    "        epochs,\n",
    "        num_games\n",
    "    )"
   ]
  },
  {
   "cell_type": "markdown",
   "metadata": {},
   "source": [
    "# Evaluate"
   ]
  },
  {
   "cell_type": "code",
   "execution_count": 22,
   "metadata": {
    "ExecuteTime": {
     "end_time": "2020-04-14T16:53:58.051506Z",
     "start_time": "2020-04-14T16:40:11.403094Z"
    }
   },
   "outputs": [
    {
     "name": "stdout",
     "output_type": "stream",
     "text": [
      "1600\n",
      "chunk 1 / 4\n"
     ]
    },
    {
     "data": {
      "application/vnd.jupyter.widget-view+json": {
       "model_id": "c5a36eeef45d4ccabfb2c68f377f88b9",
       "version_major": 2,
       "version_minor": 0
      },
      "text/plain": [
       "HBox(children=(FloatProgress(value=0.0, max=5.0), HTML(value='')))"
      ]
     },
     "metadata": {},
     "output_type": "display_data"
    },
    {
     "name": "stdout",
     "output_type": "stream",
     "text": [
      "'int' object has no attribute 'damage_multiplier'\n",
      "'int' object has no attribute 'damage_multiplier'\n",
      "\n",
      "chunk 2 / 4\n"
     ]
    },
    {
     "data": {
      "application/vnd.jupyter.widget-view+json": {
       "model_id": "bb75f1d43433431badaf4a0d87e4b361",
       "version_major": 2,
       "version_minor": 0
      },
      "text/plain": [
       "HBox(children=(FloatProgress(value=0.0, max=5.0), HTML(value='')))"
      ]
     },
     "metadata": {},
     "output_type": "display_data"
    },
    {
     "name": "stdout",
     "output_type": "stream",
     "text": [
      "'int' object has no attribute 'damage_multiplier'\n",
      "\n",
      "chunk 3 / 4\n"
     ]
    },
    {
     "data": {
      "application/vnd.jupyter.widget-view+json": {
       "model_id": "ad5f813211e247c8a9a257de0d00f72b",
       "version_major": 2,
       "version_minor": 0
      },
      "text/plain": [
       "HBox(children=(FloatProgress(value=0.0, max=5.0), HTML(value='')))"
      ]
     },
     "metadata": {},
     "output_type": "display_data"
    },
    {
     "name": "stdout",
     "output_type": "stream",
     "text": [
      "\n",
      "chunk 4 / 4\n"
     ]
    },
    {
     "data": {
      "application/vnd.jupyter.widget-view+json": {
       "model_id": "e6eda7bb3ee4483ba85d8baee2aaa7a2",
       "version_major": 2,
       "version_minor": 0
      },
      "text/plain": [
       "HBox(children=(FloatProgress(value=0.0, max=5.0), HTML(value='')))"
      ]
     },
     "metadata": {},
     "output_type": "display_data"
    },
    {
     "name": "stdout",
     "output_type": "stream",
     "text": [
      "'int' object has no attribute 'damage_multiplier'\n",
      "\n",
      "1600\n",
      "chunk 1 / 4\n"
     ]
    },
    {
     "data": {
      "application/vnd.jupyter.widget-view+json": {
       "model_id": "63856f9da3334c3fa6f17c4f3fef2661",
       "version_major": 2,
       "version_minor": 0
      },
      "text/plain": [
       "HBox(children=(FloatProgress(value=0.0, max=5.0), HTML(value='')))"
      ]
     },
     "metadata": {},
     "output_type": "display_data"
    },
    {
     "name": "stdout",
     "output_type": "stream",
     "text": [
      "\n",
      "chunk 2 / 4\n"
     ]
    },
    {
     "data": {
      "application/vnd.jupyter.widget-view+json": {
       "model_id": "10e88d514e2f42cea644d6838d7c7137",
       "version_major": 2,
       "version_minor": 0
      },
      "text/plain": [
       "HBox(children=(FloatProgress(value=0.0, max=5.0), HTML(value='')))"
      ]
     },
     "metadata": {},
     "output_type": "display_data"
    },
    {
     "name": "stdout",
     "output_type": "stream",
     "text": [
      "'int' object has no attribute 'damage_multiplier'\n",
      "'int' object has no attribute 'damage_multiplier'\n",
      "'int' object has no attribute 'damage_multiplier'\n",
      "'int' object has no attribute 'damage_multiplier'\n",
      "\n",
      "chunk 3 / 4\n"
     ]
    },
    {
     "data": {
      "application/vnd.jupyter.widget-view+json": {
       "model_id": "95ee0a59dad84bedbb7f27a0ca2334e0",
       "version_major": 2,
       "version_minor": 0
      },
      "text/plain": [
       "HBox(children=(FloatProgress(value=0.0, max=5.0), HTML(value='')))"
      ]
     },
     "metadata": {},
     "output_type": "display_data"
    },
    {
     "name": "stdout",
     "output_type": "stream",
     "text": [
      "\n",
      "chunk 4 / 4\n"
     ]
    },
    {
     "data": {
      "application/vnd.jupyter.widget-view+json": {
       "model_id": "ba04bef1a522463b9e8e7038326ea226",
       "version_major": 2,
       "version_minor": 0
      },
      "text/plain": [
       "HBox(children=(FloatProgress(value=0.0, max=5.0), HTML(value='')))"
      ]
     },
     "metadata": {},
     "output_type": "display_data"
    },
    {
     "name": "stdout",
     "output_type": "stream",
     "text": [
      "'int' object has no attribute 'damage_multiplier'\n",
      "'int' object has no attribute 'damage_multiplier'\n",
      "\n"
     ]
    }
   ],
   "source": [
    "for num_elites, population_cap, num_games in parameter_sets:\n",
    "    generations = []\n",
    "    for i in range(epochs):\n",
    "        fname = get_fname(num_elites, tournament_size, population_cap, epochs, num_games, i)\n",
    "        generations.append(load_population(fname))\n",
    "    all_scripts = sum(generations, [])\n",
    "    print(len(all_scripts))\n",
    "    await evaluate_population(all_scripts, num_games=5, verbose=True)\n",
    "\n",
    "    script_to_gen = {}\n",
    "    for i, gen in enumerate(generations):\n",
    "        for script in gen:\n",
    "            script_to_gen[script] = i\n",
    "\n",
    "    gen_ratings = [[] for _ in range(len(generations))]\n",
    "    for script in all_scripts:\n",
    "        gen_idx = script_to_gen[script]\n",
    "        gen_ratings[gen_idx].append(script.rating.mu)\n",
    "    gen_ratings = np.asarray(gen_ratings)\n",
    "    \n",
    "    best_scripts = sort_population(all_scripts)[:10]\n",
    "\n",
    "    xs = np.arange(len(gen_ratings))\n",
    "    ys_high = np.percentile(gen_ratings, 75, axis=-1)\n",
    "    ys_median = np.median(gen_ratings, axis=-1)\n",
    "    ys_low = np.percentile(gen_ratings, 25, axis=-1)\n",
    "    stats = (xs, ys_high, ys_median, ys_low)\n",
    "    \n",
    "    fname = get_fname(num_elites, tournament_size, population_cap, epochs, num_games, 'stats')\n",
    "    \n",
    "    save_stats(stats, fname)\n",
    "    save_population(best_scripts, fname)"
   ]
  },
  {
   "cell_type": "code",
   "execution_count": 23,
   "metadata": {
    "ExecuteTime": {
     "end_time": "2020-04-14T16:57:16.732812Z",
     "start_time": "2020-04-14T16:57:16.325540Z"
    },
    "scrolled": false
   },
   "outputs": [
    {
     "data": {
      "text/html": [
       "\n",
       "    <div class=\"bk-root\">\n",
       "        <a href=\"https://bokeh.org\" target=\"_blank\" class=\"bk-logo bk-logo-small bk-logo-notebook\"></a>\n",
       "        <span id=\"1001\">Loading BokehJS ...</span>\n",
       "    </div>"
      ]
     },
     "metadata": {},
     "output_type": "display_data"
    },
    {
     "data": {
      "application/javascript": [
       "\n",
       "(function(root) {\n",
       "  function now() {\n",
       "    return new Date();\n",
       "  }\n",
       "\n",
       "  var force = true;\n",
       "\n",
       "  if (typeof root._bokeh_onload_callbacks === \"undefined\" || force === true) {\n",
       "    root._bokeh_onload_callbacks = [];\n",
       "    root._bokeh_is_loading = undefined;\n",
       "  }\n",
       "\n",
       "  var JS_MIME_TYPE = 'application/javascript';\n",
       "  var HTML_MIME_TYPE = 'text/html';\n",
       "  var EXEC_MIME_TYPE = 'application/vnd.bokehjs_exec.v0+json';\n",
       "  var CLASS_NAME = 'output_bokeh rendered_html';\n",
       "\n",
       "  /**\n",
       "   * Render data to the DOM node\n",
       "   */\n",
       "  function render(props, node) {\n",
       "    var script = document.createElement(\"script\");\n",
       "    node.appendChild(script);\n",
       "  }\n",
       "\n",
       "  /**\n",
       "   * Handle when an output is cleared or removed\n",
       "   */\n",
       "  function handleClearOutput(event, handle) {\n",
       "    var cell = handle.cell;\n",
       "\n",
       "    var id = cell.output_area._bokeh_element_id;\n",
       "    var server_id = cell.output_area._bokeh_server_id;\n",
       "    // Clean up Bokeh references\n",
       "    if (id != null && id in Bokeh.index) {\n",
       "      Bokeh.index[id].model.document.clear();\n",
       "      delete Bokeh.index[id];\n",
       "    }\n",
       "\n",
       "    if (server_id !== undefined) {\n",
       "      // Clean up Bokeh references\n",
       "      var cmd = \"from bokeh.io.state import curstate; print(curstate().uuid_to_server['\" + server_id + \"'].get_sessions()[0].document.roots[0]._id)\";\n",
       "      cell.notebook.kernel.execute(cmd, {\n",
       "        iopub: {\n",
       "          output: function(msg) {\n",
       "            var id = msg.content.text.trim();\n",
       "            if (id in Bokeh.index) {\n",
       "              Bokeh.index[id].model.document.clear();\n",
       "              delete Bokeh.index[id];\n",
       "            }\n",
       "          }\n",
       "        }\n",
       "      });\n",
       "      // Destroy server and session\n",
       "      var cmd = \"import bokeh.io.notebook as ion; ion.destroy_server('\" + server_id + \"')\";\n",
       "      cell.notebook.kernel.execute(cmd);\n",
       "    }\n",
       "  }\n",
       "\n",
       "  /**\n",
       "   * Handle when a new output is added\n",
       "   */\n",
       "  function handleAddOutput(event, handle) {\n",
       "    var output_area = handle.output_area;\n",
       "    var output = handle.output;\n",
       "\n",
       "    // limit handleAddOutput to display_data with EXEC_MIME_TYPE content only\n",
       "    if ((output.output_type != \"display_data\") || (!output.data.hasOwnProperty(EXEC_MIME_TYPE))) {\n",
       "      return\n",
       "    }\n",
       "\n",
       "    var toinsert = output_area.element.find(\".\" + CLASS_NAME.split(' ')[0]);\n",
       "\n",
       "    if (output.metadata[EXEC_MIME_TYPE][\"id\"] !== undefined) {\n",
       "      toinsert[toinsert.length - 1].firstChild.textContent = output.data[JS_MIME_TYPE];\n",
       "      // store reference to embed id on output_area\n",
       "      output_area._bokeh_element_id = output.metadata[EXEC_MIME_TYPE][\"id\"];\n",
       "    }\n",
       "    if (output.metadata[EXEC_MIME_TYPE][\"server_id\"] !== undefined) {\n",
       "      var bk_div = document.createElement(\"div\");\n",
       "      bk_div.innerHTML = output.data[HTML_MIME_TYPE];\n",
       "      var script_attrs = bk_div.children[0].attributes;\n",
       "      for (var i = 0; i < script_attrs.length; i++) {\n",
       "        toinsert[toinsert.length - 1].firstChild.setAttribute(script_attrs[i].name, script_attrs[i].value);\n",
       "        toinsert[toinsert.length - 1].firstChild.textContent = bk_div.children[0].textContent\n",
       "      }\n",
       "      // store reference to server id on output_area\n",
       "      output_area._bokeh_server_id = output.metadata[EXEC_MIME_TYPE][\"server_id\"];\n",
       "    }\n",
       "  }\n",
       "\n",
       "  function register_renderer(events, OutputArea) {\n",
       "\n",
       "    function append_mime(data, metadata, element) {\n",
       "      // create a DOM node to render to\n",
       "      var toinsert = this.create_output_subarea(\n",
       "        metadata,\n",
       "        CLASS_NAME,\n",
       "        EXEC_MIME_TYPE\n",
       "      );\n",
       "      this.keyboard_manager.register_events(toinsert);\n",
       "      // Render to node\n",
       "      var props = {data: data, metadata: metadata[EXEC_MIME_TYPE]};\n",
       "      render(props, toinsert[toinsert.length - 1]);\n",
       "      element.append(toinsert);\n",
       "      return toinsert\n",
       "    }\n",
       "\n",
       "    /* Handle when an output is cleared or removed */\n",
       "    events.on('clear_output.CodeCell', handleClearOutput);\n",
       "    events.on('delete.Cell', handleClearOutput);\n",
       "\n",
       "    /* Handle when a new output is added */\n",
       "    events.on('output_added.OutputArea', handleAddOutput);\n",
       "\n",
       "    /**\n",
       "     * Register the mime type and append_mime function with output_area\n",
       "     */\n",
       "    OutputArea.prototype.register_mime_type(EXEC_MIME_TYPE, append_mime, {\n",
       "      /* Is output safe? */\n",
       "      safe: true,\n",
       "      /* Index of renderer in `output_area.display_order` */\n",
       "      index: 0\n",
       "    });\n",
       "  }\n",
       "\n",
       "  // register the mime type if in Jupyter Notebook environment and previously unregistered\n",
       "  if (root.Jupyter !== undefined) {\n",
       "    var events = require('base/js/events');\n",
       "    var OutputArea = require('notebook/js/outputarea').OutputArea;\n",
       "\n",
       "    if (OutputArea.prototype.mime_types().indexOf(EXEC_MIME_TYPE) == -1) {\n",
       "      register_renderer(events, OutputArea);\n",
       "    }\n",
       "  }\n",
       "\n",
       "  \n",
       "  if (typeof (root._bokeh_timeout) === \"undefined\" || force === true) {\n",
       "    root._bokeh_timeout = Date.now() + 5000;\n",
       "    root._bokeh_failed_load = false;\n",
       "  }\n",
       "\n",
       "  var NB_LOAD_WARNING = {'data': {'text/html':\n",
       "     \"<div style='background-color: #fdd'>\\n\"+\n",
       "     \"<p>\\n\"+\n",
       "     \"BokehJS does not appear to have successfully loaded. If loading BokehJS from CDN, this \\n\"+\n",
       "     \"may be due to a slow or bad network connection. Possible fixes:\\n\"+\n",
       "     \"</p>\\n\"+\n",
       "     \"<ul>\\n\"+\n",
       "     \"<li>re-rerun `output_notebook()` to attempt to load from CDN again, or</li>\\n\"+\n",
       "     \"<li>use INLINE resources instead, as so:</li>\\n\"+\n",
       "     \"</ul>\\n\"+\n",
       "     \"<code>\\n\"+\n",
       "     \"from bokeh.resources import INLINE\\n\"+\n",
       "     \"output_notebook(resources=INLINE)\\n\"+\n",
       "     \"</code>\\n\"+\n",
       "     \"</div>\"}};\n",
       "\n",
       "  function display_loaded() {\n",
       "    var el = document.getElementById(\"1001\");\n",
       "    if (el != null) {\n",
       "      el.textContent = \"BokehJS is loading...\";\n",
       "    }\n",
       "    if (root.Bokeh !== undefined) {\n",
       "      if (el != null) {\n",
       "        el.textContent = \"BokehJS \" + root.Bokeh.version + \" successfully loaded.\";\n",
       "      }\n",
       "    } else if (Date.now() < root._bokeh_timeout) {\n",
       "      setTimeout(display_loaded, 100)\n",
       "    }\n",
       "  }\n",
       "\n",
       "\n",
       "  function run_callbacks() {\n",
       "    try {\n",
       "      root._bokeh_onload_callbacks.forEach(function(callback) {\n",
       "        if (callback != null)\n",
       "          callback();\n",
       "      });\n",
       "    } finally {\n",
       "      delete root._bokeh_onload_callbacks\n",
       "    }\n",
       "    console.debug(\"Bokeh: all callbacks have finished\");\n",
       "  }\n",
       "\n",
       "  function load_libs(css_urls, js_urls, callback) {\n",
       "    if (css_urls == null) css_urls = [];\n",
       "    if (js_urls == null) js_urls = [];\n",
       "\n",
       "    root._bokeh_onload_callbacks.push(callback);\n",
       "    if (root._bokeh_is_loading > 0) {\n",
       "      console.debug(\"Bokeh: BokehJS is being loaded, scheduling callback at\", now());\n",
       "      return null;\n",
       "    }\n",
       "    if (js_urls == null || js_urls.length === 0) {\n",
       "      run_callbacks();\n",
       "      return null;\n",
       "    }\n",
       "    console.debug(\"Bokeh: BokehJS not loaded, scheduling load and callback at\", now());\n",
       "    root._bokeh_is_loading = css_urls.length + js_urls.length;\n",
       "\n",
       "    function on_load() {\n",
       "      root._bokeh_is_loading--;\n",
       "      if (root._bokeh_is_loading === 0) {\n",
       "        console.debug(\"Bokeh: all BokehJS libraries/stylesheets loaded\");\n",
       "        run_callbacks()\n",
       "      }\n",
       "    }\n",
       "\n",
       "    function on_error() {\n",
       "      console.error(\"failed to load \" + url);\n",
       "    }\n",
       "\n",
       "    for (var i = 0; i < css_urls.length; i++) {\n",
       "      var url = css_urls[i];\n",
       "      const element = document.createElement(\"link\");\n",
       "      element.onload = on_load;\n",
       "      element.onerror = on_error;\n",
       "      element.rel = \"stylesheet\";\n",
       "      element.type = \"text/css\";\n",
       "      element.href = url;\n",
       "      console.debug(\"Bokeh: injecting link tag for BokehJS stylesheet: \", url);\n",
       "      document.body.appendChild(element);\n",
       "    }\n",
       "\n",
       "    const hashes = {\"https://cdn.bokeh.org/bokeh/release/bokeh-2.0.1.min.js\": \"JpP8FXbgAZLkfur7LiK3j9AGBhHNIvF742meBJrjO2ShJDhCG2I1uVvW+0DUtrmc\", \"https://cdn.bokeh.org/bokeh/release/bokeh-widgets-2.0.1.min.js\": \"xZlADit0Q04ISQEdKg2k3L4W9AwQBAuDs9nJL9fM/WwzL1tEU9VPNezOFX0nLEAz\", \"https://cdn.bokeh.org/bokeh/release/bokeh-tables-2.0.1.min.js\": \"4BuPRZkdMKSnj3zoxiNrQ86XgNw0rYmBOxe7nshquXwwcauupgBF2DHLVG1WuZlV\", \"https://cdn.bokeh.org/bokeh/release/bokeh-gl-2.0.1.min.js\": \"Dv1SQ87hmDqK6S5OhBf0bCuwAEvL5QYL0PuR/F1SPVhCS/r/abjkbpKDYL2zeM19\"};\n",
       "\n",
       "    for (var i = 0; i < js_urls.length; i++) {\n",
       "      var url = js_urls[i];\n",
       "      var element = document.createElement('script');\n",
       "      element.onload = on_load;\n",
       "      element.onerror = on_error;\n",
       "      element.async = false;\n",
       "      element.src = url;\n",
       "      if (url in hashes) {\n",
       "        element.crossOrigin = \"anonymous\";\n",
       "        element.integrity = \"sha384-\" + hashes[url];\n",
       "      }\n",
       "      console.debug(\"Bokeh: injecting script tag for BokehJS library: \", url);\n",
       "      document.head.appendChild(element);\n",
       "    }\n",
       "  };var element = document.getElementById(\"1001\");\n",
       "  if (element == null) {\n",
       "    console.error(\"Bokeh: ERROR: autoload.js configured with elementid '1001' but no matching script tag was found. \")\n",
       "    return false;\n",
       "  }\n",
       "\n",
       "  function inject_raw_css(css) {\n",
       "    const element = document.createElement(\"style\");\n",
       "    element.appendChild(document.createTextNode(css));\n",
       "    document.body.appendChild(element);\n",
       "  }\n",
       "\n",
       "  \n",
       "  var js_urls = [\"https://cdn.bokeh.org/bokeh/release/bokeh-2.0.1.min.js\", \"https://cdn.bokeh.org/bokeh/release/bokeh-widgets-2.0.1.min.js\", \"https://cdn.bokeh.org/bokeh/release/bokeh-tables-2.0.1.min.js\", \"https://cdn.bokeh.org/bokeh/release/bokeh-gl-2.0.1.min.js\"];\n",
       "  var css_urls = [];\n",
       "  \n",
       "\n",
       "  var inline_js = [\n",
       "    function(Bokeh) {\n",
       "      Bokeh.set_log_level(\"info\");\n",
       "    },\n",
       "    function(Bokeh) {\n",
       "    \n",
       "    \n",
       "    }\n",
       "  ];\n",
       "\n",
       "  function run_inline_js() {\n",
       "    \n",
       "    if (root.Bokeh !== undefined || force === true) {\n",
       "      \n",
       "    for (var i = 0; i < inline_js.length; i++) {\n",
       "      inline_js[i].call(root, root.Bokeh);\n",
       "    }\n",
       "    if (force === true) {\n",
       "        display_loaded();\n",
       "      }} else if (Date.now() < root._bokeh_timeout) {\n",
       "      setTimeout(run_inline_js, 100);\n",
       "    } else if (!root._bokeh_failed_load) {\n",
       "      console.log(\"Bokeh: BokehJS failed to load within specified timeout.\");\n",
       "      root._bokeh_failed_load = true;\n",
       "    } else if (force !== true) {\n",
       "      var cell = $(document.getElementById(\"1001\")).parents('.cell').data().cell;\n",
       "      cell.output_area.append_execute_result(NB_LOAD_WARNING)\n",
       "    }\n",
       "\n",
       "  }\n",
       "\n",
       "  if (root._bokeh_is_loading === 0) {\n",
       "    console.debug(\"Bokeh: BokehJS loaded, going straight to plotting\");\n",
       "    run_inline_js();\n",
       "  } else {\n",
       "    load_libs(css_urls, js_urls, function() {\n",
       "      console.debug(\"Bokeh: BokehJS plotting callback run at\", now());\n",
       "      run_inline_js();\n",
       "    });\n",
       "  }\n",
       "}(window));"
      ],
      "application/vnd.bokehjs_load.v0+json": "\n(function(root) {\n  function now() {\n    return new Date();\n  }\n\n  var force = true;\n\n  if (typeof root._bokeh_onload_callbacks === \"undefined\" || force === true) {\n    root._bokeh_onload_callbacks = [];\n    root._bokeh_is_loading = undefined;\n  }\n\n  \n\n  \n  if (typeof (root._bokeh_timeout) === \"undefined\" || force === true) {\n    root._bokeh_timeout = Date.now() + 5000;\n    root._bokeh_failed_load = false;\n  }\n\n  var NB_LOAD_WARNING = {'data': {'text/html':\n     \"<div style='background-color: #fdd'>\\n\"+\n     \"<p>\\n\"+\n     \"BokehJS does not appear to have successfully loaded. If loading BokehJS from CDN, this \\n\"+\n     \"may be due to a slow or bad network connection. Possible fixes:\\n\"+\n     \"</p>\\n\"+\n     \"<ul>\\n\"+\n     \"<li>re-rerun `output_notebook()` to attempt to load from CDN again, or</li>\\n\"+\n     \"<li>use INLINE resources instead, as so:</li>\\n\"+\n     \"</ul>\\n\"+\n     \"<code>\\n\"+\n     \"from bokeh.resources import INLINE\\n\"+\n     \"output_notebook(resources=INLINE)\\n\"+\n     \"</code>\\n\"+\n     \"</div>\"}};\n\n  function display_loaded() {\n    var el = document.getElementById(\"1001\");\n    if (el != null) {\n      el.textContent = \"BokehJS is loading...\";\n    }\n    if (root.Bokeh !== undefined) {\n      if (el != null) {\n        el.textContent = \"BokehJS \" + root.Bokeh.version + \" successfully loaded.\";\n      }\n    } else if (Date.now() < root._bokeh_timeout) {\n      setTimeout(display_loaded, 100)\n    }\n  }\n\n\n  function run_callbacks() {\n    try {\n      root._bokeh_onload_callbacks.forEach(function(callback) {\n        if (callback != null)\n          callback();\n      });\n    } finally {\n      delete root._bokeh_onload_callbacks\n    }\n    console.debug(\"Bokeh: all callbacks have finished\");\n  }\n\n  function load_libs(css_urls, js_urls, callback) {\n    if (css_urls == null) css_urls = [];\n    if (js_urls == null) js_urls = [];\n\n    root._bokeh_onload_callbacks.push(callback);\n    if (root._bokeh_is_loading > 0) {\n      console.debug(\"Bokeh: BokehJS is being loaded, scheduling callback at\", now());\n      return null;\n    }\n    if (js_urls == null || js_urls.length === 0) {\n      run_callbacks();\n      return null;\n    }\n    console.debug(\"Bokeh: BokehJS not loaded, scheduling load and callback at\", now());\n    root._bokeh_is_loading = css_urls.length + js_urls.length;\n\n    function on_load() {\n      root._bokeh_is_loading--;\n      if (root._bokeh_is_loading === 0) {\n        console.debug(\"Bokeh: all BokehJS libraries/stylesheets loaded\");\n        run_callbacks()\n      }\n    }\n\n    function on_error() {\n      console.error(\"failed to load \" + url);\n    }\n\n    for (var i = 0; i < css_urls.length; i++) {\n      var url = css_urls[i];\n      const element = document.createElement(\"link\");\n      element.onload = on_load;\n      element.onerror = on_error;\n      element.rel = \"stylesheet\";\n      element.type = \"text/css\";\n      element.href = url;\n      console.debug(\"Bokeh: injecting link tag for BokehJS stylesheet: \", url);\n      document.body.appendChild(element);\n    }\n\n    const hashes = {\"https://cdn.bokeh.org/bokeh/release/bokeh-2.0.1.min.js\": \"JpP8FXbgAZLkfur7LiK3j9AGBhHNIvF742meBJrjO2ShJDhCG2I1uVvW+0DUtrmc\", \"https://cdn.bokeh.org/bokeh/release/bokeh-widgets-2.0.1.min.js\": \"xZlADit0Q04ISQEdKg2k3L4W9AwQBAuDs9nJL9fM/WwzL1tEU9VPNezOFX0nLEAz\", \"https://cdn.bokeh.org/bokeh/release/bokeh-tables-2.0.1.min.js\": \"4BuPRZkdMKSnj3zoxiNrQ86XgNw0rYmBOxe7nshquXwwcauupgBF2DHLVG1WuZlV\", \"https://cdn.bokeh.org/bokeh/release/bokeh-gl-2.0.1.min.js\": \"Dv1SQ87hmDqK6S5OhBf0bCuwAEvL5QYL0PuR/F1SPVhCS/r/abjkbpKDYL2zeM19\"};\n\n    for (var i = 0; i < js_urls.length; i++) {\n      var url = js_urls[i];\n      var element = document.createElement('script');\n      element.onload = on_load;\n      element.onerror = on_error;\n      element.async = false;\n      element.src = url;\n      if (url in hashes) {\n        element.crossOrigin = \"anonymous\";\n        element.integrity = \"sha384-\" + hashes[url];\n      }\n      console.debug(\"Bokeh: injecting script tag for BokehJS library: \", url);\n      document.head.appendChild(element);\n    }\n  };var element = document.getElementById(\"1001\");\n  if (element == null) {\n    console.error(\"Bokeh: ERROR: autoload.js configured with elementid '1001' but no matching script tag was found. \")\n    return false;\n  }\n\n  function inject_raw_css(css) {\n    const element = document.createElement(\"style\");\n    element.appendChild(document.createTextNode(css));\n    document.body.appendChild(element);\n  }\n\n  \n  var js_urls = [\"https://cdn.bokeh.org/bokeh/release/bokeh-2.0.1.min.js\", \"https://cdn.bokeh.org/bokeh/release/bokeh-widgets-2.0.1.min.js\", \"https://cdn.bokeh.org/bokeh/release/bokeh-tables-2.0.1.min.js\", \"https://cdn.bokeh.org/bokeh/release/bokeh-gl-2.0.1.min.js\"];\n  var css_urls = [];\n  \n\n  var inline_js = [\n    function(Bokeh) {\n      Bokeh.set_log_level(\"info\");\n    },\n    function(Bokeh) {\n    \n    \n    }\n  ];\n\n  function run_inline_js() {\n    \n    if (root.Bokeh !== undefined || force === true) {\n      \n    for (var i = 0; i < inline_js.length; i++) {\n      inline_js[i].call(root, root.Bokeh);\n    }\n    if (force === true) {\n        display_loaded();\n      }} else if (Date.now() < root._bokeh_timeout) {\n      setTimeout(run_inline_js, 100);\n    } else if (!root._bokeh_failed_load) {\n      console.log(\"Bokeh: BokehJS failed to load within specified timeout.\");\n      root._bokeh_failed_load = true;\n    } else if (force !== true) {\n      var cell = $(document.getElementById(\"1001\")).parents('.cell').data().cell;\n      cell.output_area.append_execute_result(NB_LOAD_WARNING)\n    }\n\n  }\n\n  if (root._bokeh_is_loading === 0) {\n    console.debug(\"Bokeh: BokehJS loaded, going straight to plotting\");\n    run_inline_js();\n  } else {\n    load_libs(css_urls, js_urls, function() {\n      console.debug(\"Bokeh: BokehJS plotting callback run at\", now());\n      run_inline_js();\n    });\n  }\n}(window));"
     },
     "metadata": {},
     "output_type": "display_data"
    },
    {
     "name": "stdout",
     "output_type": "stream",
     "text": [
      "e_8_t_5_k_32_g_50_n_5_stats.dill\n"
     ]
    },
    {
     "data": {
      "text/html": [
       "\n",
       "\n",
       "\n",
       "\n",
       "\n",
       "\n",
       "  <div class=\"bk-root\" id=\"8c6d12f2-308e-4e7e-ad7a-b011b3c80e0a\" data-root-id=\"1002\"></div>\n"
      ]
     },
     "metadata": {},
     "output_type": "display_data"
    },
    {
     "data": {
      "application/javascript": [
       "(function(root) {\n",
       "  function embed_document(root) {\n",
       "    \n",
       "  var docs_json = {\"e1888470-acc2-4bfb-bb22-aa1a6c8fb5db\":{\"roots\":{\"references\":[{\"attributes\":{\"below\":[{\"id\":\"1011\"}],\"center\":[{\"id\":\"1014\"},{\"id\":\"1018\"}],\"left\":[{\"id\":\"1015\"}],\"plot_height\":400,\"plot_width\":800,\"renderers\":[{\"id\":\"1036\"},{\"id\":\"1041\"},{\"id\":\"1046\"}],\"title\":{\"id\":\"1048\"},\"toolbar\":{\"id\":\"1026\"},\"x_range\":{\"id\":\"1003\"},\"x_scale\":{\"id\":\"1007\"},\"y_range\":{\"id\":\"1005\"},\"y_scale\":{\"id\":\"1009\"}},\"id\":\"1002\",\"subtype\":\"Figure\",\"type\":\"Plot\"},{\"attributes\":{},\"id\":\"1023\",\"type\":\"ResetTool\"},{\"attributes\":{},\"id\":\"1007\",\"type\":\"LinearScale\"},{\"attributes\":{\"data_source\":{\"id\":\"1043\"},\"glyph\":{\"id\":\"1044\"},\"hover_glyph\":null,\"muted_glyph\":null,\"nonselection_glyph\":{\"id\":\"1045\"},\"selection_glyph\":null,\"view\":{\"id\":\"1047\"}},\"id\":\"1046\",\"type\":\"GlyphRenderer\"},{\"attributes\":{},\"id\":\"1016\",\"type\":\"BasicTicker\"},{\"attributes\":{},\"id\":\"1055\",\"type\":\"Selection\"},{\"attributes\":{\"data_source\":{\"id\":\"1033\"},\"glyph\":{\"id\":\"1034\"},\"hover_glyph\":null,\"muted_glyph\":null,\"nonselection_glyph\":{\"id\":\"1035\"},\"selection_glyph\":null,\"view\":{\"id\":\"1037\"}},\"id\":\"1036\",\"type\":\"GlyphRenderer\"},{\"attributes\":{},\"id\":\"1020\",\"type\":\"WheelZoomTool\"},{\"attributes\":{},\"id\":\"1058\",\"type\":\"UnionRenderers\"},{\"attributes\":{\"bottom_units\":\"screen\",\"fill_alpha\":0.5,\"fill_color\":\"lightgrey\",\"left_units\":\"screen\",\"level\":\"overlay\",\"line_alpha\":1.0,\"line_color\":\"black\",\"line_dash\":[4,4],\"line_width\":2,\"render_mode\":\"css\",\"right_units\":\"screen\",\"top_units\":\"screen\"},\"id\":\"1025\",\"type\":\"BoxAnnotation\"},{\"attributes\":{},\"id\":\"1019\",\"type\":\"PanTool\"},{\"attributes\":{\"formatter\":{\"id\":\"1052\"},\"ticker\":{\"id\":\"1016\"}},\"id\":\"1015\",\"type\":\"LinearAxis\"},{\"attributes\":{},\"id\":\"1050\",\"type\":\"BasicTickFormatter\"},{\"attributes\":{\"overlay\":{\"id\":\"1025\"}},\"id\":\"1021\",\"type\":\"BoxZoomTool\"},{\"attributes\":{\"line_alpha\":0.3,\"line_color\":\"#1f77b4\",\"line_width\":2,\"x\":{\"field\":\"x\"},\"y\":{\"field\":\"y\"}},\"id\":\"1044\",\"type\":\"Line\"},{\"attributes\":{},\"id\":\"1022\",\"type\":\"SaveTool\"},{\"attributes\":{\"data\":{\"x\":[0,1,2,3,4,5,6,7,8,9,10,11,12,13,14,15,16,17,18,19,20,21,22,23,24,25,26,27,28,29,30,31,32,33,34,35,36,37,38,39,40,41,42,43,44,45,46,47,48,49],\"y\":{\"__ndarray__\":\"Ch+xRYXCN0B8FljllvY2QBOtUEBTJjhANTCpyRyNOUCm4k9wqhE6QHL7Q7HNoz5A8xzvx0B0PEDSe4OkX+4+QP7KxB0AQj5Acsb1zVpPPUBvQ/9r7aA7QOnnXK9TxDxAohhPqVj5PUDPQ/PhciM9QCBll7IqkD5AgpzE4a77P0CFFB+TG148QECIDNH0TTtAl9XE+TWDPUCI4atcDPk6QCx5HxAR/DxAFXHkcn0UPUCiEvl19tc7QPD2z7sdrD1AjIOad6m4O0Cr+WZLlnc+QFRMY1akrTxA1CeswC9bO0BWuSFqnhg9QP8yI3tCXzxA4UJNh1l5PkDW7/UbC7U8QJDCPQ2oqDpAvJY/OrFEO0BlKMliKN07QDIM8nqw8DtAAzCWy9tSPEC5TtKqJ0U7QDld1uZDSDpAJDH7aJVUO0BzgcCqoPY5QIpUH8z7QDxACO0Oi9O2OkA3+7++7pQ8QOdEZg4z7jtARCihUT+9OkAJsFKO1iw8QKSJgT3kdztAXo19MEGIO0Drk8Fpz/Q8QA==\",\"dtype\":\"float64\",\"shape\":[50]}},\"selected\":{\"id\":\"1055\"},\"selection_policy\":{\"id\":\"1056\"}},\"id\":\"1033\",\"type\":\"ColumnDataSource\"},{\"attributes\":{\"line_alpha\":0.1,\"line_color\":\"#1f77b4\",\"line_width\":2,\"x\":{\"field\":\"x\"},\"y\":{\"field\":\"y\"}},\"id\":\"1045\",\"type\":\"Line\"},{\"attributes\":{\"source\":{\"id\":\"1043\"}},\"id\":\"1047\",\"type\":\"CDSView\"},{\"attributes\":{\"text\":\"\"},\"id\":\"1048\",\"type\":\"Title\"},{\"attributes\":{\"line_alpha\":0.1,\"line_color\":\"#1f77b4\",\"line_width\":2,\"x\":{\"field\":\"x\"},\"y\":{\"field\":\"y\"}},\"id\":\"1040\",\"type\":\"Line\"},{\"attributes\":{\"data\":{\"x\":[0,1,2,3,4,5,6,7,8,9,10,11,12,13,14,15,16,17,18,19,20,21,22,23,24,25,26,27,28,29,30,31,32,33,34,35,36,37,38,39,40,41,42,43,44,45,46,47,48,49],\"y\":{\"__ndarray__\":\"cyGQ0bGzMEBMp358CM4xQMuSgcQBhDBACoJ1HtSENEAgZRnHozMzQM6ufYIHijVAu+G/AclMNUAJncelkeU2QGDJHyZ+4TdA8i6UyQZhNUCpqCI2+rg2QAVl42DsKDRANuJHaotNN0Aewliv8eo2QMqcQwLdUjhAs5x4U+fzOEBjquEXLWA0QOgj48pYszJA+csClGVbNkCf+s3Hfjo2QJqRO/A7mDVACsrN9ohtNUDq3CQDBzo1QAEYZdHpCDZA8zaqcWOONEAeJ+9zmMI3QH5Q9B8MIDVAJ3trEHMENkC/+whWyW02QJ0XGVyD4ThA1kPXOntSN0CbltTRZoE1QFgdqJDZpTVAiAhHXXElNkD6m0hHGxo2QNBuTZVF6DdA2dDIcUkHN0B0qwHzWPk1QBlS3j5IOTZA2rrJSvNjNkDXLlhV+0Y1QKFHw/DKVzZAKxw0p2ykNkA2ZtwAzxU2QFQVYVP9lThApP2/VG1mNkD15rBH9rA2QIaKzAEXADZARIJLTituNUDZj3rJkF82QA==\",\"dtype\":\"float64\",\"shape\":[50]}},\"selected\":{\"id\":\"1059\"},\"selection_policy\":{\"id\":\"1060\"}},\"id\":\"1043\",\"type\":\"ColumnDataSource\"},{\"attributes\":{\"data\":{\"x\":[0,1,2,3,4,5,6,7,8,9,10,11,12,13,14,15,16,17,18,19,20,21,22,23,24,25,26,27,28,29,30,31,32,33,34,35,36,37,38,39,40,41,42,43,44,45,46,47,48,49],\"y\":{\"__ndarray__\":\"LxaSITuPNUBq8bd1LDE1QBnwfDGYgzRAR+lsm0KgNkCbjUjEAj01QII92S0O0jlAseVzGcXGOECinvci8CU5QH/YaLzisTpA+X8w3wJCOUD0DzVGayk6QOLRK5M/jzlAmv+apMzTOkB0TZkZnbU6QA0+Je5SUTxASq2BU11APECgF0rqFe04QMWmfldUMjdAln1rw7jmN0D9mtKButo4QE181TJ+zDlA05H3oopIOUAg0BcnAQQ5QGQvga1u6zlALsup6gWSOECknLaauBY8QKgmJEDX9zdAB29coPEaOEAsNpEud9I5QBuv4t5k0DpAYkTbkA1qOkBM2wHsF1Y5QMbQGKOhyThAjttxOH2lOUAsZKbUbnM5QNYNeQugiDlApCuj+S34OEATx0F7/sg4QFppGy0V+ThA4NcN2wWLOECQF4zTPNw3QEOV2zDpfzlAoPn8Ya+6OED+0+6KOaA5QEKTEmSguDlAcHsUpKPlOECVM7Y8ySw5QFqwHcZaWTpAugdjn8w3OEAEIgj6gsE6QA==\",\"dtype\":\"float64\",\"shape\":[50]}},\"selected\":{\"id\":\"1057\"},\"selection_policy\":{\"id\":\"1058\"}},\"id\":\"1038\",\"type\":\"ColumnDataSource\"},{\"attributes\":{\"axis\":{\"id\":\"1011\"},\"ticker\":null},\"id\":\"1014\",\"type\":\"Grid\"},{\"attributes\":{\"formatter\":{\"id\":\"1050\"},\"ticker\":{\"id\":\"1012\"}},\"id\":\"1011\",\"type\":\"LinearAxis\"},{\"attributes\":{\"data_source\":{\"id\":\"1038\"},\"glyph\":{\"id\":\"1039\"},\"hover_glyph\":null,\"muted_glyph\":null,\"nonselection_glyph\":{\"id\":\"1040\"},\"selection_glyph\":null,\"view\":{\"id\":\"1042\"}},\"id\":\"1041\",\"type\":\"GlyphRenderer\"},{\"attributes\":{},\"id\":\"1052\",\"type\":\"BasicTickFormatter\"},{\"attributes\":{\"end\":40,\"start\":15},\"id\":\"1005\",\"type\":\"Range1d\"},{\"attributes\":{},\"id\":\"1024\",\"type\":\"HelpTool\"},{\"attributes\":{},\"id\":\"1057\",\"type\":\"Selection\"},{\"attributes\":{\"line_alpha\":0.1,\"line_color\":\"#1f77b4\",\"line_width\":2,\"x\":{\"field\":\"x\"},\"y\":{\"field\":\"y\"}},\"id\":\"1035\",\"type\":\"Line\"},{\"attributes\":{},\"id\":\"1003\",\"type\":\"DataRange1d\"},{\"attributes\":{},\"id\":\"1009\",\"type\":\"LinearScale\"},{\"attributes\":{\"line_alpha\":0.3,\"line_color\":\"#1f77b4\",\"line_width\":2,\"x\":{\"field\":\"x\"},\"y\":{\"field\":\"y\"}},\"id\":\"1034\",\"type\":\"Line\"},{\"attributes\":{\"source\":{\"id\":\"1038\"}},\"id\":\"1042\",\"type\":\"CDSView\"},{\"attributes\":{},\"id\":\"1012\",\"type\":\"BasicTicker\"},{\"attributes\":{\"source\":{\"id\":\"1033\"}},\"id\":\"1037\",\"type\":\"CDSView\"},{\"attributes\":{\"axis\":{\"id\":\"1015\"},\"dimension\":1,\"ticker\":null},\"id\":\"1018\",\"type\":\"Grid\"},{\"attributes\":{\"line_color\":\"#1f77b4\",\"line_width\":2,\"x\":{\"field\":\"x\"},\"y\":{\"field\":\"y\"}},\"id\":\"1039\",\"type\":\"Line\"},{\"attributes\":{},\"id\":\"1056\",\"type\":\"UnionRenderers\"},{\"attributes\":{},\"id\":\"1060\",\"type\":\"UnionRenderers\"},{\"attributes\":{\"active_drag\":\"auto\",\"active_inspect\":\"auto\",\"active_multi\":null,\"active_scroll\":\"auto\",\"active_tap\":\"auto\",\"tools\":[{\"id\":\"1019\"},{\"id\":\"1020\"},{\"id\":\"1021\"},{\"id\":\"1022\"},{\"id\":\"1023\"},{\"id\":\"1024\"}]},\"id\":\"1026\",\"type\":\"Toolbar\"},{\"attributes\":{},\"id\":\"1059\",\"type\":\"Selection\"}],\"root_ids\":[\"1002\"]},\"title\":\"Bokeh Application\",\"version\":\"2.0.1\"}};\n",
       "  var render_items = [{\"docid\":\"e1888470-acc2-4bfb-bb22-aa1a6c8fb5db\",\"root_ids\":[\"1002\"],\"roots\":{\"1002\":\"8c6d12f2-308e-4e7e-ad7a-b011b3c80e0a\"}}];\n",
       "  root.Bokeh.embed.embed_items_notebook(docs_json, render_items);\n",
       "\n",
       "  }\n",
       "  if (root.Bokeh !== undefined) {\n",
       "    embed_document(root);\n",
       "  } else {\n",
       "    var attempts = 0;\n",
       "    var timer = setInterval(function(root) {\n",
       "      if (root.Bokeh !== undefined) {\n",
       "        clearInterval(timer);\n",
       "        embed_document(root);\n",
       "      } else {\n",
       "        attempts++;\n",
       "        if (attempts > 100) {\n",
       "          clearInterval(timer);\n",
       "          console.log(\"Bokeh: ERROR: Unable to run BokehJS code because BokehJS library is missing\");\n",
       "        }\n",
       "      }\n",
       "    }, 10, root)\n",
       "  }\n",
       "})(window);"
      ],
      "application/vnd.bokehjs_exec.v0+json": ""
     },
     "metadata": {
      "application/vnd.bokehjs_exec.v0+json": {
       "id": "1002"
      }
     },
     "output_type": "display_data"
    },
    {
     "name": "stdout",
     "output_type": "stream",
     "text": [
      "\n",
      "class Script_b1430fc629994ad1b3266791fe90583a(Script):\n",
      "    def choose_move(self, battle: Battle):\n",
      "    \n",
      "        available_moves = battle.available_moves\n",
      "        if not available_moves:\n",
      "            return random.choice(battle.available_switches)\n",
      "            \n",
      "        dsl = DSL(battle)\n",
      "        move_scores = []\n",
      "        for move in battle.available_moves:\n",
      "            score = 0\n",
      "            if ((dsl.is_physical_attacker_and_move_physical(move) or dsl.is_raining_and_move_is_water(move))):\n",
      "                if (dsl.is_raining_and_move_is_not_fire(move)):\n",
      "                    score += 3\n",
      "                if (dsl.is_hyper_effective(move)):\n",
      "                    score += 3\n",
      "            if ((dsl.is_opponent_primarily_attack_and_is_not_burnt_and_move_is_burning_and_opp_not_afflicted(move) or dsl.is_special_attacker_and_move_special(move))):\n",
      "                score += 5\n",
      "            if ((dsl.is_sunny_and_move_is_fire(move) or dsl.is_physical_attacker_and_move_physical(move))):\n",
      "                if ((dsl.is_not_ineffective(move) or dsl.is_super_effective(move))):\n",
      "                    score += 1\n",
      "                if ((dsl.is_raining_and_move_is_not_fire(move) and dsl.is_sunny_and_move_is_not_water(move))):\n",
      "                    score += 3\n",
      "                if ((dsl.is_raining_and_move_is_not_fire(move) or dsl.is_sunny_and_move_is_fire(move))):\n",
      "                    score += -2\n",
      "            if ((dsl.is_super_effective(move) or dsl.is_raining_and_move_is_water(move))):\n",
      "                score += 5\n",
      "            if ((dsl.is_sunny_and_move_is_fire(move) or dsl.is_physical_attacker_and_move_physical(move))):\n",
      "                if ((dsl.is_not_ineffective(move) or dsl.is_super_effective(move))):\n",
      "                    score += 1\n",
      "                if ((dsl.is_sunny_and_move_is_fire(move) and dsl.is_sunny_and_move_is_not_water(move))):\n",
      "                    score += 3\n",
      "                if ((dsl.is_raining_and_move_is_not_fire(move) and dsl.is_not_ineffective(move))):\n",
      "                    score += 3\n",
      "            move_scores.append(score)\n",
      "            \n",
      "        best_move = available_moves[move_scores.index(max(move_scores))]\n",
      "        return best_move\n",
      "\n",
      "\n",
      "class Script_355210ff1ede4366be6413697eae6f3c(Script):\n",
      "    def choose_move(self, battle: Battle):\n",
      "    \n",
      "        available_moves = battle.available_moves\n",
      "        if not available_moves:\n",
      "            return random.choice(battle.available_switches)\n",
      "            \n",
      "        dsl = DSL(battle)\n",
      "        move_scores = []\n",
      "        for move in battle.available_moves:\n",
      "            score = 0\n",
      "            if ((dsl.is_physical_attacker_and_move_physical(move) or dsl.is_physical_attacker_and_move_physical(move))):\n",
      "                if (dsl.is_not_ineffective(move)):\n",
      "                    score += 3\n",
      "                if ((dsl.is_sunny_and_move_is_fire(move) or dsl.is_special_attacker_and_move_special(move))):\n",
      "                    score += 3\n",
      "            if ((dsl.is_opponent_primarily_attack_and_is_not_burnt_and_move_is_burning_and_opp_not_afflicted(move) or dsl.is_special_attacker_and_move_special(move))):\n",
      "                score += 5\n",
      "            if ((dsl.is_sunny_and_move_is_fire(move) or dsl.is_physical_attacker_and_move_physical(move))):\n",
      "                if ((dsl.is_physical_attacker_and_move_physical(move) and dsl.is_raining_and_move_is_not_fire(move))):\n",
      "                    score += 1\n",
      "                if ((dsl.is_raining_and_move_is_not_fire(move) and dsl.is_sunny_and_move_is_not_water(move))):\n",
      "                    score += -7\n",
      "                if ((dsl.is_raining_and_move_is_not_fire(move) or dsl.is_special_attacker_and_move_special(move))):\n",
      "                    score += -2\n",
      "            if ((dsl.is_super_effective(move) or dsl.is_raining_and_move_is_water(move))):\n",
      "                score += 5\n",
      "            if ((dsl.is_not_ineffective(move) or dsl.is_super_effective(move))):\n",
      "                if ((dsl.is_not_ineffective(move) or dsl.is_super_effective(move))):\n",
      "                    score += 1\n",
      "                if ((dsl.is_sunny_and_move_is_fire(move) and dsl.is_physical_attacker_and_move_physical(move))):\n",
      "                    score += -2\n",
      "                if (dsl.is_physical_attacker_and_move_physical(move)):\n",
      "                    score += 3\n",
      "            move_scores.append(score)\n",
      "            \n",
      "        best_move = available_moves[move_scores.index(max(move_scores))]\n",
      "        return best_move\n",
      "\n",
      "\n",
      "class Script_7b627177b070423bb39bc17e5e94e5cd(Script):\n",
      "    def choose_move(self, battle: Battle):\n",
      "    \n",
      "        available_moves = battle.available_moves\n",
      "        if not available_moves:\n",
      "            return random.choice(battle.available_switches)\n",
      "            \n",
      "        dsl = DSL(battle)\n",
      "        move_scores = []\n",
      "        for move in battle.available_moves:\n",
      "            score = 0\n",
      "            if ((dsl.is_physical_attacker_and_move_physical(move) or dsl.is_raining_and_move_is_water(move))):\n",
      "                if (dsl.is_sunny_and_move_is_fire(move)):\n",
      "                    score += -5\n",
      "                if ((dsl.is_raining_and_move_is_not_fire(move) and dsl.is_hyper_effective(move))):\n",
      "                    score += 3\n",
      "            if ((dsl.is_sunny_and_move_is_fire(move) or dsl.is_special_attacker_and_move_special(move))):\n",
      "                if ((dsl.is_physical_attacker_and_move_physical(move) or dsl.is_raining_and_move_is_water(move))):\n",
      "                    score += 3\n",
      "                if (dsl.is_special_attacker_and_move_special(move)):\n",
      "                    score += 4\n",
      "            if ((dsl.is_super_effective(move) or dsl.is_not_ineffective(move))):\n",
      "                if ((dsl.is_not_ineffective(move) or dsl.is_super_effective(move))):\n",
      "                    score += 1\n",
      "                if ((dsl.is_hyper_effective(move) or dsl.is_super_effective(move))):\n",
      "                    score += 4\n",
      "                if ((dsl.is_special_attacker_and_move_special(move) and dsl.is_not_ineffective(move))):\n",
      "                    score += 3\n",
      "            if ((dsl.is_sunny_and_move_is_not_water(move) or dsl.is_special_attacker_and_move_special(move))):\n",
      "                score += 5\n",
      "            if (dsl.is_raining_and_move_is_water(move)):\n",
      "                if ((dsl.is_sunny_and_move_is_fire(move) or dsl.is_sunny_and_move_is_not_water(move))):\n",
      "                    score += -5\n",
      "            move_scores.append(score)\n",
      "            \n",
      "        best_move = available_moves[move_scores.index(max(move_scores))]\n",
      "        return best_move\n",
      "\n",
      "e_12_t_5_k_32_g_50_n_5_stats.dill\n"
     ]
    },
    {
     "data": {
      "text/html": [
       "\n",
       "\n",
       "\n",
       "\n",
       "\n",
       "\n",
       "  <div class=\"bk-root\" id=\"493e0bb1-037f-4def-ae69-fc9d1f0189f8\" data-root-id=\"1139\"></div>\n"
      ]
     },
     "metadata": {},
     "output_type": "display_data"
    },
    {
     "data": {
      "application/javascript": [
       "(function(root) {\n",
       "  function embed_document(root) {\n",
       "    \n",
       "  var docs_json = {\"c35d811e-db69-4080-b8a0-bf02771cda06\":{\"roots\":{\"references\":[{\"attributes\":{\"below\":[{\"id\":\"1148\"}],\"center\":[{\"id\":\"1151\"},{\"id\":\"1155\"}],\"left\":[{\"id\":\"1152\"}],\"plot_height\":400,\"plot_width\":800,\"renderers\":[{\"id\":\"1173\"},{\"id\":\"1178\"},{\"id\":\"1183\"}],\"title\":{\"id\":\"1198\"},\"toolbar\":{\"id\":\"1163\"},\"x_range\":{\"id\":\"1140\"},\"x_scale\":{\"id\":\"1144\"},\"y_range\":{\"id\":\"1142\"},\"y_scale\":{\"id\":\"1146\"}},\"id\":\"1139\",\"subtype\":\"Figure\",\"type\":\"Plot\"},{\"attributes\":{\"text\":\"\"},\"id\":\"1198\",\"type\":\"Title\"},{\"attributes\":{\"data_source\":{\"id\":\"1180\"},\"glyph\":{\"id\":\"1181\"},\"hover_glyph\":null,\"muted_glyph\":null,\"nonselection_glyph\":{\"id\":\"1182\"},\"selection_glyph\":null,\"view\":{\"id\":\"1184\"}},\"id\":\"1183\",\"type\":\"GlyphRenderer\"},{\"attributes\":{\"source\":{\"id\":\"1175\"}},\"id\":\"1179\",\"type\":\"CDSView\"},{\"attributes\":{\"overlay\":{\"id\":\"1162\"}},\"id\":\"1158\",\"type\":\"BoxZoomTool\"},{\"attributes\":{\"line_alpha\":0.1,\"line_color\":\"#1f77b4\",\"line_width\":2,\"x\":{\"field\":\"x\"},\"y\":{\"field\":\"y\"}},\"id\":\"1182\",\"type\":\"Line\"},{\"attributes\":{\"bottom_units\":\"screen\",\"fill_alpha\":0.5,\"fill_color\":\"lightgrey\",\"left_units\":\"screen\",\"level\":\"overlay\",\"line_alpha\":1.0,\"line_color\":\"black\",\"line_dash\":[4,4],\"line_width\":2,\"render_mode\":\"css\",\"right_units\":\"screen\",\"top_units\":\"screen\"},\"id\":\"1162\",\"type\":\"BoxAnnotation\"},{\"attributes\":{\"data\":{\"x\":[0,1,2,3,4,5,6,7,8,9,10,11,12,13,14,15,16,17,18,19,20,21,22,23,24,25,26,27,28,29,30,31,32,33,34,35,36,37,38,39,40,41,42,43,44,45,46,47,48,49],\"y\":{\"__ndarray__\":\"fqtggvqAOEAYGOe3jaQ3QMN5K8o0mjhAG5I+bDK1N0Aoum99KE82QK7SEjw70DdAoFHoVvwqOUBRw9w7Exw5QEK1YRyJ0DdAx7tjCKwvN0AKJ7UyE7I5QCjeq2MP5D1AvQHiPMZLPEDukXnsXUc7QJilQXH8DjtANbPpqPREPEC2jva+zcg5QLcBY75YEzlAouWNn4VROEDzf5jkfao5QOayEmPFHzlAvB+1ukRNOECvGzfOxBE5QJr+PSVlcjlABLFviJuuN0DqNCZoYc85QH4MLOisFDpAcC704CbTOECuzfk1CB85QDCwf7ZSLDhALnOhHbb9OUAHIDX/kTs7QAyjm9lfKTlAHg5aQpOxOUA+DZzapl05QFbCCNQwvzpAzlRX7L9hOkCskg09Wkk6QHv8ezrBtjpAK5z6/5FbOEDONri9wgk4QNbYQRzzEzlActEiUEuGN0Bq7HswFMs3QKTHjp2BtzhALit+B0KiN0BxbohbxnM5QIWYD/oDpTpAulH/UgotOUBMaUYOMHE7QA==\",\"dtype\":\"float64\",\"shape\":[50]}},\"selected\":{\"id\":\"1207\"},\"selection_policy\":{\"id\":\"1208\"}},\"id\":\"1175\",\"type\":\"ColumnDataSource\"},{\"attributes\":{},\"id\":\"1160\",\"type\":\"ResetTool\"},{\"attributes\":{},\"id\":\"1153\",\"type\":\"BasicTicker\"},{\"attributes\":{},\"id\":\"1202\",\"type\":\"BasicTickFormatter\"},{\"attributes\":{},\"id\":\"1208\",\"type\":\"UnionRenderers\"},{\"attributes\":{\"active_drag\":\"auto\",\"active_inspect\":\"auto\",\"active_multi\":null,\"active_scroll\":\"auto\",\"active_tap\":\"auto\",\"tools\":[{\"id\":\"1156\"},{\"id\":\"1157\"},{\"id\":\"1158\"},{\"id\":\"1159\"},{\"id\":\"1160\"},{\"id\":\"1161\"}]},\"id\":\"1163\",\"type\":\"Toolbar\"},{\"attributes\":{\"data_source\":{\"id\":\"1170\"},\"glyph\":{\"id\":\"1171\"},\"hover_glyph\":null,\"muted_glyph\":null,\"nonselection_glyph\":{\"id\":\"1172\"},\"selection_glyph\":null,\"view\":{\"id\":\"1174\"}},\"id\":\"1173\",\"type\":\"GlyphRenderer\"},{\"attributes\":{\"formatter\":{\"id\":\"1202\"},\"ticker\":{\"id\":\"1153\"}},\"id\":\"1152\",\"type\":\"LinearAxis\"},{\"attributes\":{},\"id\":\"1156\",\"type\":\"PanTool\"},{\"attributes\":{},\"id\":\"1206\",\"type\":\"UnionRenderers\"},{\"attributes\":{},\"id\":\"1161\",\"type\":\"HelpTool\"},{\"attributes\":{\"source\":{\"id\":\"1180\"}},\"id\":\"1184\",\"type\":\"CDSView\"},{\"attributes\":{},\"id\":\"1210\",\"type\":\"UnionRenderers\"},{\"attributes\":{\"data\":{\"x\":[0,1,2,3,4,5,6,7,8,9,10,11,12,13,14,15,16,17,18,19,20,21,22,23,24,25,26,27,28,29,30,31,32,33,34,35,36,37,38,39,40,41,42,43,44,45,46,47,48,49],\"y\":{\"__ndarray__\":\"QAcA6oltM0DMfcYio040QOuR2kSPkjRAwSzAqu1/NEAoJO7iig8zQPIRrWwk/DNAuOpEq6byM0BYseY8MNQ0QC2N+za7ZTNAxBdrpWerM0Adv+055po0QE86rq5kXjhAe7Rl9UGGOUA6kDY4E2ozQOdobA2SvDhAfMByvCnwNkAYe7e12wk2QHLHIW8IKTdAsiGnRiMKMkAGG5Z080g0QLg0gQFyGTRASmiUqSWnNEA9zc8k9dc2QDAMQu9s9jRAEcwszX8KNUDBQ6qHBoIzQLitHPauPjRAlmbccKP8NECvoapAftc1QKm1QQMk7TNAxvt7dER4NkC5CB7Wo1c3QFr5W1JP9DZAjzLYyjzMN0B23oonqy43QIGvCh89jDVAk5oQmI+UNkBHzHkiBSg4QH+kRg3BzjZAUNPdKRa4NEDbFau3Zxs1QGKozcgIcDZAGh2Zh/EXNEC3SQX+b7s1QJY7r+KORjZAaNguoR9+NUBk5uFygb02QNAs+xoL3DZAm7i/1umHNkAFQF5if7k3QA==\",\"dtype\":\"float64\",\"shape\":[50]}},\"selected\":{\"id\":\"1209\"},\"selection_policy\":{\"id\":\"1210\"}},\"id\":\"1180\",\"type\":\"ColumnDataSource\"},{\"attributes\":{},\"id\":\"1207\",\"type\":\"Selection\"},{\"attributes\":{},\"id\":\"1140\",\"type\":\"DataRange1d\"},{\"attributes\":{\"data_source\":{\"id\":\"1175\"},\"glyph\":{\"id\":\"1176\"},\"hover_glyph\":null,\"muted_glyph\":null,\"nonselection_glyph\":{\"id\":\"1177\"},\"selection_glyph\":null,\"view\":{\"id\":\"1179\"}},\"id\":\"1178\",\"type\":\"GlyphRenderer\"},{\"attributes\":{\"line_alpha\":0.1,\"line_color\":\"#1f77b4\",\"line_width\":2,\"x\":{\"field\":\"x\"},\"y\":{\"field\":\"y\"}},\"id\":\"1177\",\"type\":\"Line\"},{\"attributes\":{\"formatter\":{\"id\":\"1200\"},\"ticker\":{\"id\":\"1149\"}},\"id\":\"1148\",\"type\":\"LinearAxis\"},{\"attributes\":{\"axis\":{\"id\":\"1152\"},\"dimension\":1,\"ticker\":null},\"id\":\"1155\",\"type\":\"Grid\"},{\"attributes\":{},\"id\":\"1149\",\"type\":\"BasicTicker\"},{\"attributes\":{\"line_alpha\":0.1,\"line_color\":\"#1f77b4\",\"line_width\":2,\"x\":{\"field\":\"x\"},\"y\":{\"field\":\"y\"}},\"id\":\"1172\",\"type\":\"Line\"},{\"attributes\":{\"axis\":{\"id\":\"1148\"},\"ticker\":null},\"id\":\"1151\",\"type\":\"Grid\"},{\"attributes\":{\"data\":{\"x\":[0,1,2,3,4,5,6,7,8,9,10,11,12,13,14,15,16,17,18,19,20,21,22,23,24,25,26,27,28,29,30,31,32,33,34,35,36,37,38,39,40,41,42,43,44,45,46,47,48,49],\"y\":{\"__ndarray__\":\"LC4IavgkO0DKZvoy/bI6QNj6uBPRwjpAdyuwE7amO0DSdsS7Suw6QAqnMsljTjtAclf1M7L+O0CE9TCETvA6QFjftGJGRDxAPnSfJgQSPECqj67fYIQ9QBPTpICMTEFA+OUKWz31P0CnRWXPuYI+QMFsdxL7Tj5A6N9AbFhTQEC4sXPqs109QN7bonTfTzxAxH6fqOKNPEAKoq+Ivvc9QE4z2QsbmD1ADVRZvyTBOkCj+GjRlCU8QGiczk828TtASEKnnmY5O0A41jqj6t88QJPqTmQjez1A/T94TQxdPUBMb6lAZ/o7QGyW9SWIfztAE7X0M3hZPECGvPpWp3w+QFqGIu74yTtARVg4JPcEPECboEUldyA8QMht3k90Vz1ALBrxpaxkPUAAw2HHu2o9QCwOeIvUkz1A6lzScjLpO0ASa3Wiq8c7QLQI4noWpzxAuiPmy52NPECxCFn6YEI7QKxZ33kWoDxAEkobIxynOUCmHlbta/08QCAM5kCIFT1AG281E6VCPUDBU/HuR8M+QA==\",\"dtype\":\"float64\",\"shape\":[50]}},\"selected\":{\"id\":\"1205\"},\"selection_policy\":{\"id\":\"1206\"}},\"id\":\"1170\",\"type\":\"ColumnDataSource\"},{\"attributes\":{\"line_alpha\":0.3,\"line_color\":\"#1f77b4\",\"line_width\":2,\"x\":{\"field\":\"x\"},\"y\":{\"field\":\"y\"}},\"id\":\"1181\",\"type\":\"Line\"},{\"attributes\":{\"end\":40,\"start\":15},\"id\":\"1142\",\"type\":\"Range1d\"},{\"attributes\":{\"source\":{\"id\":\"1170\"}},\"id\":\"1174\",\"type\":\"CDSView\"},{\"attributes\":{\"line_alpha\":0.3,\"line_color\":\"#1f77b4\",\"line_width\":2,\"x\":{\"field\":\"x\"},\"y\":{\"field\":\"y\"}},\"id\":\"1171\",\"type\":\"Line\"},{\"attributes\":{},\"id\":\"1200\",\"type\":\"BasicTickFormatter\"},{\"attributes\":{\"line_color\":\"#1f77b4\",\"line_width\":2,\"x\":{\"field\":\"x\"},\"y\":{\"field\":\"y\"}},\"id\":\"1176\",\"type\":\"Line\"},{\"attributes\":{},\"id\":\"1209\",\"type\":\"Selection\"},{\"attributes\":{},\"id\":\"1205\",\"type\":\"Selection\"},{\"attributes\":{},\"id\":\"1144\",\"type\":\"LinearScale\"},{\"attributes\":{},\"id\":\"1157\",\"type\":\"WheelZoomTool\"},{\"attributes\":{},\"id\":\"1146\",\"type\":\"LinearScale\"},{\"attributes\":{},\"id\":\"1159\",\"type\":\"SaveTool\"}],\"root_ids\":[\"1139\"]},\"title\":\"Bokeh Application\",\"version\":\"2.0.1\"}};\n",
       "  var render_items = [{\"docid\":\"c35d811e-db69-4080-b8a0-bf02771cda06\",\"root_ids\":[\"1139\"],\"roots\":{\"1139\":\"493e0bb1-037f-4def-ae69-fc9d1f0189f8\"}}];\n",
       "  root.Bokeh.embed.embed_items_notebook(docs_json, render_items);\n",
       "\n",
       "  }\n",
       "  if (root.Bokeh !== undefined) {\n",
       "    embed_document(root);\n",
       "  } else {\n",
       "    var attempts = 0;\n",
       "    var timer = setInterval(function(root) {\n",
       "      if (root.Bokeh !== undefined) {\n",
       "        clearInterval(timer);\n",
       "        embed_document(root);\n",
       "      } else {\n",
       "        attempts++;\n",
       "        if (attempts > 100) {\n",
       "          clearInterval(timer);\n",
       "          console.log(\"Bokeh: ERROR: Unable to run BokehJS code because BokehJS library is missing\");\n",
       "        }\n",
       "      }\n",
       "    }, 10, root)\n",
       "  }\n",
       "})(window);"
      ],
      "application/vnd.bokehjs_exec.v0+json": ""
     },
     "metadata": {
      "application/vnd.bokehjs_exec.v0+json": {
       "id": "1139"
      }
     },
     "output_type": "display_data"
    },
    {
     "name": "stdout",
     "output_type": "stream",
     "text": [
      "\n",
      "class Script_b1f0e7b5527445f78570b925ddaaa943(Script):\n",
      "    def choose_move(self, battle: Battle):\n",
      "    \n",
      "        available_moves = battle.available_moves\n",
      "        if not available_moves:\n",
      "            return random.choice(battle.available_switches)\n",
      "            \n",
      "        dsl = DSL(battle)\n",
      "        move_scores = []\n",
      "        for move in battle.available_moves:\n",
      "            score = 0\n",
      "            if ((dsl.is_special_attacker_and_move_special(move) or dsl.is_not_ineffective(move))):\n",
      "                if ((dsl.is_special_attacker_and_move_special(move) or dsl.is_special_attacker_and_move_special(move))):\n",
      "                    score += 5\n",
      "                if ((dsl.is_sunny_and_move_is_not_water(move) or dsl.is_opponent_primarily_attack_and_is_not_burnt_and_move_is_burning_and_opp_not_afflicted(move))):\n",
      "                    score += -1\n",
      "            if ((dsl.is_sunny_and_move_is_fire(move) or dsl.is_not_ineffective(move))):\n",
      "                if ((dsl.is_special_attacker_and_move_special(move) or dsl.is_hyper_effective(move))):\n",
      "                    score += 8\n",
      "                if (dsl.is_super_effective(move)):\n",
      "                    score += 8\n",
      "            move_scores.append(score)\n",
      "            \n",
      "        best_move = available_moves[move_scores.index(max(move_scores))]\n",
      "        return best_move\n",
      "\n",
      "\n",
      "class Script_5ac58c878380438bbe7a18017e893823(Script):\n",
      "    def choose_move(self, battle: Battle):\n",
      "    \n",
      "        available_moves = battle.available_moves\n",
      "        if not available_moves:\n",
      "            return random.choice(battle.available_switches)\n",
      "            \n",
      "        dsl = DSL(battle)\n",
      "        move_scores = []\n",
      "        for move in battle.available_moves:\n",
      "            score = 0\n",
      "            if (dsl.is_physical_attacker_and_move_physical(move)):\n",
      "                if ((dsl.is_not_ineffective(move) or dsl.is_sunny_and_move_is_fire(move))):\n",
      "                    score += 5\n",
      "            if ((dsl.is_hyper_effective(move) or dsl.is_opponent_primarily_attack_and_is_not_burnt_and_move_is_burning_and_opp_not_afflicted(move))):\n",
      "                if ((dsl.is_super_effective(move) or dsl.is_sunny_and_move_is_not_water(move))):\n",
      "                    score += -6\n",
      "                if (dsl.is_hyper_effective(move)):\n",
      "                    score += -3\n",
      "                if (dsl.is_special_attacker_and_move_special(move)):\n",
      "                    score += -3\n",
      "            move_scores.append(score)\n",
      "            \n",
      "        best_move = available_moves[move_scores.index(max(move_scores))]\n",
      "        return best_move\n",
      "\n",
      "\n",
      "class Script_0a204354604d45d6b3043c204d93a9b3(Script):\n",
      "    def choose_move(self, battle: Battle):\n",
      "    \n",
      "        available_moves = battle.available_moves\n",
      "        if not available_moves:\n",
      "            return random.choice(battle.available_switches)\n",
      "            \n",
      "        dsl = DSL(battle)\n",
      "        move_scores = []\n",
      "        for move in battle.available_moves:\n",
      "            score = 0\n",
      "            if ((dsl.is_physical_attacker_and_move_physical(move) or dsl.is_hyper_effective(move))):\n",
      "                if ((dsl.is_special_attacker_and_move_special(move) or dsl.is_special_attacker_and_move_special(move))):\n",
      "                    score += 5\n",
      "                if ((dsl.is_sunny_and_move_is_not_water(move) or dsl.is_opponent_primarily_attack_and_is_not_burnt_and_move_is_burning_and_opp_not_afflicted(move))):\n",
      "                    score += -1\n",
      "            if ((dsl.is_sunny_and_move_is_fire(move) or dsl.is_not_ineffective(move))):\n",
      "                if ((dsl.is_special_attacker_and_move_special(move) or dsl.is_not_ineffective(move))):\n",
      "                    score += 5\n",
      "                if (dsl.is_super_effective(move)):\n",
      "                    score += 8\n",
      "            move_scores.append(score)\n",
      "            \n",
      "        best_move = available_moves[move_scores.index(max(move_scores))]\n",
      "        return best_move\n",
      "\n"
     ]
    }
   ],
   "source": [
    "from bokeh.plotting import figure, output_file, show, reset_output, output_notebook\n",
    "\n",
    "reset_output()\n",
    "output_notebook()\n",
    "\n",
    "for num_elites, population_cap, num_games in parameter_sets:\n",
    "    fname = get_fname(num_elites, tournament_size, population_cap, epochs, num_games, 'stats')\n",
    "    print(fname)\n",
    "    \n",
    "    xs, ys_high, ys_median, ys_low = load_stats(fname)\n",
    "    p = figure(plot_width=800, plot_height=400, y_range=(15, 40))\n",
    "    p.line(xs, ys_high, line_width=2, alpha=0.3)\n",
    "    p.line(xs, ys_median, line_width=2)\n",
    "    p.line(xs, ys_low, line_width=2, alpha=0.3)\n",
    "\n",
    "    show(p)\n",
    "    \n",
    "    best_scripts = load_population(fname)\n",
    "    for script in best_scripts[:3]:\n",
    "        print(script.raw_script)"
   ]
  },
  {
   "cell_type": "code",
   "execution_count": null,
   "metadata": {},
   "outputs": [],
   "source": []
  }
 ],
 "metadata": {
  "hide_input": false,
  "kernelspec": {
   "display_name": "cmput_659_final",
   "language": "python",
   "name": "cmput_659_final"
  },
  "language_info": {
   "codemirror_mode": {
    "name": "ipython",
    "version": 3
   },
   "file_extension": ".py",
   "mimetype": "text/x-python",
   "name": "python",
   "nbconvert_exporter": "python",
   "pygments_lexer": "ipython3",
   "version": "3.7.5"
  },
  "pycharm": {
   "stem_cell": {
    "cell_type": "raw",
    "metadata": {
     "collapsed": false
    },
    "source": []
   }
  },
  "toc": {
   "base_numbering": 1,
   "nav_menu": {},
   "number_sections": true,
   "sideBar": true,
   "skip_h1_title": false,
   "title_cell": "Table of Contents",
   "title_sidebar": "Contents",
   "toc_cell": false,
   "toc_position": {},
   "toc_section_display": true,
   "toc_window_display": false
  }
 },
 "nbformat": 4,
 "nbformat_minor": 2
}
